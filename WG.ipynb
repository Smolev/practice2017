{
 "cells": [
  {
   "cell_type": "markdown",
   "metadata": {},
   "source": [
    "# Владимир Смолев\n",
    "## Практика в WebGame\n",
    "## Предсказание конверта в плательщика по первому дню игры\n",
    "\n",
    "Задание:\n",
    "Имея данные за первый день/два игры, необходимо предсказать вероятность того, что игрок станет плательщиком. Бонус: предсказать тип плательщика (после их стандартной классификации на китов, дельфинов, пескарей и пр.)\n"
   ]
  },
  {
   "cell_type": "markdown",
   "metadata": {},
   "source": [
    "Импортирую библиотеки"
   ]
  },
  {
   "cell_type": "code",
   "execution_count": 1,
   "metadata": {
    "collapsed": true
   },
   "outputs": [],
   "source": [
    "import pandas as pd\n",
    "import numpy as np\n",
    "%matplotlib inline"
   ]
  },
  {
   "cell_type": "markdown",
   "metadata": {},
   "source": [
    "Загружаю таблички."
   ]
  },
  {
   "cell_type": "code",
   "execution_count": 2,
   "metadata": {
    "collapsed": true
   },
   "outputs": [],
   "source": [
    "practice_dau = pd.read_csv('practice_dau_and.csv', sep='|', names = ['id', 'country','number_of_pgr', 'actdate'])"
   ]
  },
  {
   "cell_type": "code",
   "execution_count": 3,
   "metadata": {
    "collapsed": true
   },
   "outputs": [],
   "source": [
    "practice_pact = pd.read_csv('practice_pact_and.csv', sep='|', names = ['id', 'actdate', 'regdate', 'clusters_ml_ended',\n",
    "                                                                      'revenue', 'transactions', 'quests_end',\n",
    "                                                                       'm_quests_end', 'crystals_value_spend',\n",
    "                                                                       'store_enters'])"
   ]
  },
  {
   "cell_type": "code",
   "execution_count": 4,
   "metadata": {
    "collapsed": true
   },
   "outputs": [],
   "source": [
    "practice_sessions = pd.read_csv('practice_sessions_and.csv', sep='|', names = ['id', 'session_number','session_length',\n",
    "                                                                              'session_start_time', 'session_end_time',\n",
    "                                                                              'actdate'])"
   ]
  },
  {
   "cell_type": "markdown",
   "metadata": {},
   "source": [
    "## Описание данных.\n",
    "### 1. practice_dau - ежедневные сообщения с устройства игрока\n",
    "id - идентификатор игрока;\n",
    "\n",
    "сountry - страна;\n",
    "\n",
    "number_of_pgr - количество PGR-сообщений (их шлет устройство во время игры);\n",
    "\n",
    "actdate - дата события."
   ]
  },
  {
   "cell_type": "markdown",
   "metadata": {},
   "source": [
    "### 2. practice_pact - агрегированные данные о деятельности игрока в этот день\n",
    "id - идентификатор игрока;\n",
    "\n",
    "actdate - дата события;\n",
    "\n",
    "regdate - дата регистрации игрока;\n",
    "\n",
    "clusters_ml_ended - сколько кластеров (кластеры состоят из квестов) основной сюжетной линии прошел игрок;\n",
    "\n",
    "revenue - прибыль с игрока;\n",
    "\n",
    "transactions - количество платежей;\n",
    "\n",
    "quests_end - сколько побочных квестов прошел игрок;\n",
    "\n",
    "m_quests_end - сколько квестов основной сюжетной линии прошел игрок;\n",
    "\n",
    "crystals_value_spend - сколько кристаллов (в определенной нормировке) потратил игрок;\n",
    "\n",
    "store_enters - сколько раз игрок зашел в магазин."
   ]
  },
  {
   "cell_type": "markdown",
   "metadata": {},
   "source": [
    "### 3.  practice_sessions - данные о сессиях игрока\n",
    "id - идентификатор игрока;\n",
    "\n",
    "session_number - порядковый номер сессии игрока;\n",
    "\n",
    "session_length - длина сессии;\n",
    "\n",
    "session_start_time - время начала сессии,\n",
    "\n",
    "session_end_time - время окончания сессии,\n",
    "\n",
    "actdate - дата события."
   ]
  },
  {
   "cell_type": "markdown",
   "metadata": {},
   "source": [
    "Посмотрим на данные."
   ]
  },
  {
   "cell_type": "code",
   "execution_count": 5,
   "metadata": {
    "scrolled": true
   },
   "outputs": [
    {
     "name": "stdout",
     "output_type": "stream",
     "text": [
      "(8519524, 4)\n"
     ]
    },
    {
     "data": {
      "text/html": [
       "<div>\n",
       "<style>\n",
       "    .dataframe thead tr:only-child th {\n",
       "        text-align: right;\n",
       "    }\n",
       "\n",
       "    .dataframe thead th {\n",
       "        text-align: left;\n",
       "    }\n",
       "\n",
       "    .dataframe tbody tr th {\n",
       "        vertical-align: top;\n",
       "    }\n",
       "</style>\n",
       "<table border=\"1\" class=\"dataframe\">\n",
       "  <thead>\n",
       "    <tr style=\"text-align: right;\">\n",
       "      <th></th>\n",
       "      <th>id</th>\n",
       "      <th>country</th>\n",
       "      <th>number_of_pgr</th>\n",
       "      <th>actdate</th>\n",
       "    </tr>\n",
       "  </thead>\n",
       "  <tbody>\n",
       "    <tr>\n",
       "      <th>0</th>\n",
       "      <td>c7a56d9eee</td>\n",
       "      <td>FR</td>\n",
       "      <td>33</td>\n",
       "      <td>2017-01-01</td>\n",
       "    </tr>\n",
       "    <tr>\n",
       "      <th>1</th>\n",
       "      <td>bd4b8c265d</td>\n",
       "      <td>GB</td>\n",
       "      <td>47</td>\n",
       "      <td>2017-01-20</td>\n",
       "    </tr>\n",
       "    <tr>\n",
       "      <th>2</th>\n",
       "      <td>bd4b8c265d</td>\n",
       "      <td>GB</td>\n",
       "      <td>6</td>\n",
       "      <td>2017-01-27</td>\n",
       "    </tr>\n",
       "    <tr>\n",
       "      <th>3</th>\n",
       "      <td>bd4b8c265d</td>\n",
       "      <td>GB</td>\n",
       "      <td>11</td>\n",
       "      <td>2017-01-25</td>\n",
       "    </tr>\n",
       "    <tr>\n",
       "      <th>4</th>\n",
       "      <td>bd4b8c265d</td>\n",
       "      <td>GB</td>\n",
       "      <td>78</td>\n",
       "      <td>2017-02-05</td>\n",
       "    </tr>\n",
       "  </tbody>\n",
       "</table>\n",
       "</div>"
      ],
      "text/plain": [
       "           id country  number_of_pgr    actdate\n",
       "0  c7a56d9eee      FR             33 2017-01-01\n",
       "1  bd4b8c265d      GB             47 2017-01-20\n",
       "2  bd4b8c265d      GB              6 2017-01-27\n",
       "3  bd4b8c265d      GB             11 2017-01-25\n",
       "4  bd4b8c265d      GB             78 2017-02-05"
      ]
     },
     "execution_count": 5,
     "metadata": {},
     "output_type": "execute_result"
    }
   ],
   "source": [
    "print(practice_dau.shape)\n",
    "practice_dau['actdate'] = pd.to_datetime(practice_dau['actdate'])\n",
    "practice_dau.head(5)"
   ]
  },
  {
   "cell_type": "code",
   "execution_count": 6,
   "metadata": {
    "scrolled": true
   },
   "outputs": [
    {
     "name": "stdout",
     "output_type": "stream",
     "text": [
      "(5919245, 10)\n"
     ]
    },
    {
     "data": {
      "text/html": [
       "<div>\n",
       "<style>\n",
       "    .dataframe thead tr:only-child th {\n",
       "        text-align: right;\n",
       "    }\n",
       "\n",
       "    .dataframe thead th {\n",
       "        text-align: left;\n",
       "    }\n",
       "\n",
       "    .dataframe tbody tr th {\n",
       "        vertical-align: top;\n",
       "    }\n",
       "</style>\n",
       "<table border=\"1\" class=\"dataframe\">\n",
       "  <thead>\n",
       "    <tr style=\"text-align: right;\">\n",
       "      <th></th>\n",
       "      <th>id</th>\n",
       "      <th>actdate</th>\n",
       "      <th>regdate</th>\n",
       "      <th>clusters_ml_ended</th>\n",
       "      <th>revenue</th>\n",
       "      <th>transactions</th>\n",
       "      <th>quests_end</th>\n",
       "      <th>m_quests_end</th>\n",
       "      <th>crystals_value_spend</th>\n",
       "      <th>store_enters</th>\n",
       "    </tr>\n",
       "  </thead>\n",
       "  <tbody>\n",
       "    <tr>\n",
       "      <th>0</th>\n",
       "      <td>abee37a4e1</td>\n",
       "      <td>2017-01-01</td>\n",
       "      <td>2017-01-01</td>\n",
       "      <td>7</td>\n",
       "      <td>0.0</td>\n",
       "      <td>0</td>\n",
       "      <td>61</td>\n",
       "      <td>13</td>\n",
       "      <td>0</td>\n",
       "      <td>0</td>\n",
       "    </tr>\n",
       "    <tr>\n",
       "      <th>1</th>\n",
       "      <td>6fbbafd123</td>\n",
       "      <td>2017-01-01</td>\n",
       "      <td>2017-01-01</td>\n",
       "      <td>5</td>\n",
       "      <td>0.0</td>\n",
       "      <td>0</td>\n",
       "      <td>73</td>\n",
       "      <td>14</td>\n",
       "      <td>0</td>\n",
       "      <td>0</td>\n",
       "    </tr>\n",
       "    <tr>\n",
       "      <th>2</th>\n",
       "      <td>23c025efd0</td>\n",
       "      <td>2017-01-01</td>\n",
       "      <td>2017-01-01</td>\n",
       "      <td>7</td>\n",
       "      <td>0.0</td>\n",
       "      <td>0</td>\n",
       "      <td>91</td>\n",
       "      <td>17</td>\n",
       "      <td>0</td>\n",
       "      <td>0</td>\n",
       "    </tr>\n",
       "    <tr>\n",
       "      <th>3</th>\n",
       "      <td>8f4b043ead</td>\n",
       "      <td>2017-01-01</td>\n",
       "      <td>2017-01-01</td>\n",
       "      <td>2</td>\n",
       "      <td>0.0</td>\n",
       "      <td>0</td>\n",
       "      <td>14</td>\n",
       "      <td>1</td>\n",
       "      <td>0</td>\n",
       "      <td>0</td>\n",
       "    </tr>\n",
       "    <tr>\n",
       "      <th>4</th>\n",
       "      <td>1bdb89a697</td>\n",
       "      <td>2017-01-01</td>\n",
       "      <td>2017-01-01</td>\n",
       "      <td>2</td>\n",
       "      <td>0.0</td>\n",
       "      <td>0</td>\n",
       "      <td>11</td>\n",
       "      <td>0</td>\n",
       "      <td>0</td>\n",
       "      <td>0</td>\n",
       "    </tr>\n",
       "  </tbody>\n",
       "</table>\n",
       "</div>"
      ],
      "text/plain": [
       "           id    actdate    regdate  clusters_ml_ended  revenue  transactions  \\\n",
       "0  abee37a4e1 2017-01-01 2017-01-01                  7      0.0             0   \n",
       "1  6fbbafd123 2017-01-01 2017-01-01                  5      0.0             0   \n",
       "2  23c025efd0 2017-01-01 2017-01-01                  7      0.0             0   \n",
       "3  8f4b043ead 2017-01-01 2017-01-01                  2      0.0             0   \n",
       "4  1bdb89a697 2017-01-01 2017-01-01                  2      0.0             0   \n",
       "\n",
       "   quests_end  m_quests_end  crystals_value_spend  store_enters  \n",
       "0          61            13                     0             0  \n",
       "1          73            14                     0             0  \n",
       "2          91            17                     0             0  \n",
       "3          14             1                     0             0  \n",
       "4          11             0                     0             0  "
      ]
     },
     "execution_count": 6,
     "metadata": {},
     "output_type": "execute_result"
    }
   ],
   "source": [
    "print(practice_pact.shape)\n",
    "practice_pact['actdate'] = pd.to_datetime(practice_pact['actdate'])\n",
    "practice_pact['regdate'] = pd.to_datetime(practice_pact['regdate'])\n",
    "practice_pact.head(5)"
   ]
  },
  {
   "cell_type": "code",
   "execution_count": 8,
   "metadata": {},
   "outputs": [
    {
     "data": {
      "text/plain": [
       "<matplotlib.axes._subplots.AxesSubplot at 0x29cc4151860>"
      ]
     },
     "execution_count": 8,
     "metadata": {},
     "output_type": "execute_result"
    },
    {
     "data": {
      "image/png": "[encoded data removed]",
      "text/plain": [
       "<matplotlib.figure.Figure at 0x29cc41512b0>"
      ]
     },
     "metadata": {},
     "output_type": "display_data"
    }
   ],
   "source": [
    "import matplotlib.pyplot as plt\n",
    "practice_pact.quests_end.hist(bins=50)"
   ]
  },
  {
   "cell_type": "code",
   "execution_count": 9,
   "metadata": {
    "scrolled": true
   },
   "outputs": [
    {
     "name": "stdout",
     "output_type": "stream",
     "text": [
      "(32533314, 6)\n"
     ]
    },
    {
     "data": {
      "text/html": [
       "<div>\n",
       "<style>\n",
       "    .dataframe thead tr:only-child th {\n",
       "        text-align: right;\n",
       "    }\n",
       "\n",
       "    .dataframe thead th {\n",
       "        text-align: left;\n",
       "    }\n",
       "\n",
       "    .dataframe tbody tr th {\n",
       "        vertical-align: top;\n",
       "    }\n",
       "</style>\n",
       "<table border=\"1\" class=\"dataframe\">\n",
       "  <thead>\n",
       "    <tr style=\"text-align: right;\">\n",
       "      <th></th>\n",
       "      <th>id</th>\n",
       "      <th>session_number</th>\n",
       "      <th>session_length</th>\n",
       "      <th>session_start_time</th>\n",
       "      <th>session_end_time</th>\n",
       "      <th>actdate</th>\n",
       "    </tr>\n",
       "  </thead>\n",
       "  <tbody>\n",
       "    <tr>\n",
       "      <th>0</th>\n",
       "      <td>14d94a58b7</td>\n",
       "      <td>13.0</td>\n",
       "      <td>57</td>\n",
       "      <td>18:14:49</td>\n",
       "      <td>18:15:46</td>\n",
       "      <td>2017-01-25</td>\n",
       "    </tr>\n",
       "    <tr>\n",
       "      <th>1</th>\n",
       "      <td>26620badd1</td>\n",
       "      <td>4.0</td>\n",
       "      <td>132</td>\n",
       "      <td>01:33:40</td>\n",
       "      <td>01:35:52</td>\n",
       "      <td>2017-01-06</td>\n",
       "    </tr>\n",
       "    <tr>\n",
       "      <th>2</th>\n",
       "      <td>01d7674aa8</td>\n",
       "      <td>7.0</td>\n",
       "      <td>83</td>\n",
       "      <td>21:34:41</td>\n",
       "      <td>21:36:04</td>\n",
       "      <td>2017-02-09</td>\n",
       "    </tr>\n",
       "    <tr>\n",
       "      <th>3</th>\n",
       "      <td>14611edffb</td>\n",
       "      <td>3.0</td>\n",
       "      <td>211</td>\n",
       "      <td>13:22:15</td>\n",
       "      <td>13:25:46</td>\n",
       "      <td>2017-02-06</td>\n",
       "    </tr>\n",
       "    <tr>\n",
       "      <th>4</th>\n",
       "      <td>3c13bd2cec</td>\n",
       "      <td>2.0</td>\n",
       "      <td>1206</td>\n",
       "      <td>08:37:45</td>\n",
       "      <td>08:57:51</td>\n",
       "      <td>2017-02-05</td>\n",
       "    </tr>\n",
       "  </tbody>\n",
       "</table>\n",
       "</div>"
      ],
      "text/plain": [
       "           id  session_number  session_length session_start_time  \\\n",
       "0  14d94a58b7            13.0              57           18:14:49   \n",
       "1  26620badd1             4.0             132           01:33:40   \n",
       "2  01d7674aa8             7.0              83           21:34:41   \n",
       "3  14611edffb             3.0             211           13:22:15   \n",
       "4  3c13bd2cec             2.0            1206           08:37:45   \n",
       "\n",
       "  session_end_time    actdate  \n",
       "0         18:15:46 2017-01-25  \n",
       "1         01:35:52 2017-01-06  \n",
       "2         21:36:04 2017-02-09  \n",
       "3         13:25:46 2017-02-06  \n",
       "4         08:57:51 2017-02-05  "
      ]
     },
     "execution_count": 9,
     "metadata": {},
     "output_type": "execute_result"
    }
   ],
   "source": [
    "print(practice_sessions.shape)\n",
    "practice_sessions['actdate'] = pd.to_datetime(practice_sessions['actdate'])\n",
    "practice_sessions['session_start_time'] = pd.to_datetime(practice_sessions['session_start_time'], unit='s') - practice_sessions['actdate']\n",
    "practice_sessions['session_end_time'] = pd.to_datetime(practice_sessions['session_end_time'], unit='s') - practice_sessions['actdate']\n",
    "practice_sessions.head(5)"
   ]
  },
  {
   "cell_type": "markdown",
   "metadata": {},
   "source": [
    "Проверим значения в выгруженных таблицах. Есть ли там пропущенные значения."
   ]
  },
  {
   "cell_type": "code",
   "execution_count": 10,
   "metadata": {},
   "outputs": [
    {
     "name": "stdout",
     "output_type": "stream",
     "text": [
      "Всего 1715\n",
      "id                  0\n",
      "country          1715\n",
      "number_of_pgr       0\n",
      "actdate             0\n",
      "dtype: int64\n"
     ]
    }
   ],
   "source": [
    "print('Всего', practice_dau.isnull().sum().sum() )\n",
    "print(practice_dau.isnull().sum())"
   ]
  },
  {
   "cell_type": "code",
   "execution_count": 11,
   "metadata": {},
   "outputs": [
    {
     "name": "stdout",
     "output_type": "stream",
     "text": [
      "Всего 0\n",
      "id                      0\n",
      "actdate                 0\n",
      "regdate                 0\n",
      "clusters_ml_ended       0\n",
      "revenue                 0\n",
      "transactions            0\n",
      "quests_end              0\n",
      "m_quests_end            0\n",
      "crystals_value_spend    0\n",
      "store_enters            0\n",
      "dtype: int64\n"
     ]
    }
   ],
   "source": [
    "print('Всего', practice_pact.isnull().sum().sum() )\n",
    "print(practice_pact.isnull().sum())"
   ]
  },
  {
   "cell_type": "code",
   "execution_count": 12,
   "metadata": {
    "scrolled": true
   },
   "outputs": [
    {
     "name": "stdout",
     "output_type": "stream",
     "text": [
      "Всего 23632945\n",
      "id                           0\n",
      "session_number        23632945\n",
      "session_length               0\n",
      "session_start_time           0\n",
      "session_end_time             0\n",
      "actdate                      0\n",
      "dtype: int64\n"
     ]
    }
   ],
   "source": [
    "print('Всего', practice_sessions.isnull().sum().sum() )\n",
    "print(practice_sessions.isnull().sum())"
   ]
  },
  {
   "cell_type": "code",
   "execution_count": 13,
   "metadata": {},
   "outputs": [
    {
     "data": {
      "text/plain": [
       "0.7264229214398509"
      ]
     },
     "execution_count": 13,
     "metadata": {},
     "output_type": "execute_result"
    }
   ],
   "source": [
    "23632945/practice_sessions.shape[0]"
   ]
  },
  {
   "cell_type": "markdown",
   "metadata": {},
   "source": [
    "В двух таблицах есть пропущенные значения. (Спросить что с ними делать)\n",
    "В таблице по сессиим нет номера сессии в 72%. Но так то это не важно. Можно восстановить по дате если понадобится."
   ]
  },
  {
   "cell_type": "code",
   "execution_count": 14,
   "metadata": {
    "scrolled": true
   },
   "outputs": [
    {
     "name": "stdout",
     "output_type": "stream",
     "text": [
      "clusters_ml_ended,min: -2, max 98, mean 8.330775799954218\n",
      "revenue,min: 0.0, max 184607.43, mean 108.17581413345603\n",
      "transactions,min: 0, max 83, mean 0.024564281424404633\n",
      "quests_end,min: 0, max 796, mean 15.195209524187629\n",
      "m_quests_end,min: 0, max 141, mean 3.2064535257452595\n",
      "crystals_value_spend,min: 0, max 0, mean 0.0\n",
      "store_enters,min: 0, max 0, mean 0.0\n"
     ]
    }
   ],
   "source": [
    "for i in practice_pact.columns[3:]:\n",
    "    print('%(id)s,min: %(min)s, max %(max)s, mean %(mean)s' %\n",
    "          {'id': i, 'min': practice_pact[i].min(), 'max':practice_pact[i].max(), 'mean':practice_pact[i].mean() })"
   ]
  },
  {
   "cell_type": "markdown",
   "metadata": {},
   "source": [
    "Выберем данные с которыми будем работатью. "
   ]
  },
  {
   "cell_type": "markdown",
   "metadata": {},
   "source": [
    "Найдем дни активности пользователей совпадающие с регистрацией."
   ]
  },
  {
   "cell_type": "code",
   "execution_count": 15,
   "metadata": {},
   "outputs": [
    {
     "name": "stdout",
     "output_type": "stream",
     "text": [
      "Кол-во активности в день регистрации (2060626, 10)\n",
      "Кол-во уникальных id (2016708,)\n"
     ]
    }
   ],
   "source": [
    "print('Кол-во активности в день регистрации',\n",
    "      practice_pact[practice_pact['actdate'] == practice_pact['regdate']].shape)\n",
    "print('Кол-во уникальных id',\n",
    "      practice_pact[practice_pact['actdate'] == practice_pact['regdate']]['id'].unique().shape)"
   ]
  },
  {
   "cell_type": "markdown",
   "metadata": {},
   "source": [
    "Получается, что регистрация и активность дня совпадала для некоторых id."
   ]
  },
  {
   "cell_type": "markdown",
   "metadata": {},
   "source": [
    "Эти пользователи регистрировались несколько раз."
   ]
  },
  {
   "cell_type": "code",
   "execution_count": 16,
   "metadata": {
    "collapsed": true
   },
   "outputs": [],
   "source": [
    "#Данные о первом дне всех(включая дважды зареганных)\n",
    "first_day = practice_pact[practice_pact['actdate'] == practice_pact['regdate']]"
   ]
  },
  {
   "cell_type": "code",
   "execution_count": 17,
   "metadata": {
    "collapsed": true
   },
   "outputs": [],
   "source": [
    "#Те, кто регестрировался несколько раз, берем первый\n",
    "first_day = pd.merge(first_day, practice_pact.groupby('id', as_index= False).min()[['id', 'regdate']], on=['id', 'regdate'], how='inner')"
   ]
  },
  {
   "cell_type": "code",
   "execution_count": 18,
   "metadata": {
    "collapsed": true
   },
   "outputs": [],
   "source": [
    "first_day = first_day[first_day['revenue'] == 0]\n",
    "#Те, кто заплатил в первый день не интересны."
   ]
  },
  {
   "cell_type": "code",
   "execution_count": 19,
   "metadata": {},
   "outputs": [
    {
     "name": "stdout",
     "output_type": "stream",
     "text": [
      "(2009208, 10)\n"
     ]
    },
    {
     "data": {
      "text/html": [
       "<div>\n",
       "<style>\n",
       "    .dataframe thead tr:only-child th {\n",
       "        text-align: right;\n",
       "    }\n",
       "\n",
       "    .dataframe thead th {\n",
       "        text-align: left;\n",
       "    }\n",
       "\n",
       "    .dataframe tbody tr th {\n",
       "        vertical-align: top;\n",
       "    }\n",
       "</style>\n",
       "<table border=\"1\" class=\"dataframe\">\n",
       "  <thead>\n",
       "    <tr style=\"text-align: right;\">\n",
       "      <th></th>\n",
       "      <th>id</th>\n",
       "      <th>actdate</th>\n",
       "      <th>regdate</th>\n",
       "      <th>clusters_ml_ended</th>\n",
       "      <th>revenue</th>\n",
       "      <th>transactions</th>\n",
       "      <th>quests_end</th>\n",
       "      <th>m_quests_end</th>\n",
       "      <th>crystals_value_spend</th>\n",
       "      <th>store_enters</th>\n",
       "    </tr>\n",
       "  </thead>\n",
       "  <tbody>\n",
       "    <tr>\n",
       "      <th>0</th>\n",
       "      <td>abee37a4e1</td>\n",
       "      <td>2017-01-01</td>\n",
       "      <td>2017-01-01</td>\n",
       "      <td>7</td>\n",
       "      <td>0.0</td>\n",
       "      <td>0</td>\n",
       "      <td>61</td>\n",
       "      <td>13</td>\n",
       "      <td>0</td>\n",
       "      <td>0</td>\n",
       "    </tr>\n",
       "    <tr>\n",
       "      <th>1</th>\n",
       "      <td>6fbbafd123</td>\n",
       "      <td>2017-01-01</td>\n",
       "      <td>2017-01-01</td>\n",
       "      <td>5</td>\n",
       "      <td>0.0</td>\n",
       "      <td>0</td>\n",
       "      <td>73</td>\n",
       "      <td>14</td>\n",
       "      <td>0</td>\n",
       "      <td>0</td>\n",
       "    </tr>\n",
       "    <tr>\n",
       "      <th>2</th>\n",
       "      <td>23c025efd0</td>\n",
       "      <td>2017-01-01</td>\n",
       "      <td>2017-01-01</td>\n",
       "      <td>7</td>\n",
       "      <td>0.0</td>\n",
       "      <td>0</td>\n",
       "      <td>91</td>\n",
       "      <td>17</td>\n",
       "      <td>0</td>\n",
       "      <td>0</td>\n",
       "    </tr>\n",
       "    <tr>\n",
       "      <th>3</th>\n",
       "      <td>8f4b043ead</td>\n",
       "      <td>2017-01-01</td>\n",
       "      <td>2017-01-01</td>\n",
       "      <td>2</td>\n",
       "      <td>0.0</td>\n",
       "      <td>0</td>\n",
       "      <td>14</td>\n",
       "      <td>1</td>\n",
       "      <td>0</td>\n",
       "      <td>0</td>\n",
       "    </tr>\n",
       "    <tr>\n",
       "      <th>4</th>\n",
       "      <td>1bdb89a697</td>\n",
       "      <td>2017-01-01</td>\n",
       "      <td>2017-01-01</td>\n",
       "      <td>2</td>\n",
       "      <td>0.0</td>\n",
       "      <td>0</td>\n",
       "      <td>11</td>\n",
       "      <td>0</td>\n",
       "      <td>0</td>\n",
       "      <td>0</td>\n",
       "    </tr>\n",
       "  </tbody>\n",
       "</table>\n",
       "</div>"
      ],
      "text/plain": [
       "           id    actdate    regdate  clusters_ml_ended  revenue  transactions  \\\n",
       "0  abee37a4e1 2017-01-01 2017-01-01                  7      0.0             0   \n",
       "1  6fbbafd123 2017-01-01 2017-01-01                  5      0.0             0   \n",
       "2  23c025efd0 2017-01-01 2017-01-01                  7      0.0             0   \n",
       "3  8f4b043ead 2017-01-01 2017-01-01                  2      0.0             0   \n",
       "4  1bdb89a697 2017-01-01 2017-01-01                  2      0.0             0   \n",
       "\n",
       "   quests_end  m_quests_end  crystals_value_spend  store_enters  \n",
       "0          61            13                     0             0  \n",
       "1          73            14                     0             0  \n",
       "2          91            17                     0             0  \n",
       "3          14             1                     0             0  \n",
       "4          11             0                     0             0  "
      ]
     },
     "execution_count": 19,
     "metadata": {},
     "output_type": "execute_result"
    }
   ],
   "source": [
    "print(first_day.shape)\n",
    "first_day.head()"
   ]
  },
  {
   "cell_type": "code",
   "execution_count": 21,
   "metadata": {},
   "outputs": [
    {
     "data": {
      "text/plain": [
       "\"Список id для которых есть повторы\\nbad_id = practice_pact[practice_pact['actdate'] == practice_pact['regdate']]['id'].value_counts()[practice_pact[practice_pact['actdate'] == practice_pact['regdate']]['id'].value_counts() > 1].index\\nbad_id\\ndef bad_column(id):\\n    return int(id in bad_id)\\nbad_column = practice_pact['id'].apply(bad_column)\\npractice_pact['bad_column_id'] = bad_column\\npractice_pact.drop(practice_pact[practice_pact['bad_column_id'] == 1].index, axis = 0, inplace = True)\\npractice_pact.drop('bad_column_id', axis = 1, inplace = True)\\n\""
      ]
     },
     "execution_count": 21,
     "metadata": {},
     "output_type": "execute_result"
    }
   ],
   "source": [
    "'''Список id для которых есть повторы\n",
    "Уберу id которые дважды регистрировались\n",
    "bad_id = practice_pact[practice_pact['actdate'] == practice_pact['regdate']]['id'].value_counts()[practice_pact[practice_pact['actdate'] == practice_pact['regdate']]['id'].value_counts() > 1].index\n",
    "bad_id\n",
    "def bad_column(id):\n",
    "    return int(id in bad_id)\n",
    "bad_column = practice_pact['id'].apply(bad_column)\n",
    "practice_pact['bad_column_id'] = bad_column\n",
    "practice_pact.drop(practice_pact[practice_pact['bad_column_id'] == 1].index, axis = 0, inplace = True)\n",
    "practice_pact.drop('bad_column_id', axis = 1, inplace = True)\n",
    "'''"
   ]
  },
  {
   "cell_type": "code",
   "execution_count": 20,
   "metadata": {
    "collapsed": true
   },
   "outputs": [],
   "source": [
    "revenue_positive_id = practice_pact.groupby('id').sum()[practice_pact.groupby('id').sum()['revenue'] > 0].index\n",
    "#Там, где будет единица в целевой переменной"
   ]
  },
  {
   "cell_type": "code",
   "execution_count": 19,
   "metadata": {
    "collapsed": true
   },
   "outputs": [],
   "source": [
    "new_data_fd = pd.merge(first_day, practice_sessions, on=['id', 'actdate'], how='inner')\n",
    "#добавлю данные о сессиях в первый день"
   ]
  },
  {
   "cell_type": "code",
   "execution_count": 20,
   "metadata": {
    "collapsed": true
   },
   "outputs": [],
   "source": [
    "amount_visits_fd = pd.DataFrame(data = np.array([new_data_fd['id'].value_counts().index, new_data_fd['id'].value_counts().values]).T, columns=['id', 'amount_visits'])\n",
    "#Количетсво посещений в первый день"
   ]
  },
  {
   "cell_type": "code",
   "execution_count": 21,
   "metadata": {
    "collapsed": true
   },
   "outputs": [],
   "source": [
    "first_day = pd.merge(first_day, amount_visits_fd, on=['id'], how='inner')\n",
    "first_day = pd.merge(first_day, new_data_fd.groupby('id', as_index = False).sum()[['id', 'session_length']], on=['id'], how='inner')\n",
    "first_day = pd.merge(first_day, new_data_fd.groupby('id', as_index = False).min()[['id', 'session_start_time','session_end_time']], on=['id'], how='inner')\n",
    "#добавим к данным количество посещений,длину всех посещений в первый день и информацию о самом первом заходе"
   ]
  },
  {
   "cell_type": "code",
   "execution_count": 22,
   "metadata": {
    "collapsed": true
   },
   "outputs": [],
   "source": [
    "first_day.drop(['store_enters', 'revenue', 'regdate', 'transactions', 'crystals_value_spend'], axis = 1, inplace = True)\n",
    "#они вроде нулевые => уберем"
   ]
  },
  {
   "cell_type": "code",
   "execution_count": 23,
   "metadata": {
    "collapsed": true
   },
   "outputs": [],
   "source": [
    "first_day['average_visit'] = first_day['session_length']/first_day['amount_visits']"
   ]
  },
  {
   "cell_type": "code",
   "execution_count": 24,
   "metadata": {
    "scrolled": false
   },
   "outputs": [
    {
     "data": {
      "text/html": [
       "<div>\n",
       "<style>\n",
       "    .dataframe thead tr:only-child th {\n",
       "        text-align: right;\n",
       "    }\n",
       "\n",
       "    .dataframe thead th {\n",
       "        text-align: left;\n",
       "    }\n",
       "\n",
       "    .dataframe tbody tr th {\n",
       "        vertical-align: top;\n",
       "    }\n",
       "</style>\n",
       "<table border=\"1\" class=\"dataframe\">\n",
       "  <thead>\n",
       "    <tr style=\"text-align: right;\">\n",
       "      <th></th>\n",
       "      <th>id</th>\n",
       "      <th>actdate</th>\n",
       "      <th>clusters_ml_ended</th>\n",
       "      <th>quests_end</th>\n",
       "      <th>m_quests_end</th>\n",
       "      <th>amount_visits</th>\n",
       "      <th>session_length</th>\n",
       "      <th>session_start_time</th>\n",
       "      <th>session_end_time</th>\n",
       "      <th>average_visit</th>\n",
       "    </tr>\n",
       "  </thead>\n",
       "  <tbody>\n",
       "    <tr>\n",
       "      <th>0</th>\n",
       "      <td>abee37a4e1</td>\n",
       "      <td>2017-01-01</td>\n",
       "      <td>7</td>\n",
       "      <td>61</td>\n",
       "      <td>13</td>\n",
       "      <td>6</td>\n",
       "      <td>5873</td>\n",
       "      <td>08:57:58</td>\n",
       "      <td>09:28:24</td>\n",
       "      <td>978.833</td>\n",
       "    </tr>\n",
       "    <tr>\n",
       "      <th>1</th>\n",
       "      <td>6fbbafd123</td>\n",
       "      <td>2017-01-01</td>\n",
       "      <td>5</td>\n",
       "      <td>73</td>\n",
       "      <td>14</td>\n",
       "      <td>6</td>\n",
       "      <td>7735</td>\n",
       "      <td>17:21:00</td>\n",
       "      <td>17:51:47</td>\n",
       "      <td>1289.17</td>\n",
       "    </tr>\n",
       "    <tr>\n",
       "      <th>2</th>\n",
       "      <td>23c025efd0</td>\n",
       "      <td>2017-01-01</td>\n",
       "      <td>7</td>\n",
       "      <td>91</td>\n",
       "      <td>17</td>\n",
       "      <td>4</td>\n",
       "      <td>6907</td>\n",
       "      <td>10:53:15</td>\n",
       "      <td>11:33:07</td>\n",
       "      <td>1726.75</td>\n",
       "    </tr>\n",
       "    <tr>\n",
       "      <th>3</th>\n",
       "      <td>8f4b043ead</td>\n",
       "      <td>2017-01-01</td>\n",
       "      <td>2</td>\n",
       "      <td>14</td>\n",
       "      <td>1</td>\n",
       "      <td>1</td>\n",
       "      <td>1424</td>\n",
       "      <td>21:50:46</td>\n",
       "      <td>22:14:30</td>\n",
       "      <td>1424</td>\n",
       "    </tr>\n",
       "    <tr>\n",
       "      <th>4</th>\n",
       "      <td>1bdb89a697</td>\n",
       "      <td>2017-01-01</td>\n",
       "      <td>2</td>\n",
       "      <td>11</td>\n",
       "      <td>0</td>\n",
       "      <td>1</td>\n",
       "      <td>521</td>\n",
       "      <td>02:52:00</td>\n",
       "      <td>03:00:41</td>\n",
       "      <td>521</td>\n",
       "    </tr>\n",
       "  </tbody>\n",
       "</table>\n",
       "</div>"
      ],
      "text/plain": [
       "           id    actdate  clusters_ml_ended  quests_end  m_quests_end  \\\n",
       "0  abee37a4e1 2017-01-01                  7          61            13   \n",
       "1  6fbbafd123 2017-01-01                  5          73            14   \n",
       "2  23c025efd0 2017-01-01                  7          91            17   \n",
       "3  8f4b043ead 2017-01-01                  2          14             1   \n",
       "4  1bdb89a697 2017-01-01                  2          11             0   \n",
       "\n",
       "  amount_visits  session_length session_start_time session_end_time  \\\n",
       "0             6            5873           08:57:58         09:28:24   \n",
       "1             6            7735           17:21:00         17:51:47   \n",
       "2             4            6907           10:53:15         11:33:07   \n",
       "3             1            1424           21:50:46         22:14:30   \n",
       "4             1             521           02:52:00         03:00:41   \n",
       "\n",
       "  average_visit  \n",
       "0       978.833  \n",
       "1       1289.17  \n",
       "2       1726.75  \n",
       "3          1424  \n",
       "4           521  "
      ]
     },
     "execution_count": 24,
     "metadata": {},
     "output_type": "execute_result"
    }
   ],
   "source": [
    "first_day.head()"
   ]
  },
  {
   "cell_type": "markdown",
   "metadata": {},
   "source": [
    "Разберемся с первой таблицей. Добавим данные по стране и колчиству сообщений от устройства."
   ]
  },
  {
   "cell_type": "code",
   "execution_count": 25,
   "metadata": {
    "collapsed": true
   },
   "outputs": [],
   "source": [
    "#у некоторых пользователей нет страны, заполним пропуск\n",
    "practice_dau.fillna(value='NAN', inplace = True)"
   ]
  },
  {
   "cell_type": "code",
   "execution_count": 1,
   "metadata": {
    "collapsed": true
   },
   "outputs": [],
   "source": [
    " country_dict = {'--': 0, 'A1': 0, 'A2': 0, 'AD': 0, 'AE': 2, 'AF': 0, 'AG': 0, 'AI': 0, 'AL': 3, 'AM': 3, 'AO': 0, 'AP': 0, 'AQ': 0, 'AR': 6, 'AS': 0, 'AT': 3, 'AU': 5, 'AW': 0, 'AX': 0, 'AZ': 2, 'BA': 3, 'BB': 0, 'BD': 2, 'BE': 3, 'BF': 0, 'BG': 3, 'BH': 3, 'BJ': 0, 'BM': 0, 'BN': 2, 'BO': 4, 'BQ': 0, 'BR': 6, 'BS': 0, 'BT': 0, 'BW': 0, 'BY': 3, 'BZ': 0, 'CA': 1, 'CD': 0, 'CG': 0, 'CH': 3, 'CI': 4, 'CL': 6, 'CM': 4, 'CN': 2, 'CO': 6, 'CR': 6, 'CU': 0, 'CV': 0, 'CW': 0, 'CY': 3, 'CZ': 3, 'DE': 3, 'DJ': 0, 'DK': 3, 'DM': 0, 'DO': 6, 'DZ': 4, 'EC': 6, 'EE': 3, 'EG': 4, 'ES': 3, 'ET': 0, 'EU': 0, 'FI': 3, 'FJ': 5, 'FM': 0, 'FO': 0, 'FR': 3, 'GA': 0, 'GB': 3, 'GD': 0, 'GE': 0, 'GF': 0, 'GG': 0, 'GH': 4, 'GI': 0, 'GL': 0, 'GM': 0, 'GN': 0, 'GP': 0, 'GQ': 0, 'GR': 3, 'GT': 6, 'GU': 0, 'GW': 0, 'GY': 0, 'HK': 2, 'HN': 6, 'HR': 3, 'HT': 6, 'HU': 3, 'ID': 2, 'IE': 3, 'IL': 2, 'IM': 0, 'IN': 2, 'IQ': 2, 'IR': 2, 'IS': 3, 'IT': 3, 'JE': 0, 'JM': 6, 'JO': 2, 'JP': 2, 'KE': 4, 'KG': 2, 'KH': 2, 'KN': 0, 'KP': 0, 'KR': 2, 'KW': 2, 'KY': 0, 'KZ': 2, 'LA': 2, 'LB': 2, 'LC': 0, 'LI': 0, 'LK': 2, 'LR': 0, 'LS': 0, 'LT': 3, 'LU': 3, 'LV': 3, 'LY': 0, 'MA': 4, 'MC': 0, 'MD': 3, 'ME': 0, 'MF': 0, 'MG': 0, 'MH': 0, 'MK': 3, 'ML': 0, 'MM': 0, 'MN': 0, 'MO': 0, 'MP': 0, 'MQ': 0, 'MR': 0, 'MT': 3, 'MU': 4, 'MV': 0, 'MX': 6, 'MY': 2, 'MZ': 4, 'NAN': 0, 'NC': 0, 'NE': 0, 'NG': 4, 'NI': 6, 'NL': 3, 'NO': 3, 'NP': 2, 'NR': 0, 'NZ': 6, 'OM': 2, 'PA': 6, 'PE': 6, 'PF': 0, 'PG': 0, 'PH': 2, 'PK': 2, 'PL': 3, 'PM': 0, 'PR': 6, 'PS': 0, 'PT': 3, 'PW': 0, 'PY': 6, 'QA': 2, 'RE': 0, 'RO': 3, 'RS': 3, 'RU': 3, 'RW': 0, 'SA': 2, 'SC': 0, 'SD': 0, 'SE': 3, 'SG': 2, 'SI': 3, 'SK': 3, 'SL': 0, 'SM': 0, 'SN': 4, 'SO': 0, 'SR': 0, 'SS': 0, 'ST': 0, 'SV': 6, 'SX': 0, 'SY': 2, 'SZ': 0, 'TG': 0, 'TH': 2, 'TJ': 0, 'TL': 0, 'TM': 2, 'TN': 4, 'TO': 0, 'TR': 2, 'TT': 6, 'TW': 2, 'TZ': 4, 'UA': 3, 'UG': 0, 'US': 1, 'UY': 6, 'UZ': 2, 'VC': 0, 'VE': 6, 'VG': 0, 'VI': 0, 'VN': 2, 'VU': 0, 'WS': 0, 'YE': 2, 'YT': 0, 'ZA': 4, 'ZM': 0, 'ZW': 0}"
   ]
  },
  {
   "cell_type": "code",
   "execution_count": 76,
   "metadata": {
    "collapsed": true
   },
   "outputs": [],
   "source": [
    "#first_day = pd.merge(first_day, practice_dau.groupby(['id', 'actdate'], as_index = False).sum(), on=['id', 'actdate'], how='inner')\n",
    "#Добавим number_of_pgr в первый день"
   ]
  },
  {
   "cell_type": "code",
   "execution_count": 27,
   "metadata": {
    "collapsed": true
   },
   "outputs": [],
   "source": [
    "first_day = pd.merge(first_day, practice_dau.sort_values('number_of_pgr', ascending = 0).groupby(['id', 'actdate'], as_index = False).first(), on=['id', 'actdate'], how='inner')\n",
    "#Добавим страну и number_of_pgr"
   ]
  },
  {
   "cell_type": "code",
   "execution_count": 28,
   "metadata": {
    "collapsed": true
   },
   "outputs": [],
   "source": [
    "def country_to_id(country):\n",
    "    return country_dict[country]\n",
    "\n",
    "first_day['country_id'] = first_day['country'].apply(country_to_id)\n",
    "first_day.drop('country', axis = 1, inplace = True)\n",
    "#Отсортируем страны по континентам"
   ]
  },
  {
   "cell_type": "code",
   "execution_count": 36,
   "metadata": {},
   "outputs": [
    {
     "data": {
      "text/html": [
       "<div>\n",
       "<style>\n",
       "    .dataframe thead tr:only-child th {\n",
       "        text-align: right;\n",
       "    }\n",
       "\n",
       "    .dataframe thead th {\n",
       "        text-align: left;\n",
       "    }\n",
       "\n",
       "    .dataframe tbody tr th {\n",
       "        vertical-align: top;\n",
       "    }\n",
       "</style>\n",
       "<table border=\"1\" class=\"dataframe\">\n",
       "  <thead>\n",
       "    <tr style=\"text-align: right;\">\n",
       "      <th></th>\n",
       "      <th>id</th>\n",
       "      <th>actdate</th>\n",
       "      <th>clusters_ml_ended</th>\n",
       "      <th>quests_end</th>\n",
       "      <th>m_quests_end</th>\n",
       "      <th>amount_visits</th>\n",
       "      <th>session_length</th>\n",
       "      <th>average_visit</th>\n",
       "      <th>number_of_pgr</th>\n",
       "      <th>country_id</th>\n",
       "      <th>first_session_start</th>\n",
       "      <th>first_session_end</th>\n",
       "    </tr>\n",
       "  </thead>\n",
       "  <tbody>\n",
       "    <tr>\n",
       "      <th>0</th>\n",
       "      <td>abee37a4e1</td>\n",
       "      <td>2017-01-01</td>\n",
       "      <td>7</td>\n",
       "      <td>61</td>\n",
       "      <td>13</td>\n",
       "      <td>6</td>\n",
       "      <td>5873</td>\n",
       "      <td>978.833333</td>\n",
       "      <td>204</td>\n",
       "      <td>2</td>\n",
       "      <td>32278.0</td>\n",
       "      <td>34104.0</td>\n",
       "    </tr>\n",
       "    <tr>\n",
       "      <th>1</th>\n",
       "      <td>6fbbafd123</td>\n",
       "      <td>2017-01-01</td>\n",
       "      <td>5</td>\n",
       "      <td>73</td>\n",
       "      <td>14</td>\n",
       "      <td>6</td>\n",
       "      <td>7735</td>\n",
       "      <td>1289.166667</td>\n",
       "      <td>141</td>\n",
       "      <td>1</td>\n",
       "      <td>62460.0</td>\n",
       "      <td>64307.0</td>\n",
       "    </tr>\n",
       "    <tr>\n",
       "      <th>2</th>\n",
       "      <td>23c025efd0</td>\n",
       "      <td>2017-01-01</td>\n",
       "      <td>7</td>\n",
       "      <td>91</td>\n",
       "      <td>17</td>\n",
       "      <td>4</td>\n",
       "      <td>6907</td>\n",
       "      <td>1726.750000</td>\n",
       "      <td>233</td>\n",
       "      <td>3</td>\n",
       "      <td>39195.0</td>\n",
       "      <td>41587.0</td>\n",
       "    </tr>\n",
       "    <tr>\n",
       "      <th>3</th>\n",
       "      <td>8f4b043ead</td>\n",
       "      <td>2017-01-01</td>\n",
       "      <td>2</td>\n",
       "      <td>14</td>\n",
       "      <td>1</td>\n",
       "      <td>1</td>\n",
       "      <td>1424</td>\n",
       "      <td>1424.000000</td>\n",
       "      <td>47</td>\n",
       "      <td>3</td>\n",
       "      <td>78646.0</td>\n",
       "      <td>80070.0</td>\n",
       "    </tr>\n",
       "    <tr>\n",
       "      <th>4</th>\n",
       "      <td>1bdb89a697</td>\n",
       "      <td>2017-01-01</td>\n",
       "      <td>2</td>\n",
       "      <td>11</td>\n",
       "      <td>0</td>\n",
       "      <td>1</td>\n",
       "      <td>521</td>\n",
       "      <td>521.000000</td>\n",
       "      <td>19</td>\n",
       "      <td>2</td>\n",
       "      <td>10320.0</td>\n",
       "      <td>10841.0</td>\n",
       "    </tr>\n",
       "  </tbody>\n",
       "</table>\n",
       "</div>"
      ],
      "text/plain": [
       "           id    actdate  clusters_ml_ended  quests_end  m_quests_end  \\\n",
       "0  abee37a4e1 2017-01-01                  7          61            13   \n",
       "1  6fbbafd123 2017-01-01                  5          73            14   \n",
       "2  23c025efd0 2017-01-01                  7          91            17   \n",
       "3  8f4b043ead 2017-01-01                  2          14             1   \n",
       "4  1bdb89a697 2017-01-01                  2          11             0   \n",
       "\n",
       "   amount_visits  session_length  average_visit  number_of_pgr  country_id  \\\n",
       "0              6            5873     978.833333            204           2   \n",
       "1              6            7735    1289.166667            141           1   \n",
       "2              4            6907    1726.750000            233           3   \n",
       "3              1            1424    1424.000000             47           3   \n",
       "4              1             521     521.000000             19           2   \n",
       "\n",
       "   first_session_start  first_session_end  \n",
       "0              32278.0            34104.0  \n",
       "1              62460.0            64307.0  \n",
       "2              39195.0            41587.0  \n",
       "3              78646.0            80070.0  \n",
       "4              10320.0            10841.0  "
      ]
     },
     "execution_count": 36,
     "metadata": {},
     "output_type": "execute_result"
    }
   ],
   "source": [
    "first_day.head()"
   ]
  },
  {
   "cell_type": "code",
   "execution_count": 30,
   "metadata": {
    "collapsed": true
   },
   "outputs": [],
   "source": [
    "first_day['amount_visits'] = first_day['amount_visits'].astype('int64')\n",
    "first_day['average_visit'] = first_day['average_visit'].astype('float64')"
   ]
  },
  {
   "cell_type": "code",
   "execution_count": 31,
   "metadata": {
    "collapsed": true
   },
   "outputs": [],
   "source": [
    "def to_seconds(session_start_time):\n",
    "    return session_start_time.total_seconds()\n",
    "first_day['first_session_start'] = first_day['session_start_time'].apply(to_seconds)\n",
    "first_day['first_session_end'] = first_day['session_end_time'].apply(to_seconds)"
   ]
  },
  {
   "cell_type": "code",
   "execution_count": 32,
   "metadata": {
    "collapsed": true
   },
   "outputs": [],
   "source": [
    "first_day.drop('session_start_time', axis = 1, inplace = True)\n",
    "first_day.drop('session_end_time', axis = 1, inplace = True)"
   ]
  },
  {
   "cell_type": "code",
   "execution_count": 51,
   "metadata": {
    "scrolled": true
   },
   "outputs": [
    {
     "data": {
      "text/plain": [
       "clusters_ml_ended        int64\n",
       "quests_end               int64\n",
       "m_quests_end             int64\n",
       "amount_visits            int64\n",
       "session_length           int64\n",
       "average_visit          float64\n",
       "number_of_pgr            int64\n",
       "first_session_start    float64\n",
       "first_session_end      float64\n",
       "country_id_0           float64\n",
       "country_id_1           float64\n",
       "country_id_2           float64\n",
       "country_id_3           float64\n",
       "country_id_4           float64\n",
       "country_id_5           float64\n",
       "country_id_6           float64\n",
       "answer                   int64\n",
       "dtype: object"
      ]
     },
     "execution_count": 51,
     "metadata": {},
     "output_type": "execute_result"
    }
   ],
   "source": [
    "first_day.dtypes"
   ]
  },
  {
   "cell_type": "markdown",
   "metadata": {},
   "source": [
    "Закодируем категориальный признак country_id"
   ]
  },
  {
   "cell_type": "code",
   "execution_count": 45,
   "metadata": {
    "collapsed": true
   },
   "outputs": [],
   "source": [
    "from sklearn.preprocessing import OneHotEncoder\n",
    "ohe = OneHotEncoder(sparse = False)\n",
    "new_ohe_features = ohe.fit_transform(first_day.country_id.values.reshape(-1,1))\n",
    "tmp = pd.DataFrame(new_ohe_features, columns=['country_id_' + str(i) for i in range(new_ohe_features.shape[1])])\n",
    "first_day = pd.concat([first_day, tmp], axis = 1)"
   ]
  },
  {
   "cell_type": "code",
   "execution_count": 47,
   "metadata": {
    "collapsed": true
   },
   "outputs": [],
   "source": [
    "first_day.drop('country_id', axis = 1, inplace=True)"
   ]
  },
  {
   "cell_type": "code",
   "execution_count": 48,
   "metadata": {
    "collapsed": true
   },
   "outputs": [],
   "source": [
    "def cr_answer(id):\n",
    "    return int(id in revenue_positive_id)\n",
    "\n",
    "answer = first_day['id'].apply(cr_answer)\n",
    "first_day['answer'] = answer"
   ]
  },
  {
   "cell_type": "code",
   "execution_count": 49,
   "metadata": {
    "collapsed": true
   },
   "outputs": [],
   "source": [
    "first_day.drop(['id', 'actdate'], axis = 1, inplace = True)"
   ]
  },
  {
   "cell_type": "code",
   "execution_count": 52,
   "metadata": {
    "collapsed": true
   },
   "outputs": [],
   "source": [
    "first_day['country_id_0'] = first_day['country_id_0'].astype('int64')\n",
    "first_day['country_id_1'] = first_day['country_id_1'].astype('int64')\n",
    "first_day['country_id_2'] = first_day['country_id_2'].astype('int64')\n",
    "first_day['country_id_3'] = first_day['country_id_3'].astype('int64')\n",
    "first_day['country_id_4'] = first_day['country_id_4'].astype('int64')\n",
    "first_day['country_id_5'] = first_day['country_id_5'].astype('int64')\n",
    "first_day['country_id_6'] = first_day['country_id_6'].astype('int64')\n",
    "first_day['first_session_start'] = first_day['first_session_start'].astype('int64')\n",
    "first_day['first_session_end'] = first_day['first_session_end'].astype('int64')"
   ]
  },
  {
   "cell_type": "code",
   "execution_count": 53,
   "metadata": {
    "collapsed": true
   },
   "outputs": [],
   "source": [
    "first_day.to_csv('first_day1.csv')"
   ]
  },
  {
   "cell_type": "markdown",
   "metadata": {},
   "source": [
    "## Обучение"
   ]
  },
  {
   "cell_type": "code",
   "execution_count": 81,
   "metadata": {},
   "outputs": [],
   "source": [
    "from sklearn.linear_model import LogisticRegression\n",
    "from sklearn import metrics\n",
    "from sklearn import preprocessing\n",
    "from sklearn.model_selection import train_test_split\n",
    "from sklearn.model_selection import GridSearchCV\n",
    "from sklearn.model_selection import KFold\n",
    "from sklearn.linear_model import SGDClassifier"
   ]
  },
  {
   "cell_type": "code",
   "execution_count": 540,
   "metadata": {
    "collapsed": true
   },
   "outputs": [],
   "source": [
    "first_day = pd.read_csv('first_day1.csv')\n",
    "first_day.drop('Unnamed: 0', axis = 1, inplace = True) "
   ]
  },
  {
   "cell_type": "code",
   "execution_count": 541,
   "metadata": {},
   "outputs": [
    {
     "name": "stdout",
     "output_type": "stream",
     "text": [
      "В выборке 0.01 часть плательщиков.\n"
     ]
    }
   ],
   "source": [
    "pay_persent = first_day[first_day['answer'] > 0].shape[0]/first_day.shape[0]\n",
    "print('В выборке', round(pay_persent, 2), 'часть плательщиков.')"
   ]
  },
  {
   "cell_type": "markdown",
   "metadata": {},
   "source": [
    "Что очень мало."
   ]
  },
  {
   "cell_type": "code",
   "execution_count": 542,
   "metadata": {
    "collapsed": true
   },
   "outputs": [],
   "source": [
    "answer = first_day['answer']\n",
    "first_day.drop('answer', axis = 1, inplace = True)"
   ]
  },
  {
   "cell_type": "code",
   "execution_count": 7,
   "metadata": {},
   "outputs": [
    {
     "data": {
      "text/html": [
       "<div>\n",
       "<table border=\"1\" class=\"dataframe\">\n",
       "  <thead>\n",
       "    <tr style=\"text-align: right;\">\n",
       "      <th></th>\n",
       "      <th>clusters_ml_ended</th>\n",
       "      <th>quests_end</th>\n",
       "      <th>m_quests_end</th>\n",
       "      <th>amount_visits</th>\n",
       "      <th>session_length</th>\n",
       "      <th>average_visit</th>\n",
       "      <th>number_of_pgr</th>\n",
       "      <th>first_session_start</th>\n",
       "      <th>first_session_end</th>\n",
       "      <th>country_id_0</th>\n",
       "      <th>country_id_1</th>\n",
       "      <th>country_id_2</th>\n",
       "      <th>country_id_3</th>\n",
       "      <th>country_id_4</th>\n",
       "      <th>country_id_5</th>\n",
       "      <th>country_id_6</th>\n",
       "    </tr>\n",
       "  </thead>\n",
       "  <tbody>\n",
       "    <tr>\n",
       "      <th>0</th>\n",
       "      <td>7</td>\n",
       "      <td>61</td>\n",
       "      <td>13</td>\n",
       "      <td>6</td>\n",
       "      <td>5873</td>\n",
       "      <td>978.833333</td>\n",
       "      <td>204</td>\n",
       "      <td>32278</td>\n",
       "      <td>34104</td>\n",
       "      <td>0</td>\n",
       "      <td>0</td>\n",
       "      <td>1</td>\n",
       "      <td>0</td>\n",
       "      <td>0</td>\n",
       "      <td>0</td>\n",
       "      <td>0</td>\n",
       "    </tr>\n",
       "    <tr>\n",
       "      <th>1</th>\n",
       "      <td>5</td>\n",
       "      <td>73</td>\n",
       "      <td>14</td>\n",
       "      <td>6</td>\n",
       "      <td>7735</td>\n",
       "      <td>1289.166667</td>\n",
       "      <td>141</td>\n",
       "      <td>62460</td>\n",
       "      <td>64307</td>\n",
       "      <td>0</td>\n",
       "      <td>1</td>\n",
       "      <td>0</td>\n",
       "      <td>0</td>\n",
       "      <td>0</td>\n",
       "      <td>0</td>\n",
       "      <td>0</td>\n",
       "    </tr>\n",
       "    <tr>\n",
       "      <th>2</th>\n",
       "      <td>7</td>\n",
       "      <td>91</td>\n",
       "      <td>17</td>\n",
       "      <td>4</td>\n",
       "      <td>6907</td>\n",
       "      <td>1726.750000</td>\n",
       "      <td>233</td>\n",
       "      <td>39195</td>\n",
       "      <td>41587</td>\n",
       "      <td>0</td>\n",
       "      <td>0</td>\n",
       "      <td>0</td>\n",
       "      <td>1</td>\n",
       "      <td>0</td>\n",
       "      <td>0</td>\n",
       "      <td>0</td>\n",
       "    </tr>\n",
       "    <tr>\n",
       "      <th>3</th>\n",
       "      <td>2</td>\n",
       "      <td>14</td>\n",
       "      <td>1</td>\n",
       "      <td>1</td>\n",
       "      <td>1424</td>\n",
       "      <td>1424.000000</td>\n",
       "      <td>47</td>\n",
       "      <td>78646</td>\n",
       "      <td>80070</td>\n",
       "      <td>0</td>\n",
       "      <td>0</td>\n",
       "      <td>0</td>\n",
       "      <td>1</td>\n",
       "      <td>0</td>\n",
       "      <td>0</td>\n",
       "      <td>0</td>\n",
       "    </tr>\n",
       "    <tr>\n",
       "      <th>4</th>\n",
       "      <td>2</td>\n",
       "      <td>11</td>\n",
       "      <td>0</td>\n",
       "      <td>1</td>\n",
       "      <td>521</td>\n",
       "      <td>521.000000</td>\n",
       "      <td>19</td>\n",
       "      <td>10320</td>\n",
       "      <td>10841</td>\n",
       "      <td>0</td>\n",
       "      <td>0</td>\n",
       "      <td>1</td>\n",
       "      <td>0</td>\n",
       "      <td>0</td>\n",
       "      <td>0</td>\n",
       "      <td>0</td>\n",
       "    </tr>\n",
       "  </tbody>\n",
       "</table>\n",
       "</div>"
      ],
      "text/plain": [
       "   clusters_ml_ended  quests_end  m_quests_end  amount_visits  session_length  \\\n",
       "0                  7          61            13              6            5873   \n",
       "1                  5          73            14              6            7735   \n",
       "2                  7          91            17              4            6907   \n",
       "3                  2          14             1              1            1424   \n",
       "4                  2          11             0              1             521   \n",
       "\n",
       "   average_visit  number_of_pgr  first_session_start  first_session_end  \\\n",
       "0     978.833333            204                32278              34104   \n",
       "1    1289.166667            141                62460              64307   \n",
       "2    1726.750000            233                39195              41587   \n",
       "3    1424.000000             47                78646              80070   \n",
       "4     521.000000             19                10320              10841   \n",
       "\n",
       "   country_id_0  country_id_1  country_id_2  country_id_3  country_id_4  \\\n",
       "0             0             0             1             0             0   \n",
       "1             0             1             0             0             0   \n",
       "2             0             0             0             1             0   \n",
       "3             0             0             0             1             0   \n",
       "4             0             0             1             0             0   \n",
       "\n",
       "   country_id_5  country_id_6  \n",
       "0             0             0  \n",
       "1             0             0  \n",
       "2             0             0  \n",
       "3             0             0  \n",
       "4             0             0  "
      ]
     },
     "execution_count": 7,
     "metadata": {},
     "output_type": "execute_result"
    }
   ],
   "source": [
    "first_day.head()"
   ]
  },
  {
   "cell_type": "code",
   "execution_count": 543,
   "metadata": {
    "collapsed": true
   },
   "outputs": [],
   "source": [
    "#Нормализую признаки\n",
    "normalizer = preprocessing.StandardScaler()\n",
    "data_real_norm_np = normalizer.fit_transform(first_day)\n",
    "data_real_norm_pd = pd.DataFrame(data=data_real_norm_np)"
   ]
  },
  {
   "cell_type": "code",
   "execution_count": 544,
   "metadata": {
    "collapsed": true
   },
   "outputs": [],
   "source": [
    "#обучим\n",
    "X_train, X_test, y_train, y_test = train_test_split(data_real_norm_pd, answer, test_size = 0.3, random_state = 42)"
   ]
  },
  {
   "cell_type": "markdown",
   "metadata": {},
   "source": [
    "## LogisticRegression "
   ]
  },
  {
   "cell_type": "code",
   "execution_count": 545,
   "metadata": {},
   "outputs": [
    {
     "name": "stdout",
     "output_type": "stream",
     "text": [
      "Логистическая регрессия, нормализованные данные.\n",
      "Класс плательщиков: Precision =  0.0294 Recall =  0.0001 Fмера =  0.0003\n",
      "Класс бесплатных:   Precision =  0.9887 Recall =  0.9999 Fмера =  0.9943\n",
      "TP =  1 \t FP =  33\n",
      "FN = 6728 \t TN =  587477\n"
     ]
    }
   ],
   "source": [
    "#print('ROC-AUC = ', metrics.roc_auc_score(y_test, LogReg.predict_proba(X_test)[:, 1]))\n",
    "print('Логистическая регрессия, нормализованные данные.')\n",
    "LogReg = LogisticRegression()\n",
    "LogReg.fit(X_train, y_train)\n",
    "tn, fp, fn, tp = metrics.confusion_matrix(y_test, LogReg.predict(X_test)).ravel()\n",
    "print('Класс плательщиков: Precision = ', round(tp/(tp + fp), 4), 'Recall = ', round(tp/(tp +fn), 4),\n",
    "      'Fмера = ', round(2*tp/(tp+ fp)*tp/(tp +fn)/(tp/(tp+ fp) + tp/(tp +fn)), 4) )\n",
    "print('Класс бесплатных:   Precision = ', round(tn/(fn + tn), 4), 'Recall = ', round(tn/(tn +fp), 4),\n",
    "      'Fмера = ', round(2*tn/(fn + tn)*tn/(tn +fp)/(tn/(fn + tn) + tn/(tn +fp)), 4) )\n",
    "print('TP = ', tp, '\\t FP = ', fp) \n",
    "print('FN =', fn, '\\t TN = ', tn)"
   ]
  },
  {
   "cell_type": "markdown",
   "metadata": {},
   "source": [
    "Классификатору не выгодно относить к классу плательщиков, потому что их очень мало. И почти все отнесены к другому классу. Поменяем веса в классификаторе. "
   ]
  },
  {
   "cell_type": "code",
   "execution_count": 546,
   "metadata": {},
   "outputs": [
    {
     "name": "stdout",
     "output_type": "stream",
     "text": [
      "Логистическая регрессия, нормализованные данные.\n",
      "Класс плательщиков: Precision =  0.0433 Recall =  0.822 Fмера =  0.0822\n",
      "Класс бесплатных:   Precision =  0.9974 Recall =  0.7918 Fмера =  0.8828\n",
      "TP =  5531 \t FP =  122318\n",
      "FN = 1198 \t TN =  465192\n"
     ]
    }
   ],
   "source": [
    "#print('ROC-AUC = ', metrics.roc_auc_score(y_test, LogReg.predict_proba(X_test)[:, 1]))\n",
    "print('Логистическая регрессия, нормализованные данные.')\n",
    "LogReg = LogisticRegression(class_weight = 'balanced')\n",
    "LogReg.fit(X_train, y_train)\n",
    "tn, fp, fn, tp = metrics.confusion_matrix(y_test, LogReg.predict(X_test)).ravel()\n",
    "print('Класс плательщиков: Precision = ', round(tp/(tp + fp), 4), 'Recall = ', round(tp/(tp +fn), 4),\n",
    "      'Fмера = ', round(2*tp/(tp+ fp)*tp/(tp +fn)/(tp/(tp+ fp) + tp/(tp +fn)), 4) )\n",
    "print('Класс бесплатных:   Precision = ', round(tn/(fn + tn), 4), 'Recall = ', round(tn/(tn +fp), 4),\n",
    "      'Fмера = ', round(2*tn/(fn + tn)*tn/(tn +fp)/(tn/(fn + tn) + tn/(tn +fp)), 4) )\n",
    "print('TP = ', tp, '\\t FP = ', fp) \n",
    "print('FN =', fn, '\\t TN = ', tn)"
   ]
  },
  {
   "cell_type": "markdown",
   "metadata": {},
   "source": [
    "Уже лучше. В каком-то смысле. Попробуем что-нибудь еще."
   ]
  },
  {
   "cell_type": "code",
   "execution_count": 548,
   "metadata": {},
   "outputs": [
    {
     "data": {
      "text/plain": [
       "SGDClassifier(alpha=0.05, average=False, class_weight='balanced', epsilon=0.1,\n",
       "       eta0=0.0, fit_intercept=True, l1_ratio=0.15,\n",
       "       learning_rate='optimal', loss='log', n_iter=200, n_jobs=1,\n",
       "       penalty='l2', power_t=0.5, random_state=None, shuffle=True,\n",
       "       verbose=0, warm_start=False)"
      ]
     },
     "execution_count": 548,
     "metadata": {},
     "output_type": "execute_result"
    }
   ],
   "source": [
    "lr_sgd = SGDClassifier(loss=\"log\", alpha=0.05, n_iter=200, fit_intercept=True, class_weight = 'balanced')\n",
    "lr_sgd.fit(X_train, y_train)"
   ]
  },
  {
   "cell_type": "code",
   "execution_count": 549,
   "metadata": {},
   "outputs": [
    {
     "name": "stdout",
     "output_type": "stream",
     "text": [
      "SGDClassifier, нормализованные данные.\n",
      "Класс плательщиков: Precision =  0.044 Recall =  0.8197 Fмера =  0.0836\n",
      "Класс бесплатных:   Precision =  0.9974 Recall =  0.7961 Fмера =  0.8855\n",
      "TP =  5516 \t FP =  119785\n",
      "FN = 1213 \t TN =  467725\n"
     ]
    }
   ],
   "source": [
    "#print('ROC-AUC = ', metrics.roc_auc_score(y_test, lr_sgd.predict_proba(X_test)[:, 1]))\n",
    "print('SGDClassifier, нормализованные данные.')\n",
    "tn, fp, fn, tp = metrics.confusion_matrix(y_test, lr_sgd.predict(X_test)).ravel()\n",
    "print('Класс плательщиков: Precision = ', round(tp/(tp + fp), 4), 'Recall = ', round(tp/(tp +fn), 4),\n",
    "      'Fмера = ', round(2 * tp/(tp + fp) * tp / (tp + fn)/(tp / (tp + fp) + tp/(tp +fn)), 4) )\n",
    "print('Класс бесплатных:   Precision = ', round(tn/(fn + tn), 4), 'Recall = ', round(tn/(tn +fp), 4),\n",
    "      'Fмера = ', round(2*tn/(fn + tn)*tn/(tn +fp)/(tn/(fn + tn) + tn/(tn +fp)), 4) )\n",
    "print('TP = ', tp, '\\t FP = ', fp) \n",
    "print('FN =', fn, '\\t TN = ', tn)"
   ]
  },
  {
   "cell_type": "code",
   "execution_count": 8,
   "metadata": {
    "collapsed": true
   },
   "outputs": [],
   "source": [
    "#обучим на начальной начальной выборке\n",
    "X_train, X_test, y_train, y_test = train_test_split(first_day, answer, test_size = 0.25, random_state = 42)"
   ]
  },
  {
   "cell_type": "markdown",
   "metadata": {},
   "source": [
    "Так как одного класса существенно меньше чем другого, проверим ровно ли доля ответов в тестовой и тренировочной выборке."
   ]
  },
  {
   "cell_type": "code",
   "execution_count": 9,
   "metadata": {
    "scrolled": false
   },
   "outputs": [
    {
     "name": "stdout",
     "output_type": "stream",
     "text": [
      "Тренировочная: 0.9887681517935214\n",
      "Тестовая: 0.9885641933848817\n"
     ]
    }
   ],
   "source": [
    "print('Тренировочная:', y_train[y_train == 0].shape[0]/y_train.shape[0])\n",
    "print('Тестовая:', y_test[y_test == 0].shape[0]/y_test.shape[0])"
   ]
  },
  {
   "cell_type": "markdown",
   "metadata": {},
   "source": [
    "С разбиением по классам все хорошо.\n",
    "Объектов положительного класса очень мало, попробуем сбалансированный веса."
   ]
  },
  {
   "cell_type": "code",
   "execution_count": 86,
   "metadata": {
    "scrolled": true
   },
   "outputs": [
    {
     "name": "stdout",
     "output_type": "stream",
     "text": [
      "Логистическая регрессия, обычные данные.\n",
      "             precision    recall  f1-score   support\n",
      "\n",
      "Не заплатит       1.00      0.79      0.88    489536\n",
      "   Заплатит       0.04      0.83      0.08      5663\n",
      "\n",
      "avg / total       0.99      0.79      0.87    495199\n",
      "\n",
      "[[387331    991]\n",
      " [102205   4672]]\n"
     ]
    }
   ],
   "source": [
    "print('Логистическая регрессия, обычные данные.')\n",
    "LogReg = LogisticRegression(class_weight = 'balanced')\n",
    "LogReg.fit(X_train, y_train)\n",
    "print(metrics.classification_report(y_test, LogReg.predict(X_test), target_names = ['Не заплатит', 'Заплатит']))\n",
    "print(metrics.confusion_matrix(y_test, LogReg.predict(X_test)).T)"
   ]
  },
  {
   "cell_type": "code",
   "execution_count": 32,
   "metadata": {},
   "outputs": [
    {
     "name": "stdout",
     "output_type": "stream",
     "text": [
      "Логистическая регрессия, обычные данные.\n",
      "             precision    recall  f1-score   support\n",
      "\n",
      "Не заплатит       0.99      0.90      0.95    489536\n",
      "   Заплатит       0.07      0.60      0.12      5663\n",
      "\n",
      "avg / total       0.98      0.90      0.94    495199\n",
      "\n",
      "[[442722   2239]\n",
      " [ 46814   3424]]\n"
     ]
    }
   ],
   "source": [
    "print('Логистическая регрессия, обычные данные.')\n",
    "LogReg = LogisticRegression(class_weight = {0:0.03, 1: 1})\n",
    "LogReg.fit(X_train, y_train)\n",
    "print(metrics.classification_report(y_test, LogReg.predict(X_test), target_names = ['Не заплатит', 'Заплатит']))\n",
    "print(metrics.confusion_matrix(y_test, LogReg.predict(X_test)).T)"
   ]
  },
  {
   "cell_type": "markdown",
   "metadata": {},
   "source": [
    "Подберем вес классов."
   ]
  },
  {
   "cell_type": "code",
   "execution_count": 89,
   "metadata": {},
   "outputs": [
    {
     "name": "stdout",
     "output_type": "stream",
     "text": [
      "Fitting 3 folds for each of 5 candidates, totalling 15 fits\n"
     ]
    },
    {
     "name": "stderr",
     "output_type": "stream",
     "text": [
      "[Parallel(n_jobs=1)]: Done  15 out of  15 | elapsed:  7.5min finished\n"
     ]
    },
    {
     "data": {
      "text/plain": [
       "GridSearchCV(cv=None, error_score='raise',\n",
       "       estimator=LogisticRegression(C=1.0, class_weight=None, dual=False, fit_intercept=True,\n",
       "          intercept_scaling=1, max_iter=100, multi_class='ovr', n_jobs=1,\n",
       "          penalty='l2', random_state=None, solver='liblinear', tol=0.0001,\n",
       "          verbose=0, warm_start=False),\n",
       "       fit_params={}, iid=True, n_jobs=1,\n",
       "       param_grid={'class_weight': [{0: 0.5, 1: 1}, {0: 0.2, 1: 1}, {0: 0.1, 1: 1}, {0: 0.05, 1: 1}, 'balanced']},\n",
       "       pre_dispatch='2*n_jobs', refit=True, return_train_score=True,\n",
       "       scoring='f1_macro', verbose=True)"
      ]
     },
     "execution_count": 89,
     "metadata": {},
     "output_type": "execute_result"
    }
   ],
   "source": [
    "params = {\n",
    "    'class_weight': [{0: 0.5, 1: 1}, {0: 0.2, 1: 1}, {0: 0.1, 1: 1}, {0:0.05, 1:1}, 'balanced'],\n",
    "}\n",
    "\n",
    "LogRegGrid = GridSearchCV(LogisticRegression(), params, scoring='f1_macro', verbose =True)\n",
    "LogRegGrid.fit(X_train, y_train)"
   ]
  },
  {
   "cell_type": "code",
   "execution_count": 91,
   "metadata": {},
   "outputs": [
    {
     "data": {
      "text/plain": [
       "{'class_weight': {0: 0.1, 1: 1}}"
      ]
     },
     "execution_count": 91,
     "metadata": {},
     "output_type": "execute_result"
    }
   ],
   "source": [
    "LogRegGrid.best_params_ #лучший вес"
   ]
  },
  {
   "cell_type": "code",
   "execution_count": 92,
   "metadata": {},
   "outputs": [
    {
     "name": "stdout",
     "output_type": "stream",
     "text": [
      "Логистическая регрессия, обычные данные. Вес 0:0.1, 1: 1.\n",
      "             precision    recall  f1-score   support\n",
      "\n",
      "Не заплатит       0.99      0.98      0.98    489536\n",
      "   Заплатит       0.10      0.22      0.14      5663\n",
      "\n",
      "avg / total       0.98      0.97      0.97    495199\n",
      "\n",
      "[[478869   4426]\n",
      " [ 10667   1237]]\n"
     ]
    }
   ],
   "source": [
    "print('Логистическая регрессия, обычные данные. Вес 0:0.1, 1: 1.')\n",
    "LogReg = LogisticRegression(class_weight = {0: 0.1, 1: 1})\n",
    "LogReg.fit(X_train, y_train)\n",
    "print(metrics.classification_report(y_test, LogReg.predict(X_test), target_names = ['Не заплатит', 'Заплатит']))\n",
    "print(metrics.confusion_matrix(y_test, LogReg.predict(X_test)).T)"
   ]
  },
  {
   "cell_type": "markdown",
   "metadata": {},
   "source": [
    "### Пока лучший результат.\n",
    "По данному предсказанию каждый 10 отмеченный плательщик будет верно определен. И всего должно быть отмечено 22% плательщиков. (вроде деревьями потом будет лучше)"
   ]
  },
  {
   "cell_type": "markdown",
   "metadata": {},
   "source": [
    "### SGDClassifier."
   ]
  },
  {
   "cell_type": "code",
   "execution_count": 16,
   "metadata": {
    "scrolled": true
   },
   "outputs": [
    {
     "name": "stdout",
     "output_type": "stream",
     "text": [
      "SGDClassifier, обычные данные.\n",
      "             precision    recall  f1-score   support\n",
      "\n",
      "Не заплатит       0.99      1.00      0.99    587510\n",
      "   Заплатит       0.04      0.00      0.01      6729\n",
      "\n",
      "avg / total       0.98      0.99      0.98    594239\n",
      "\n",
      "[[587019   6707]\n",
      " [   491     22]]\n"
     ]
    }
   ],
   "source": [
    "print('SGDClassifier, обычные данные.')\n",
    "lr_sgd = SGDClassifier(loss=\"log\", alpha=0.05, n_iter=200, fit_intercept=True)\n",
    "lr_sgd.fit(X_train, y_train)\n",
    "tn, fp, fn, tp = metrics.confusion_matrix(y_test, lr_sgd.predict(X_test)).ravel()\n",
    "print(metrics.classification_report(y_test, lr_sgd.predict(X_test), target_names = ['Не заплатит', 'Заплатит']))\n",
    "print(metrics.confusion_matrix(y_test, lr_sgd.predict(X_test)).T)"
   ]
  },
  {
   "cell_type": "code",
   "execution_count": 80,
   "metadata": {
    "collapsed": true
   },
   "outputs": [],
   "source": [
    "from sklearn.model_selection import GridSearchCV\n",
    "from sklearn.tree import DecisionTreeClassifier"
   ]
  },
  {
   "cell_type": "markdown",
   "metadata": {},
   "source": [
    "## DecisionTreeClassifier\n",
    "Попробум использовать деревья. Сразу вес поставим сбалансированный."
   ]
  },
  {
   "cell_type": "code",
   "execution_count": 106,
   "metadata": {},
   "outputs": [
    {
     "name": "stdout",
     "output_type": "stream",
     "text": [
      "DecisionTreeClassifier, обычные данные.\n",
      "             precision    recall  f1-score   support\n",
      "\n",
      "Не заплатит       0.99      0.99      0.99    489536\n",
      "   Заплатит       0.06      0.05      0.06      5663\n",
      "\n",
      "avg / total       0.98      0.98      0.98    495199\n",
      "\n",
      "[[484666   5359]\n",
      " [  4870    304]]\n"
     ]
    }
   ],
   "source": [
    "DTC = DecisionTreeClassifier(class_weight = 'balanced')\n",
    "DTC.fit(X_train, y_train)\n",
    "print('DecisionTreeClassifier, обычные данные.')\n",
    "print(metrics.classification_report(y_test, DTC.predict(X_test), target_names = ['Не заплатит', 'Заплатит']))\n",
    "print(metrics.confusion_matrix(y_test, DTC.predict(X_test)).T)"
   ]
  },
  {
   "cell_type": "markdown",
   "metadata": {},
   "source": [
    "Теперь настроим параметры дерева на кросс-валидации. Настраивать будем максимальную глубину, максимальное используемое на каждом разбиении число признаков и вес классов."
   ]
  },
  {
   "cell_type": "code",
   "execution_count": 132,
   "metadata": {
    "collapsed": true
   },
   "outputs": [],
   "source": [
    "tree_params = {'max_depth': range(1,11), 'max_features': range(4,11), 'class_weight': [{0: 0.5, 1: 1}, {0: 0.2, 1: 1}, {0: 0.1, 1: 1}, {0:0.05, 1:1}, 'balanced']}"
   ]
  },
  {
   "cell_type": "code",
   "execution_count": 135,
   "metadata": {
    "collapsed": true
   },
   "outputs": [],
   "source": [
    "tree_grid = GridSearchCV(DecisionTreeClassifier(), tree_params, cv=3, scoring='f1_micro', verbose = True)"
   ]
  },
  {
   "cell_type": "code",
   "execution_count": 136,
   "metadata": {},
   "outputs": [
    {
     "name": "stdout",
     "output_type": "stream",
     "text": [
      "Fitting 3 folds for each of 350 candidates, totalling 1050 fits\n"
     ]
    },
    {
     "name": "stderr",
     "output_type": "stream",
     "text": [
      "[Parallel(n_jobs=1)]: Done 1050 out of 1050 | elapsed: 106.1min finished\n"
     ]
    },
    {
     "data": {
      "text/plain": [
       "GridSearchCV(cv=3, error_score='raise',\n",
       "       estimator=DecisionTreeClassifier(class_weight=None, criterion='gini', max_depth=None,\n",
       "            max_features=None, max_leaf_nodes=None,\n",
       "            min_impurity_split=1e-07, min_samples_leaf=1,\n",
       "            min_samples_split=2, min_weight_fraction_leaf=0.0,\n",
       "            presort=False, random_state=None, splitter='best'),\n",
       "       fit_params={}, iid=True, n_jobs=1,\n",
       "       param_grid={'max_depth': range(1, 11), 'max_features': range(4, 11), 'class_weight': [{0: 0.5, 1: 1}, {0: 0.2, 1: 1}, {0: 0.1, 1: 1}, {0: 0.05, 1: 1}, 'balanced']},\n",
       "       pre_dispatch='2*n_jobs', refit=True, return_train_score=True,\n",
       "       scoring='f1_micro', verbose=True)"
      ]
     },
     "execution_count": 136,
     "metadata": {},
     "output_type": "execute_result"
    }
   ],
   "source": [
    "tree_grid.fit(X_train, y_train)"
   ]
  },
  {
   "cell_type": "code",
   "execution_count": 137,
   "metadata": {},
   "outputs": [
    {
     "data": {
      "text/plain": [
       "{'class_weight': {0: 0.5, 1: 1}, 'max_depth': 1, 'max_features': 4}"
      ]
     },
     "execution_count": 137,
     "metadata": {},
     "output_type": "execute_result"
    }
   ],
   "source": [
    "tree_grid.best_params_"
   ]
  },
  {
   "cell_type": "code",
   "execution_count": 13,
   "metadata": {},
   "outputs": [
    {
     "name": "stdout",
     "output_type": "stream",
     "text": [
      "DecisionTreeClassifier, обычные данные.\n"
     ]
    },
    {
     "name": "stderr",
     "output_type": "stream",
     "text": [
      "/usr/local/lib/python3.5/dist-packages/sklearn/metrics/classification.py:1135: UndefinedMetricWarning: Precision and F-score are ill-defined and being set to 0.0 in labels with no predicted samples.\n",
      "  'precision', 'predicted', average, warn_for)\n"
     ]
    },
    {
     "name": "stdout",
     "output_type": "stream",
     "text": [
      "             precision    recall  f1-score   support\n",
      "\n",
      "Не заплатит       0.99      1.00      0.99    489536\n",
      "   Заплатит       0.00      0.00      0.00      5663\n",
      "\n",
      "avg / total       0.98      0.99      0.98    495199\n",
      "\n",
      "[[489536   5663]\n",
      " [     0      0]]\n"
     ]
    }
   ],
   "source": [
    "DTC = DecisionTreeClassifier(max_depth = 1, max_features = 4, class_weight = {0: 0.5, 1: 1})\n",
    "DTC.fit(X_train, y_train)\n",
    "print('DecisionTreeClassifier, обычные данные.')\n",
    "print(metrics.classification_report(y_test, DTC.predict(X_test), target_names = ['Не заплатит', 'Заплатит']))\n",
    "print(metrics.confusion_matrix(y_test, DTC.predict(X_test)).T)"
   ]
  },
  {
   "cell_type": "markdown",
   "metadata": {},
   "source": [
    "Стало хуже. Все отнеслось к одному классу. Потому что параметры настраивались по F1-микро. Попробуем F1-макро. Это среднее от F мер."
   ]
  },
  {
   "cell_type": "code",
   "execution_count": 14,
   "metadata": {
    "collapsed": true
   },
   "outputs": [],
   "source": [
    "tree_params2 = {'max_depth': range(2,9), 'max_features': range(4,9), 'class_weight': [{0: 0.5, 1: 1}, {0: 0.2, 1: 1}, {0: 0.1, 1: 1}, 'balanced']}"
   ]
  },
  {
   "cell_type": "code",
   "execution_count": 15,
   "metadata": {
    "collapsed": true
   },
   "outputs": [],
   "source": [
    "tree_grid = GridSearchCV(DecisionTreeClassifier(), tree_params2, scoring='f1_macro', verbose = True)\n",
    "tree_grid.fit(X_train, y_train)"
   ]
  },
  {
   "cell_type": "code",
   "execution_count": 17,
   "metadata": {},
   "outputs": [
    {
     "data": {
      "text/plain": [
       "{'class_weight': {0: 0.1, 1: 1}, 'max_depth': 8, 'max_features': 6}"
      ]
     },
     "execution_count": 17,
     "metadata": {},
     "output_type": "execute_result"
    }
   ],
   "source": [
    "tree_grid.best_params_ #лучшие параметры"
   ]
  },
  {
   "cell_type": "code",
   "execution_count": 20,
   "metadata": {
    "scrolled": false
   },
   "outputs": [
    {
     "name": "stdout",
     "output_type": "stream",
     "text": [
      "DecisionTreeClassifier, обычные данные.\n",
      "             precision    recall  f1-score   support\n",
      "\n",
      "Не заплатит       0.99      0.98      0.98    489536\n",
      "   Заплатит       0.11      0.22      0.15      5663\n",
      "\n",
      "avg / total       0.98      0.97      0.98    495199\n",
      "\n",
      "[[479242   4395]\n",
      " [ 10294   1268]]\n"
     ]
    }
   ],
   "source": [
    "DTC = DecisionTreeClassifier(max_depth = 8, max_features = 6, class_weight = {0: 0.1, 1: 1})\n",
    "DTC.fit(X_train, y_train)\n",
    "print('DecisionTreeClassifier, обычные данные.')\n",
    "print(metrics.classification_report(y_test, DTC.predict(X_test), target_names = ['Не заплатит', 'Заплатит']))\n",
    "print(metrics.confusion_matrix(y_test, DTC.predict(X_test)).T)"
   ]
  },
  {
   "cell_type": "markdown",
   "metadata": {},
   "source": [
    "Результат очень похож на линейный классификатор, но чуть-чуть лучше."
   ]
  },
  {
   "cell_type": "code",
   "execution_count": 550,
   "metadata": {},
   "outputs": [
    {
     "name": "stdout",
     "output_type": "stream",
     "text": [
      "Вероятность случайно выбрать плательщика 0.01132372664870532\n",
      "Если предсказано, что не заплатит, то вероятность плательщика 0.00908739405794015\n",
      "Если предсказано, что заплатит, то вероятность плательщика 0.10966960733437121\n"
     ]
    }
   ],
   "source": [
    "print('Вероятность случайно выбрать плательщика', y_test[y_test == 1].shape[0]/y_test.shape[0])\n",
    "print('Если предсказано, что не заплатит, то вероятность плательщика', 4395/(479242+4395))\n",
    "print('Если предсказано, что заплатит, то вероятность плательщика', 1268/(10294+1268))"
   ]
  },
  {
   "cell_type": "code",
   "execution_count": 22,
   "metadata": {
    "scrolled": true
   },
   "outputs": [
    {
     "name": "stdout",
     "output_type": "stream",
     "text": [
      "clusters_ml_ended 0.0185462842568\n",
      "quests_end 0.532020200387\n",
      "m_quests_end 0.0151493125587\n",
      "amount_visits 0.004754210924\n",
      "session_length 0.017661149693\n",
      "average_visit 0.00818629116323\n",
      "number_of_pgr 0.0431335491842\n",
      "first_session_start 0.0483941650371\n",
      "first_session_end 0.0171107146099\n",
      "country_id_0 0.0\n",
      "country_id_1 0.221742527963\n",
      "country_id_2 0.0361932828017\n",
      "country_id_3 0.0241206212164\n",
      "country_id_4 0.00364452083475\n",
      "country_id_5 0.0061506010801\n",
      "country_id_6 0.00319256828989\n"
     ]
    }
   ],
   "source": [
    "for name, importance in zip(first_day.columns, DTC.feature_importances_):\n",
    "    print(name, importance)"
   ]
  },
  {
   "cell_type": "markdown",
   "metadata": {},
   "source": [
    "# Посмотрим данные по IOS"
   ]
  },
  {
   "cell_type": "markdown",
   "metadata": {},
   "source": [
    "Загрузим таблицы с данными."
   ]
  },
  {
   "cell_type": "code",
   "execution_count": 91,
   "metadata": {},
   "outputs": [
    {
     "name": "stdout",
     "output_type": "stream",
     "text": [
      "dau_ios: (1725891, 4)\n",
      "pact_ios: (1051248, 10)\n",
      "sessions_ios: (7534075, 6)\n"
     ]
    }
   ],
   "source": [
    "dau_ios = pd.read_csv('practice_dau_ios.csv', sep='|', names = ['id', 'country','number_of_pgr', 'actdate'])\n",
    "print('dau_ios:', dau_ios.shape)\n",
    "\n",
    "pact_ios = pd.read_csv('practice_pact_ios.csv', sep='|', names = ['id', 'actdate', 'regdate', 'clusters_ml_ended',\n",
    "                                                                      'revenue', 'transactions', 'quests_end',\n",
    "                                                                       'm_quests_end', 'crystals_value_spend',\n",
    "                                                                       'store_enters'])\n",
    "print('pact_ios:', pact_ios.shape)\n",
    "\n",
    "sessions_ios = pd.read_csv('practice_sessions_ios.csv', sep='|', names = ['id', 'session_number','session_length',\n",
    "                                                                              'session_start_time', 'session_end_time',\n",
    "                                                                              'actdate'])\n",
    "print('sessions_ios:', sessions_ios.shape)"
   ]
  },
  {
   "cell_type": "code",
   "execution_count": 92,
   "metadata": {},
   "outputs": [
    {
     "data": {
      "text/html": [
       "<div>\n",
       "<style>\n",
       "    .dataframe thead tr:only-child th {\n",
       "        text-align: right;\n",
       "    }\n",
       "\n",
       "    .dataframe thead th {\n",
       "        text-align: left;\n",
       "    }\n",
       "\n",
       "    .dataframe tbody tr th {\n",
       "        vertical-align: top;\n",
       "    }\n",
       "</style>\n",
       "<table border=\"1\" class=\"dataframe\">\n",
       "  <thead>\n",
       "    <tr style=\"text-align: right;\">\n",
       "      <th></th>\n",
       "      <th>id</th>\n",
       "      <th>country</th>\n",
       "      <th>number_of_pgr</th>\n",
       "      <th>actdate</th>\n",
       "    </tr>\n",
       "  </thead>\n",
       "  <tbody>\n",
       "    <tr>\n",
       "      <th>0</th>\n",
       "      <td>c1d690f4ce</td>\n",
       "      <td>AU</td>\n",
       "      <td>9</td>\n",
       "      <td>2017-02-21</td>\n",
       "    </tr>\n",
       "    <tr>\n",
       "      <th>1</th>\n",
       "      <td>c1d690f4ce</td>\n",
       "      <td>AU</td>\n",
       "      <td>32</td>\n",
       "      <td>2017-02-18</td>\n",
       "    </tr>\n",
       "    <tr>\n",
       "      <th>2</th>\n",
       "      <td>c1d690f4ce</td>\n",
       "      <td>AU</td>\n",
       "      <td>11</td>\n",
       "      <td>2017-02-12</td>\n",
       "    </tr>\n",
       "    <tr>\n",
       "      <th>3</th>\n",
       "      <td>c1d690f4ce</td>\n",
       "      <td>AU</td>\n",
       "      <td>2</td>\n",
       "      <td>2017-02-17</td>\n",
       "    </tr>\n",
       "    <tr>\n",
       "      <th>4</th>\n",
       "      <td>c1d690f4ce</td>\n",
       "      <td>AU</td>\n",
       "      <td>4</td>\n",
       "      <td>2017-02-16</td>\n",
       "    </tr>\n",
       "  </tbody>\n",
       "</table>\n",
       "</div>"
      ],
      "text/plain": [
       "           id country  number_of_pgr    actdate\n",
       "0  c1d690f4ce      AU              9 2017-02-21\n",
       "1  c1d690f4ce      AU             32 2017-02-18\n",
       "2  c1d690f4ce      AU             11 2017-02-12\n",
       "3  c1d690f4ce      AU              2 2017-02-17\n",
       "4  c1d690f4ce      AU              4 2017-02-16"
      ]
     },
     "execution_count": 92,
     "metadata": {},
     "output_type": "execute_result"
    }
   ],
   "source": [
    "dau_ios['actdate'] = pd.to_datetime(dau_ios['actdate'])\n",
    "dau_ios.head(5)"
   ]
  },
  {
   "cell_type": "code",
   "execution_count": 93,
   "metadata": {},
   "outputs": [
    {
     "data": {
      "text/html": [
       "<div>\n",
       "<style>\n",
       "    .dataframe thead tr:only-child th {\n",
       "        text-align: right;\n",
       "    }\n",
       "\n",
       "    .dataframe thead th {\n",
       "        text-align: left;\n",
       "    }\n",
       "\n",
       "    .dataframe tbody tr th {\n",
       "        vertical-align: top;\n",
       "    }\n",
       "</style>\n",
       "<table border=\"1\" class=\"dataframe\">\n",
       "  <thead>\n",
       "    <tr style=\"text-align: right;\">\n",
       "      <th></th>\n",
       "      <th>id</th>\n",
       "      <th>actdate</th>\n",
       "      <th>regdate</th>\n",
       "      <th>clusters_ml_ended</th>\n",
       "      <th>revenue</th>\n",
       "      <th>transactions</th>\n",
       "      <th>quests_end</th>\n",
       "      <th>m_quests_end</th>\n",
       "      <th>crystals_value_spend</th>\n",
       "      <th>store_enters</th>\n",
       "    </tr>\n",
       "  </thead>\n",
       "  <tbody>\n",
       "    <tr>\n",
       "      <th>0</th>\n",
       "      <td>767bc9dfd3</td>\n",
       "      <td>2017-01-01</td>\n",
       "      <td>2017-01-01</td>\n",
       "      <td>1</td>\n",
       "      <td>0.0</td>\n",
       "      <td>0</td>\n",
       "      <td>9</td>\n",
       "      <td>0</td>\n",
       "      <td>0</td>\n",
       "      <td>0</td>\n",
       "    </tr>\n",
       "    <tr>\n",
       "      <th>1</th>\n",
       "      <td>249241537d</td>\n",
       "      <td>2017-01-01</td>\n",
       "      <td>2017-01-01</td>\n",
       "      <td>3</td>\n",
       "      <td>0.0</td>\n",
       "      <td>0</td>\n",
       "      <td>49</td>\n",
       "      <td>7</td>\n",
       "      <td>0</td>\n",
       "      <td>0</td>\n",
       "    </tr>\n",
       "    <tr>\n",
       "      <th>2</th>\n",
       "      <td>740d34570d</td>\n",
       "      <td>2017-01-01</td>\n",
       "      <td>2017-01-01</td>\n",
       "      <td>7</td>\n",
       "      <td>0.0</td>\n",
       "      <td>0</td>\n",
       "      <td>138</td>\n",
       "      <td>25</td>\n",
       "      <td>0</td>\n",
       "      <td>0</td>\n",
       "    </tr>\n",
       "    <tr>\n",
       "      <th>3</th>\n",
       "      <td>d288a3fd89</td>\n",
       "      <td>2017-01-02</td>\n",
       "      <td>2017-01-02</td>\n",
       "      <td>-2</td>\n",
       "      <td>0.0</td>\n",
       "      <td>0</td>\n",
       "      <td>0</td>\n",
       "      <td>0</td>\n",
       "      <td>0</td>\n",
       "      <td>0</td>\n",
       "    </tr>\n",
       "    <tr>\n",
       "      <th>4</th>\n",
       "      <td>ed716df037</td>\n",
       "      <td>2017-01-02</td>\n",
       "      <td>2017-01-01</td>\n",
       "      <td>2</td>\n",
       "      <td>0.0</td>\n",
       "      <td>0</td>\n",
       "      <td>3</td>\n",
       "      <td>1</td>\n",
       "      <td>0</td>\n",
       "      <td>0</td>\n",
       "    </tr>\n",
       "  </tbody>\n",
       "</table>\n",
       "</div>"
      ],
      "text/plain": [
       "           id    actdate    regdate  clusters_ml_ended  revenue  transactions  \\\n",
       "0  767bc9dfd3 2017-01-01 2017-01-01                  1      0.0             0   \n",
       "1  249241537d 2017-01-01 2017-01-01                  3      0.0             0   \n",
       "2  740d34570d 2017-01-01 2017-01-01                  7      0.0             0   \n",
       "3  d288a3fd89 2017-01-02 2017-01-02                 -2      0.0             0   \n",
       "4  ed716df037 2017-01-02 2017-01-01                  2      0.0             0   \n",
       "\n",
       "   quests_end  m_quests_end  crystals_value_spend  store_enters  \n",
       "0           9             0                     0             0  \n",
       "1          49             7                     0             0  \n",
       "2         138            25                     0             0  \n",
       "3           0             0                     0             0  \n",
       "4           3             1                     0             0  "
      ]
     },
     "execution_count": 93,
     "metadata": {},
     "output_type": "execute_result"
    }
   ],
   "source": [
    "pact_ios['actdate'] = pd.to_datetime(pact_ios['actdate'])\n",
    "pact_ios['regdate'] = pd.to_datetime(pact_ios['regdate'])\n",
    "pact_ios.head(5)"
   ]
  },
  {
   "cell_type": "code",
   "execution_count": 94,
   "metadata": {},
   "outputs": [
    {
     "data": {
      "text/html": [
       "<div>\n",
       "<style>\n",
       "    .dataframe thead tr:only-child th {\n",
       "        text-align: right;\n",
       "    }\n",
       "\n",
       "    .dataframe thead th {\n",
       "        text-align: left;\n",
       "    }\n",
       "\n",
       "    .dataframe tbody tr th {\n",
       "        vertical-align: top;\n",
       "    }\n",
       "</style>\n",
       "<table border=\"1\" class=\"dataframe\">\n",
       "  <thead>\n",
       "    <tr style=\"text-align: right;\">\n",
       "      <th></th>\n",
       "      <th>id</th>\n",
       "      <th>session_number</th>\n",
       "      <th>session_length</th>\n",
       "      <th>session_start_time</th>\n",
       "      <th>session_end_time</th>\n",
       "      <th>actdate</th>\n",
       "    </tr>\n",
       "  </thead>\n",
       "  <tbody>\n",
       "    <tr>\n",
       "      <th>0</th>\n",
       "      <td>00e954a1b3</td>\n",
       "      <td>12.0</td>\n",
       "      <td>29</td>\n",
       "      <td>14:46:40</td>\n",
       "      <td>14:47:09</td>\n",
       "      <td>2017-02-13</td>\n",
       "    </tr>\n",
       "    <tr>\n",
       "      <th>1</th>\n",
       "      <td>028498cd03</td>\n",
       "      <td>1.0</td>\n",
       "      <td>445</td>\n",
       "      <td>22:56:16</td>\n",
       "      <td>23:03:41</td>\n",
       "      <td>2017-01-21</td>\n",
       "    </tr>\n",
       "    <tr>\n",
       "      <th>2</th>\n",
       "      <td>12ab1dfa82</td>\n",
       "      <td>8.0</td>\n",
       "      <td>0</td>\n",
       "      <td>20:00:15</td>\n",
       "      <td>20:00:15</td>\n",
       "      <td>2017-02-10</td>\n",
       "    </tr>\n",
       "    <tr>\n",
       "      <th>3</th>\n",
       "      <td>0a0a1ffe3b</td>\n",
       "      <td>5.0</td>\n",
       "      <td>2846</td>\n",
       "      <td>05:28:14</td>\n",
       "      <td>06:15:40</td>\n",
       "      <td>2017-01-21</td>\n",
       "    </tr>\n",
       "    <tr>\n",
       "      <th>4</th>\n",
       "      <td>01c68437aa</td>\n",
       "      <td>7.0</td>\n",
       "      <td>1610</td>\n",
       "      <td>17:42:12</td>\n",
       "      <td>18:09:02</td>\n",
       "      <td>2017-01-13</td>\n",
       "    </tr>\n",
       "  </tbody>\n",
       "</table>\n",
       "</div>"
      ],
      "text/plain": [
       "           id  session_number  session_length session_start_time  \\\n",
       "0  00e954a1b3            12.0              29           14:46:40   \n",
       "1  028498cd03             1.0             445           22:56:16   \n",
       "2  12ab1dfa82             8.0               0           20:00:15   \n",
       "3  0a0a1ffe3b             5.0            2846           05:28:14   \n",
       "4  01c68437aa             7.0            1610           17:42:12   \n",
       "\n",
       "  session_end_time    actdate  \n",
       "0         14:47:09 2017-02-13  \n",
       "1         23:03:41 2017-01-21  \n",
       "2         20:00:15 2017-02-10  \n",
       "3         06:15:40 2017-01-21  \n",
       "4         18:09:02 2017-01-13  "
      ]
     },
     "execution_count": 94,
     "metadata": {},
     "output_type": "execute_result"
    }
   ],
   "source": [
    "sessions_ios['actdate'] = pd.to_datetime(sessions_ios['actdate'])\n",
    "sessions_ios['session_start_time'] = pd.to_datetime(sessions_ios['session_start_time'], unit='s') - sessions_ios['actdate']\n",
    "sessions_ios['session_end_time'] = pd.to_datetime(sessions_ios['session_end_time'], unit='s') - sessions_ios['actdate']\n",
    "sessions_ios.head(5)"
   ]
  },
  {
   "cell_type": "markdown",
   "metadata": {},
   "source": [
    "Подробнее рассмотрим содержание таблиц."
   ]
  },
  {
   "cell_type": "code",
   "execution_count": 97,
   "metadata": {
    "scrolled": true
   },
   "outputs": [
    {
     "name": "stdout",
     "output_type": "stream",
     "text": [
      "Всего в dau: 119\n",
      "id                 0\n",
      "country          119\n",
      "number_of_pgr      0\n",
      "actdate            0\n",
      "dtype: int64\n",
      "\n",
      "Всего в pact: 0\n",
      "id                      0\n",
      "actdate                 0\n",
      "regdate                 0\n",
      "clusters_ml_ended       0\n",
      "revenue                 0\n",
      "transactions            0\n",
      "quests_end              0\n",
      "m_quests_end            0\n",
      "crystals_value_spend    0\n",
      "store_enters            0\n",
      "dtype: int64\n",
      "\n",
      "Всего в sessions: 5938809\n",
      "id                          0\n",
      "session_number        5938809\n",
      "session_length              0\n",
      "session_start_time          0\n",
      "session_end_time            0\n",
      "actdate                     0\n",
      "dtype: int64\n"
     ]
    }
   ],
   "source": [
    "# пропущенные значения\n",
    "print('Всего в dau:', dau_ios.isnull().sum().sum())\n",
    "print(dau_ios.isnull().sum())\n",
    "print('\\nВсего в pact:', pact_ios.isnull().sum().sum())\n",
    "print(pact_ios.isnull().sum())\n",
    "print('\\nВсего в sessions:', sessions_ios.isnull().sum().sum())\n",
    "print(sessions_ios.isnull().sum())"
   ]
  },
  {
   "cell_type": "markdown",
   "metadata": {},
   "source": [
    "Рассмотрим немного подробнее таблицу pact_ios"
   ]
  },
  {
   "cell_type": "code",
   "execution_count": 98,
   "metadata": {},
   "outputs": [
    {
     "name": "stdout",
     "output_type": "stream",
     "text": [
      "clusters_ml_ended, min: -2, max 98, mean 11.138065423192243\n",
      "revenue, min: 0.0, max 527875.3, mean 352.19439268380194\n",
      "transactions, min: 0, max 54, mean 0.054720674855029454\n",
      "quests_end, min: 0, max 652, mean 14.843081746647794\n",
      "m_quests_end, min: 0, max 96, mean 3.3794528027639528\n",
      "crystals_value_spend, min: 0, max 0, mean 0.0\n",
      "store_enters, min: 0, max 0, mean 0.0\n"
     ]
    }
   ],
   "source": [
    "for i in pact_ios.columns[3:]:\n",
    "    print('%(id)s, min: %(min)s, max %(max)s, mean %(mean)s' %\n",
    "          {'id': i, 'min': pact_ios[i].min(), 'max': pact_ios[i].max(), 'mean': pact_ios[i].mean() })"
   ]
  },
  {
   "cell_type": "markdown",
   "metadata": {},
   "source": [
    "Выберем данные для работы. Так как смотреть надо по первому дню, выделю их."
   ]
  },
  {
   "cell_type": "code",
   "execution_count": 99,
   "metadata": {
    "scrolled": true
   },
   "outputs": [
    {
     "name": "stdout",
     "output_type": "stream",
     "text": [
      "Кол-во активности в день регистрации (178916, 10)\n",
      "Кол-во уникальных id (173795,)\n"
     ]
    }
   ],
   "source": [
    "print('Кол-во активности в день регистрации',\n",
    "      pact_ios[pact_ios['actdate'] == pact_ios['regdate']].shape)\n",
    "print('Кол-во уникальных id',\n",
    "      pact_ios[pact_ios['actdate'] == pact_ios['regdate']]['id'].unique().shape)"
   ]
  },
  {
   "cell_type": "code",
   "execution_count": 253,
   "metadata": {},
   "outputs": [],
   "source": [
    "#Данные о первом дне всех(включая дважды зареганных)\n",
    "fd_ios = pact_ios[pact_ios['actdate'] == pact_ios['regdate']]"
   ]
  },
  {
   "cell_type": "markdown",
   "metadata": {},
   "source": [
    "Есть пользователи, которые регестрировались несколько раз возьму первый."
   ]
  },
  {
   "cell_type": "code",
   "execution_count": 254,
   "metadata": {},
   "outputs": [],
   "source": [
    "#Те, кто регестрировался несколько раз, берем первый\n",
    "fd_ios = pd.merge(fd_ios, pact_ios.groupby('id', as_index= False).min()[['id', 'regdate']], on=['id', 'regdate'], how='inner')"
   ]
  },
  {
   "cell_type": "code",
   "execution_count": null,
   "metadata": {
    "collapsed": true
   },
   "outputs": [],
   "source": [
    "fd_ios = fd_ios[fd_ios['revenue'] == 0]\n",
    "#Те, кто заплатил в первый день не интересны."
   ]
  },
  {
   "cell_type": "code",
   "execution_count": 255,
   "metadata": {
    "collapsed": true
   },
   "outputs": [],
   "source": [
    "fd_sessions = pd.merge(fd_ios, sessions_ios, on=['id', 'actdate'], how='inner')\n",
    "#добавлю данные о сессиях в первый день"
   ]
  },
  {
   "cell_type": "code",
   "execution_count": 256,
   "metadata": {
    "collapsed": true
   },
   "outputs": [],
   "source": [
    "amount_visits_fd = pd.DataFrame(data = np.array([fd_sessions['id'].value_counts().index, fd_sessions['id'].value_counts().values]).T, columns=['id', 'amount_visits'])\n",
    "#Количетсво посещений в первый день"
   ]
  },
  {
   "cell_type": "code",
   "execution_count": 257,
   "metadata": {
    "collapsed": true
   },
   "outputs": [],
   "source": [
    "fd_ios = pd.merge(fd_ios, amount_visits_fd, on=['id'], how='inner')\n",
    "fd_ios = pd.merge(fd_ios, fd_sessions.groupby('id', as_index = False).sum()[['id', 'session_length']], on=['id'], how='inner')\n",
    "fd_ios = pd.merge(fd_ios, fd_sessions.groupby('id', as_index = False).min()[['id', 'session_start_time','session_end_time']], on=['id'], how='inner')\n",
    "fd_ios = pd.merge(fd_ios, fd_sessions.groupby('id', as_index = False).min()[['id', 'session_length']].rename(columns={'session_length': 'min_length'}), on=['id'], how='inner')\n",
    "fd_ios = pd.merge(fd_ios, fd_sessions.groupby('id', as_index = False).max()[['id', 'session_length']].rename(columns={'session_length': 'max_length'}), on=['id'], how='inner')\n",
    "#добавим к данным количество посещений,длину всех посещений в первый день и информацию о самом первом заходе"
   ]
  },
  {
   "cell_type": "code",
   "execution_count": 259,
   "metadata": {
    "scrolled": false
   },
   "outputs": [],
   "source": [
    "std_sess = fd_sessions.groupby('id').std().rename(columns={'session_length': 'std_session_length'})['std_session_length']\n",
    "std_sess = pd.DataFrame(std_sess)\n",
    "std_sess.fillna(value = 0, inplace = True)\n",
    "std_sess = std_sess.reset_index()\n",
    "fd_ios = pd.merge(fd_ios, std_sess, on=['id'], how='inner')"
   ]
  },
  {
   "cell_type": "code",
   "execution_count": 260,
   "metadata": {},
   "outputs": [],
   "source": [
    "fd_ios.drop(['store_enters', 'revenue', 'regdate', 'transactions', 'crystals_value_spend'], axis = 1, inplace = True)\n",
    "#они вроде нулевые => уберем"
   ]
  },
  {
   "cell_type": "code",
   "execution_count": 261,
   "metadata": {},
   "outputs": [],
   "source": [
    "fd_ios['average_visit'] = fd_ios['session_length']/fd_ios['amount_visits']"
   ]
  },
  {
   "cell_type": "code",
   "execution_count": 262,
   "metadata": {
    "collapsed": true
   },
   "outputs": [],
   "source": [
    "#у некоторых пользователей нет страны, заполним пропуск\n",
    "dau_ios.fillna(value='NAN', inplace = True)"
   ]
  },
  {
   "cell_type": "code",
   "execution_count": 450,
   "metadata": {},
   "outputs": [],
   "source": [
    "# - other, 1 - North America, 2 - Azia, 3 - Europe, 4 - Africa, 5 -  Australia, 6 - South America\n",
    "country_dict = {'--': 0, 'TC': 5, 'MS': 5, 'TD': 4, 'A1': 0, 'A2': 0, 'AD': 0, 'AE': 2, 'AF': 0, 'AG': 0, 'AI': 0, 'AL': 3, 'AM': 3, 'AO': 0, 'AP': 0, 'AQ': 0, 'AR': 6, 'AS': 0, 'AT': 3, 'AU': 5, 'AW': 0, 'AX': 0, 'AZ': 2, 'BA': 3, 'BB': 0, 'BD': 2, 'BE': 3, 'BF': 0, 'BG': 3, 'BH': 3, 'BJ': 0, 'BM': 0, 'BN': 2, 'BO': 4, 'BQ': 0, 'BR': 6, 'BS': 0, 'BT': 0, 'BW': 0, 'BY': 3, 'BZ': 0, 'CA': 1, 'CD': 0, 'CG': 0, 'CH': 3, 'CI': 4, 'CL': 6, 'CM': 4, 'CN': 2, 'CO': 6, 'CR': 6, 'CU': 0, 'CV': 0, 'CW': 0, 'CY': 3, 'CZ': 3, 'DE': 3, 'DJ': 0, 'DK': 3, 'DM': 0, 'DO': 6, 'DZ': 4, 'EC': 6, 'EE': 3, 'EG': 4, 'ES': 3, 'ET': 0, 'EU': 0, 'FI': 3, 'FJ': 5, 'FM': 0, 'FO': 0, 'FR': 3, 'GA': 0, 'GB': 3, 'GD': 0, 'GE': 0, 'GF': 0, 'GG': 0, 'GH': 4, 'GI': 0, 'GL': 0, 'GM': 0, 'GN': 0, 'GP': 0, 'GQ': 0, 'GR': 3, 'GT': 6, 'GU': 0, 'GW': 0, 'GY': 0, 'HK': 2, 'HN': 6, 'HR': 3, 'HT': 6, 'HU': 3, 'ID': 2, 'IE': 3, 'IL': 2, 'IM': 0, 'IN': 2, 'IQ': 2, 'IR': 2, 'IS': 3, 'IT': 3, 'JE': 0, 'JM': 6, 'JO': 2, 'JP': 2, 'KE': 4, 'KG': 2, 'KH': 2, 'KN': 0, 'KP': 0, 'KR': 2, 'KW': 2, 'KY': 0, 'KZ': 2, 'LA': 2, 'LB': 2, 'LC': 0, 'LI': 0, 'LK': 2, 'LR': 0, 'LS': 0, 'LT': 3, 'LU': 3, 'LV': 3, 'LY': 0, 'MA': 4, 'MC': 0, 'MD': 3, 'ME': 0, 'MF': 0, 'MG': 0, 'MH': 0, 'MK': 3, 'ML': 0, 'MM': 0, 'MN': 0, 'MO': 0, 'MP': 0, 'MQ': 0, 'MR': 0, 'MT': 3, 'MU': 4, 'MV': 0, 'MX': 6, 'MY': 2, 'MZ': 4, 'NAN': 0, 'NC': 0, 'NE': 0, 'NG': 4, 'NI': 6, 'NL': 3, 'NO': 3, 'NP': 2, 'NR': 0, 'NZ': 6, 'OM': 2, 'PA': 6, 'PE': 6, 'PF': 0, 'PG': 0, 'PH': 2, 'PK': 2, 'PL': 3, 'PM': 0, 'PR': 6, 'PS': 0, 'PT': 3, 'PW': 0, 'PY': 6, 'QA': 2, 'RE': 0, 'RO': 3, 'RS': 3, 'RU': 3, 'RW': 0, 'SA': 2, 'SC': 0, 'SD': 0, 'SE': 3, 'SG': 2, 'SI': 3, 'SK': 3, 'SL': 0, 'SM': 0, 'SN': 4, 'SO': 0, 'SR': 0, 'SS': 0, 'ST': 0, 'SV': 6, 'SX': 0, 'SY': 2, 'SZ': 0, 'TG': 0, 'TH': 2, 'TJ': 0, 'TL': 0, 'TM': 2, 'TN': 4, 'TO': 0, 'TR': 2, 'TT': 6, 'TW': 2, 'TZ': 4, 'UA': 3, 'UG': 0, 'US': 1, 'UY': 6, 'UZ': 2, 'VC': 0, 'VE': 6, 'VG': 0, 'VI': 0, 'VN': 2, 'VU': 0, 'WS': 0, 'YE': 2, 'YT': 0, 'ZA': 4, 'ZM': 0, 'ZW': 0}"
   ]
  },
  {
   "cell_type": "code",
   "execution_count": 263,
   "metadata": {},
   "outputs": [],
   "source": [
    "fd_ios = pd.merge(fd_ios, dau_ios.sort_values('number_of_pgr', ascending = 0).groupby(['id', 'actdate'], as_index = False).first(), on=['id', 'actdate'], how='inner')\n",
    "#Добавим страну и number_of_pgr"
   ]
  },
  {
   "cell_type": "code",
   "execution_count": 264,
   "metadata": {
    "collapsed": true
   },
   "outputs": [],
   "source": [
    "def country_to_id(country):\n",
    "    return country_dict[country]\n",
    "\n",
    "fd_ios['continent'] = fd_ios['country'].apply(country_to_id)"
   ]
  },
  {
   "cell_type": "code",
   "execution_count": 265,
   "metadata": {
    "collapsed": true
   },
   "outputs": [],
   "source": [
    "fd_ios['amount_visits'] = fd_ios['amount_visits'].astype('int64')\n",
    "fd_ios['average_visit'] = fd_ios['average_visit'].astype('float64')"
   ]
  },
  {
   "cell_type": "code",
   "execution_count": 449,
   "metadata": {},
   "outputs": [],
   "source": [
    "country_rang = {'US': 1, 'FR': 2, 'GB': 2, 'DE': 2, 'CA': 4, 'RU': 2, 'AU': 4, 'SG': 4, 'PH': 4, 'CH': 2, 'IN': 4}\n",
    "#1 - US, 2 - top Europe, 3 - other Europe, 4 - top Other World, 5 - Other Other World."
   ]
  },
  {
   "cell_type": "code",
   "execution_count": 266,
   "metadata": {},
   "outputs": [],
   "source": [
    "for i in dau_ios['country'].value_counts().index:\n",
    "    if i in country_rang:\n",
    "        continue\n",
    "    else:\n",
    "        if country_dict[i] == 3:\n",
    "            country_rang[i] = 3\n",
    "        else:\n",
    "            country_rang[i] = 5"
   ]
  },
  {
   "cell_type": "code",
   "execution_count": 267,
   "metadata": {},
   "outputs": [],
   "source": [
    "def country_to_rang(country):\n",
    "    return country_rang[country]\n",
    "\n",
    "fd_ios['country_rang'] = fd_ios['country'].apply(country_to_rang)"
   ]
  },
  {
   "cell_type": "code",
   "execution_count": 268,
   "metadata": {},
   "outputs": [],
   "source": [
    "def to_seconds(session_start_time):\n",
    "    return session_start_time.total_seconds()\n",
    "fd_ios['first_session_start'] = fd_ios['session_start_time'].apply(to_seconds)\n",
    "fd_ios['first_session_end'] = fd_ios['session_end_time'].apply(to_seconds)\n",
    "fd_ios.drop('session_start_time', axis = 1, inplace = True)\n",
    "fd_ios.drop('session_end_time', axis = 1, inplace = True)"
   ]
  },
  {
   "cell_type": "code",
   "execution_count": 269,
   "metadata": {},
   "outputs": [],
   "source": [
    "from sklearn.preprocessing import OneHotEncoder\n",
    "ohe = OneHotEncoder(sparse = False)\n",
    "new_ohe_features = ohe.fit_transform(fd_ios.continent.values.reshape(-1,1))\n",
    "tmp = pd.DataFrame(new_ohe_features, columns=['continent_' + str(i) for i in range(new_ohe_features.shape[1])])\n",
    "fd_ios = pd.concat([fd_ios, tmp], axis = 1)"
   ]
  },
  {
   "cell_type": "code",
   "execution_count": 270,
   "metadata": {},
   "outputs": [],
   "source": [
    "ohe = OneHotEncoder(sparse = False)\n",
    "new_ohe_features = ohe.fit_transform(fd_ios.country_rang.values.reshape(-1,1))\n",
    "tmp = pd.DataFrame(new_ohe_features, columns=['contry_rang_' + str(i) for i in range(new_ohe_features.shape[1])])\n",
    "fd_ios = pd.concat([fd_ios, tmp], axis = 1)"
   ]
  },
  {
   "cell_type": "code",
   "execution_count": 271,
   "metadata": {},
   "outputs": [],
   "source": [
    "fd_ios.drop('continent', axis = 1, inplace=True)\n",
    "fd_ios.drop('country', axis = 1, inplace = True)\n",
    "fd_ios.drop('country_rang', axis = 1, inplace=True)"
   ]
  },
  {
   "cell_type": "code",
   "execution_count": 272,
   "metadata": {
    "collapsed": true
   },
   "outputs": [],
   "source": [
    "positive_id = pact_ios.groupby('id').sum()[pact_ios.groupby('id').sum()['revenue'] > 0].index\n",
    "#Там, где будет единица в целевой переменной"
   ]
  },
  {
   "cell_type": "code",
   "execution_count": 273,
   "metadata": {},
   "outputs": [],
   "source": [
    "def cr_answer(id):\n",
    "    return int(id in positive_id)\n",
    "\n",
    "fd_ios['answer'] = fd_ios['id'].apply(cr_answer)\n",
    "answer = fd_ios['answer']"
   ]
  },
  {
   "cell_type": "code",
   "execution_count": 234,
   "metadata": {},
   "outputs": [
    {
     "data": {
      "text/html": [
       "<div>\n",
       "<style>\n",
       "    .dataframe thead tr:only-child th {\n",
       "        text-align: right;\n",
       "    }\n",
       "\n",
       "    .dataframe thead th {\n",
       "        text-align: left;\n",
       "    }\n",
       "\n",
       "    .dataframe tbody tr th {\n",
       "        vertical-align: top;\n",
       "    }\n",
       "</style>\n",
       "<table border=\"1\" class=\"dataframe\">\n",
       "  <thead>\n",
       "    <tr style=\"text-align: right;\">\n",
       "      <th></th>\n",
       "      <th>id</th>\n",
       "      <th>actdate</th>\n",
       "      <th>clusters_ml_ended</th>\n",
       "      <th>quests_end</th>\n",
       "      <th>m_quests_end</th>\n",
       "      <th>amount_visits</th>\n",
       "      <th>session_length</th>\n",
       "      <th>std_session_length</th>\n",
       "      <th>average_visit</th>\n",
       "      <th>number_of_pgr</th>\n",
       "      <th>...</th>\n",
       "      <th>continent_4</th>\n",
       "      <th>continent_5</th>\n",
       "      <th>continent_6</th>\n",
       "      <th>contry_rang_0</th>\n",
       "      <th>contry_rang_1</th>\n",
       "      <th>contry_rang_2</th>\n",
       "      <th>contry_rang_3</th>\n",
       "      <th>contry_rang_4</th>\n",
       "      <th>min_length</th>\n",
       "      <th>answer</th>\n",
       "    </tr>\n",
       "  </thead>\n",
       "  <tbody>\n",
       "    <tr>\n",
       "      <th>0</th>\n",
       "      <td>767bc9dfd3</td>\n",
       "      <td>2017-01-01</td>\n",
       "      <td>1</td>\n",
       "      <td>9</td>\n",
       "      <td>0</td>\n",
       "      <td>1</td>\n",
       "      <td>577</td>\n",
       "      <td>0.000000</td>\n",
       "      <td>577.000000</td>\n",
       "      <td>20</td>\n",
       "      <td>...</td>\n",
       "      <td>0.0</td>\n",
       "      <td>0.0</td>\n",
       "      <td>0.0</td>\n",
       "      <td>0.0</td>\n",
       "      <td>1.0</td>\n",
       "      <td>0.0</td>\n",
       "      <td>0.0</td>\n",
       "      <td>0.0</td>\n",
       "      <td>577</td>\n",
       "      <td>0</td>\n",
       "    </tr>\n",
       "    <tr>\n",
       "      <th>1</th>\n",
       "      <td>249241537d</td>\n",
       "      <td>2017-01-01</td>\n",
       "      <td>3</td>\n",
       "      <td>49</td>\n",
       "      <td>7</td>\n",
       "      <td>4</td>\n",
       "      <td>3057</td>\n",
       "      <td>522.086439</td>\n",
       "      <td>764.250000</td>\n",
       "      <td>188</td>\n",
       "      <td>...</td>\n",
       "      <td>0.0</td>\n",
       "      <td>0.0</td>\n",
       "      <td>0.0</td>\n",
       "      <td>0.0</td>\n",
       "      <td>1.0</td>\n",
       "      <td>0.0</td>\n",
       "      <td>0.0</td>\n",
       "      <td>0.0</td>\n",
       "      <td>0</td>\n",
       "      <td>0</td>\n",
       "    </tr>\n",
       "    <tr>\n",
       "      <th>2</th>\n",
       "      <td>740d34570d</td>\n",
       "      <td>2017-01-01</td>\n",
       "      <td>7</td>\n",
       "      <td>138</td>\n",
       "      <td>25</td>\n",
       "      <td>6</td>\n",
       "      <td>14800</td>\n",
       "      <td>3910.096606</td>\n",
       "      <td>2466.666667</td>\n",
       "      <td>506</td>\n",
       "      <td>...</td>\n",
       "      <td>0.0</td>\n",
       "      <td>0.0</td>\n",
       "      <td>0.0</td>\n",
       "      <td>0.0</td>\n",
       "      <td>1.0</td>\n",
       "      <td>0.0</td>\n",
       "      <td>0.0</td>\n",
       "      <td>0.0</td>\n",
       "      <td>215</td>\n",
       "      <td>0</td>\n",
       "    </tr>\n",
       "    <tr>\n",
       "      <th>3</th>\n",
       "      <td>d288a3fd89</td>\n",
       "      <td>2017-01-02</td>\n",
       "      <td>-2</td>\n",
       "      <td>0</td>\n",
       "      <td>0</td>\n",
       "      <td>1</td>\n",
       "      <td>0</td>\n",
       "      <td>0.000000</td>\n",
       "      <td>0.000000</td>\n",
       "      <td>1</td>\n",
       "      <td>...</td>\n",
       "      <td>0.0</td>\n",
       "      <td>0.0</td>\n",
       "      <td>0.0</td>\n",
       "      <td>0.0</td>\n",
       "      <td>1.0</td>\n",
       "      <td>0.0</td>\n",
       "      <td>0.0</td>\n",
       "      <td>0.0</td>\n",
       "      <td>0</td>\n",
       "      <td>0</td>\n",
       "    </tr>\n",
       "    <tr>\n",
       "      <th>4</th>\n",
       "      <td>a0c40aa289</td>\n",
       "      <td>2017-01-02</td>\n",
       "      <td>5</td>\n",
       "      <td>40</td>\n",
       "      <td>8</td>\n",
       "      <td>1</td>\n",
       "      <td>1875</td>\n",
       "      <td>0.000000</td>\n",
       "      <td>1875.000000</td>\n",
       "      <td>64</td>\n",
       "      <td>...</td>\n",
       "      <td>0.0</td>\n",
       "      <td>1.0</td>\n",
       "      <td>0.0</td>\n",
       "      <td>0.0</td>\n",
       "      <td>0.0</td>\n",
       "      <td>0.0</td>\n",
       "      <td>1.0</td>\n",
       "      <td>0.0</td>\n",
       "      <td>1875</td>\n",
       "      <td>0</td>\n",
       "    </tr>\n",
       "  </tbody>\n",
       "</table>\n",
       "<p>5 rows × 26 columns</p>\n",
       "</div>"
      ],
      "text/plain": [
       "           id    actdate  clusters_ml_ended  quests_end  m_quests_end  \\\n",
       "0  767bc9dfd3 2017-01-01                  1           9             0   \n",
       "1  249241537d 2017-01-01                  3          49             7   \n",
       "2  740d34570d 2017-01-01                  7         138            25   \n",
       "3  d288a3fd89 2017-01-02                 -2           0             0   \n",
       "4  a0c40aa289 2017-01-02                  5          40             8   \n",
       "\n",
       "   amount_visits  session_length  std_session_length  average_visit  \\\n",
       "0              1             577            0.000000     577.000000   \n",
       "1              4            3057          522.086439     764.250000   \n",
       "2              6           14800         3910.096606    2466.666667   \n",
       "3              1               0            0.000000       0.000000   \n",
       "4              1            1875            0.000000    1875.000000   \n",
       "\n",
       "   number_of_pgr   ...    continent_4  continent_5  continent_6  \\\n",
       "0             20   ...            0.0          0.0          0.0   \n",
       "1            188   ...            0.0          0.0          0.0   \n",
       "2            506   ...            0.0          0.0          0.0   \n",
       "3              1   ...            0.0          0.0          0.0   \n",
       "4             64   ...            0.0          1.0          0.0   \n",
       "\n",
       "   contry_rang_0  contry_rang_1  contry_rang_2  contry_rang_3  contry_rang_4  \\\n",
       "0            0.0            1.0            0.0            0.0            0.0   \n",
       "1            0.0            1.0            0.0            0.0            0.0   \n",
       "2            0.0            1.0            0.0            0.0            0.0   \n",
       "3            0.0            1.0            0.0            0.0            0.0   \n",
       "4            0.0            0.0            0.0            1.0            0.0   \n",
       "\n",
       "   min_length  answer  \n",
       "0         577       0  \n",
       "1           0       0  \n",
       "2         215       0  \n",
       "3           0       0  \n",
       "4        1875       0  \n",
       "\n",
       "[5 rows x 26 columns]"
      ]
     },
     "execution_count": 234,
     "metadata": {},
     "output_type": "execute_result"
    }
   ],
   "source": [
    "fd_ios.head(5)"
   ]
  },
  {
   "cell_type": "code",
   "execution_count": 274,
   "metadata": {},
   "outputs": [],
   "source": [
    "fd_ios.drop(['id', 'actdate'], axis = 1, inplace = True)\n",
    "fd_ios['continent_0'] = fd_ios['continent_0'].astype('int64')\n",
    "fd_ios['continent_1'] = fd_ios['continent_1'].astype('int64')\n",
    "fd_ios['continent_2'] = fd_ios['continent_2'].astype('int64')\n",
    "fd_ios['continent_3'] = fd_ios['continent_3'].astype('int64')\n",
    "fd_ios['continent_4'] = fd_ios['continent_4'].astype('int64')\n",
    "fd_ios['continent_5'] = fd_ios['continent_5'].astype('int64')\n",
    "fd_ios['continent_6'] = fd_ios['continent_6'].astype('int64')\n",
    "fd_ios['contry_rang_1'] = fd_ios['contry_rang_1'].astype('int64')\n",
    "fd_ios['contry_rang_2'] = fd_ios['contry_rang_2'].astype('int64')\n",
    "fd_ios['contry_rang_3'] = fd_ios['contry_rang_3'].astype('int64')\n",
    "fd_ios['contry_rang_4'] = fd_ios['contry_rang_4'].astype('int64')\n",
    "fd_ios['contry_rang_0'] = fd_ios['contry_rang_0'].astype('int64')\n",
    "fd_ios['first_session_start'] = fd_ios['first_session_start'].astype('int64')\n",
    "fd_ios['first_session_end'] = fd_ios['first_session_end'].astype('int64')"
   ]
  },
  {
   "cell_type": "code",
   "execution_count": 563,
   "metadata": {
    "scrolled": true
   },
   "outputs": [
    {
     "name": "stdout",
     "output_type": "stream",
     "text": [
      "В выборке 0.059 часть плательщиков.\n"
     ]
    }
   ],
   "source": [
    "pay_persent_ios = fd_ios[fd_ios['answer'] > 0].shape[0]/fd_ios.shape[0]\n",
    "print('В выборке', round(pay_persent_ios, 3), 'часть плательщиков.')"
   ]
  },
  {
   "cell_type": "code",
   "execution_count": 555,
   "metadata": {
    "collapsed": true
   },
   "outputs": [],
   "source": [
    "fd_ios['answer'] = answer"
   ]
  },
  {
   "cell_type": "code",
   "execution_count": 277,
   "metadata": {
    "collapsed": true
   },
   "outputs": [],
   "source": [
    "fd_ios.to_csv('fd_ios.csv')"
   ]
  },
  {
   "cell_type": "code",
   "execution_count": 562,
   "metadata": {
    "collapsed": true
   },
   "outputs": [],
   "source": [
    "fd_ios = pd.read_csv('fd_ios.csv')"
   ]
  },
  {
   "cell_type": "code",
   "execution_count": 564,
   "metadata": {
    "collapsed": true
   },
   "outputs": [],
   "source": [
    "answer = fd_ios['answer']\n",
    "fd_ios.drop('answer', axis = 1, inplace = True)"
   ]
  },
  {
   "cell_type": "markdown",
   "metadata": {},
   "source": [
    "# Обучение"
   ]
  },
  {
   "cell_type": "code",
   "execution_count": 318,
   "metadata": {
    "collapsed": true
   },
   "outputs": [],
   "source": [
    "from sklearn.linear_model import LogisticRegression\n",
    "from sklearn import metrics\n",
    "from sklearn import preprocessing\n",
    "from sklearn.model_selection import train_test_split\n",
    "from sklearn.model_selection import GridSearchCV\n",
    "from sklearn.model_selection import KFold\n",
    "from sklearn.linear_model import SGDClassifier\n",
    "from sklearn.ensemble import RandomForestClassifier\n",
    "from sklearn.ensemble import GradientBoostingClassifier"
   ]
  },
  {
   "cell_type": "code",
   "execution_count": 279,
   "metadata": {
    "collapsed": true
   },
   "outputs": [],
   "source": [
    "#разделим выборку на тестовую и тренировочную\n",
    "X_train, X_test, y_train, y_test = train_test_split(fd_ios, answer, test_size = 0.25, random_state = 42)"
   ]
  },
  {
   "cell_type": "markdown",
   "metadata": {},
   "source": [
    "## Decision Tree Classifier"
   ]
  },
  {
   "cell_type": "code",
   "execution_count": 280,
   "metadata": {},
   "outputs": [
    {
     "name": "stdout",
     "output_type": "stream",
     "text": [
      "DecisionTreeClassifier, обычные данные.\n",
      "             precision    recall  f1-score   support\n",
      "\n",
      "Не заплатит       0.95      0.95      0.95     40267\n",
      "   Заплатит       0.20      0.20      0.20      2463\n",
      "\n",
      "avg / total       0.91      0.91      0.91     42730\n",
      "\n",
      "[[38265  1970]\n",
      " [ 2002   493]]\n"
     ]
    }
   ],
   "source": [
    "DTC = DecisionTreeClassifier(class_weight = 'balanced')\n",
    "DTC.fit(X_train, y_train)\n",
    "print('DecisionTreeClassifier, обычные данные.')\n",
    "print(metrics.classification_report(y_test, DTC.predict(X_test), target_names = ['Не заплатит', 'Заплатит']))\n",
    "print(metrics.confusion_matrix(y_test, DTC.predict(X_test)).T)"
   ]
  },
  {
   "cell_type": "code",
   "execution_count": 248,
   "metadata": {
    "collapsed": true
   },
   "outputs": [],
   "source": [
    "tree_params = {'max_depth': range(1,12), 'max_features': range(4,13), 'class_weight': [{0: 0.5, 1: 1}, {0: 0.2, 1: 1}, {0: 0.1, 1: 1}, {0:0.05, 1:1}, 'balanced']}"
   ]
  },
  {
   "cell_type": "code",
   "execution_count": 249,
   "metadata": {
    "collapsed": true
   },
   "outputs": [],
   "source": [
    "tree_grid = GridSearchCV(DecisionTreeClassifier(), tree_params, cv=5, scoring='f1_macro', verbose = True)\n",
    "tree_grid.fit(X_train, y_train)"
   ]
  },
  {
   "cell_type": "code",
   "execution_count": 251,
   "metadata": {},
   "outputs": [
    {
     "data": {
      "text/plain": [
       "{'class_weight': {0: 0.2, 1: 1}, 'max_depth': 6, 'max_features': 11}"
      ]
     },
     "execution_count": 251,
     "metadata": {},
     "output_type": "execute_result"
    }
   ],
   "source": [
    "tree_grid.best_params_"
   ]
  },
  {
   "cell_type": "code",
   "execution_count": 435,
   "metadata": {},
   "outputs": [
    {
     "name": "stdout",
     "output_type": "stream",
     "text": [
      "DecisionTreeClassifier, обычные данные.\n",
      "             precision    recall  f1-score   support\n",
      "\n",
      "Не заплатит       0.96      0.94      0.95     40267\n",
      "   Заплатит       0.28      0.39      0.32      2463\n",
      "\n",
      "avg / total       0.92      0.91      0.91     42730\n",
      "\n",
      "[[37769  1513]\n",
      " [ 2498   950]]\n"
     ]
    }
   ],
   "source": [
    "DTC = DecisionTreeClassifier(class_weight = {0: 0.2, 1: 1}, max_depth = 6, max_features = 11)\n",
    "DTC.fit(X_train, y_train)\n",
    "print('DecisionTreeClassifier, обычные данные.')\n",
    "print(metrics.classification_report(y_test, DTC.predict(X_test), target_names = ['Не заплатит', 'Заплатит']))\n",
    "print(metrics.confusion_matrix(y_test, DTC.predict(X_test)).T)"
   ]
  },
  {
   "cell_type": "code",
   "execution_count": 436,
   "metadata": {},
   "outputs": [],
   "source": [
    "feature_importances = []\n",
    "for name, importance in zip(fd_ios.columns, DTC.feature_importances_):\n",
    "    feature_importances.append([name, importance])"
   ]
  },
  {
   "cell_type": "code",
   "execution_count": 437,
   "metadata": {},
   "outputs": [],
   "source": [
    "feature_importances.sort(key = lambda x: -x[1])\n",
    "feature_importances = pd.DataFrame(feature_importances, columns = ['feature', 'importance'])"
   ]
  },
  {
   "cell_type": "code",
   "execution_count": 439,
   "metadata": {
    "scrolled": true
   },
   "outputs": [
    {
     "name": "stdout",
     "output_type": "stream",
     "text": [
      "Важность признаков в DecisionTreeClassifier. Топ 10.\n"
     ]
    },
    {
     "data": {
      "image/png": "[encoded data removed]",
      "text/plain": [
       "<matplotlib.figure.Figure at 0x16813102e48>"
      ]
     },
     "metadata": {},
     "output_type": "display_data"
    }
   ],
   "source": [
    "print('Важность признаков в DecisionTreeClassifier. Топ 10.')\n",
    "import matplotlib.pyplot as plt\n",
    "%matplotlib inline\n",
    "plt.figure()\n",
    "plt.barh(range(10), feature_importances.importance[0:10])\n",
    "plt.yticks(range(10), feature_importances.feature[0:10])\n",
    "plt.show()"
   ]
  },
  {
   "cell_type": "markdown",
   "metadata": {},
   "source": [
    "## RandomForestClassifier"
   ]
  },
  {
   "cell_type": "code",
   "execution_count": 379,
   "metadata": {
    "scrolled": false
   },
   "outputs": [
    {
     "name": "stdout",
     "output_type": "stream",
     "text": [
      "DecisionTreeClassifier, обычные данные.\n",
      "             precision    recall  f1-score   support\n",
      "\n",
      "Не заплатит       0.96      0.95      0.95     40267\n",
      "   Заплатит       0.30      0.38      0.34      2463\n",
      "\n",
      "avg / total       0.92      0.91      0.92     42730\n",
      "\n",
      "[[38113  1534]\n",
      " [ 2154   929]]\n"
     ]
    }
   ],
   "source": [
    "from sklearn.ensemble import RandomForestClassifier\n",
    "RFC = RandomForestClassifier(n_estimators=100,  max_depth = 6, max_features = 11, class_weight = {0: 0.2, 1: 1})\n",
    "RFC = RFC.fit(X_train, y_train)\n",
    "print('DecisionTreeClassifier, обычные данные.')\n",
    "print(metrics.classification_report(y_test, RFC.predict(X_test), target_names = ['Не заплатит', 'Заплатит']))\n",
    "print(metrics.confusion_matrix(y_test, RFC.predict(X_test)).T)"
   ]
  },
  {
   "cell_type": "code",
   "execution_count": 444,
   "metadata": {},
   "outputs": [],
   "source": [
    "feature_importances_RFC = []\n",
    "for name, importance in zip(fd_ios.columns, RFC.feature_importances_):\n",
    "    feature_importances_RFC.append([name, importance])\n",
    "feature_importances_RFC.sort(key = lambda x: -x[1])\n",
    "feature_importances_RFC = pd.DataFrame(feature_importances_RFC, columns = ['feature', 'importance'])"
   ]
  },
  {
   "cell_type": "code",
   "execution_count": 448,
   "metadata": {},
   "outputs": [
    {
     "name": "stdout",
     "output_type": "stream",
     "text": [
      "Важность признаков(RandomForestClassifier). Топ 15\n"
     ]
    },
    {
     "data": {
      "image/png": "[encoded data removed]",
      "text/plain": [
       "<matplotlib.figure.Figure at 0x16815100b00>"
      ]
     },
     "metadata": {},
     "output_type": "display_data"
    }
   ],
   "source": [
    "print('Важность признаков(RandomForestClassifier). Топ 15')\n",
    "plt.figure()\n",
    "plt.barh(range(15), feature_importances_RFC.importance[0:15])\n",
    "plt.yticks(range(15), feature_importances_RFC.feature[0:15])\n",
    "plt.show()"
   ]
  },
  {
   "cell_type": "markdown",
   "metadata": {},
   "source": [
    "## Метрика Lift"
   ]
  },
  {
   "cell_type": "code",
   "execution_count": 451,
   "metadata": {
    "collapsed": true
   },
   "outputs": [],
   "source": [
    "y_pred = RFC.predict(X_test) # порог 0.5\n",
    "y_pred_proba = RFC.predict_proba(X_test)[:,1]"
   ]
  },
  {
   "cell_type": "code",
   "execution_count": 455,
   "metadata": {
    "scrolled": true
   },
   "outputs": [
    {
     "data": {
      "text/html": [
       "<div>\n",
       "<style>\n",
       "    .dataframe thead tr:only-child th {\n",
       "        text-align: right;\n",
       "    }\n",
       "\n",
       "    .dataframe thead th {\n",
       "        text-align: left;\n",
       "    }\n",
       "\n",
       "    .dataframe tbody tr th {\n",
       "        vertical-align: top;\n",
       "    }\n",
       "</style>\n",
       "<table border=\"1\" class=\"dataframe\">\n",
       "  <thead>\n",
       "    <tr style=\"text-align: right;\">\n",
       "      <th></th>\n",
       "      <th>answer</th>\n",
       "      <th>probability</th>\n",
       "      <th>real_answer</th>\n",
       "    </tr>\n",
       "  </thead>\n",
       "  <tbody>\n",
       "    <tr>\n",
       "      <th>113448</th>\n",
       "      <td>1</td>\n",
       "      <td>0.982094</td>\n",
       "      <td>1</td>\n",
       "    </tr>\n",
       "    <tr>\n",
       "      <th>115972</th>\n",
       "      <td>1</td>\n",
       "      <td>0.981548</td>\n",
       "      <td>1</td>\n",
       "    </tr>\n",
       "    <tr>\n",
       "      <th>125035</th>\n",
       "      <td>1</td>\n",
       "      <td>0.981238</td>\n",
       "      <td>1</td>\n",
       "    </tr>\n",
       "    <tr>\n",
       "      <th>23082</th>\n",
       "      <td>1</td>\n",
       "      <td>0.981238</td>\n",
       "      <td>1</td>\n",
       "    </tr>\n",
       "    <tr>\n",
       "      <th>74649</th>\n",
       "      <td>1</td>\n",
       "      <td>0.981223</td>\n",
       "      <td>1</td>\n",
       "    </tr>\n",
       "  </tbody>\n",
       "</table>\n",
       "</div>"
      ],
      "text/plain": [
       "        answer  probability  real_answer\n",
       "113448       1     0.982094            1\n",
       "115972       1     0.981548            1\n",
       "125035       1     0.981238            1\n",
       "23082        1     0.981238            1\n",
       "74649        1     0.981223            1"
      ]
     },
     "execution_count": 455,
     "metadata": {},
     "output_type": "execute_result"
    }
   ],
   "source": [
    "lift_df = pd.DataFrame({'probability': y_pred_proba, 'real_answer': y_test, 'answer': y_pred})\n",
    "lift_df.sort_values('probability',ascending=False,inplace=True)\n",
    "lift_df.head()"
   ]
  },
  {
   "cell_type": "code",
   "execution_count": 475,
   "metadata": {},
   "outputs": [],
   "source": [
    "propotion_10 = lift_df['real_answer'][:int(lift_df.shape[0]/10)].sum()/ (lift_df.shape[0]/10) #доля плательщиков в 10 процентах"
   ]
  },
  {
   "cell_type": "code",
   "execution_count": 474,
   "metadata": {},
   "outputs": [],
   "source": [
    "propotion_all = lift_df['real_answer'].sum()/lift_df.shape[0]"
   ]
  },
  {
   "cell_type": "markdown",
   "metadata": {},
   "source": [
    "Собственно сам Lift"
   ]
  },
  {
   "cell_type": "code",
   "execution_count": 477,
   "metadata": {
    "scrolled": false
   },
   "outputs": [
    {
     "name": "stdout",
     "output_type": "stream",
     "text": [
      "lift: 4.42549736094194\n"
     ]
    }
   ],
   "source": [
    "#lift\n",
    "print('lift:', propotion_10/propotion_all)"
   ]
  },
  {
   "cell_type": "code",
   "execution_count": 486,
   "metadata": {},
   "outputs": [
    {
     "data": {
      "text/plain": [
       "2463"
      ]
     },
     "execution_count": 486,
     "metadata": {},
     "output_type": "execute_result"
    }
   ],
   "source": [
    "lift_df['real_answer'].sum()"
   ]
  },
  {
   "cell_type": "code",
   "execution_count": 534,
   "metadata": {},
   "outputs": [],
   "source": [
    "lift_table = [[0, 0, 0, 0, 0, 0, 0]]\n",
    "positive = 0\n",
    "random_variant = lift_df['real_answer'].sum()/10\n",
    "rv_sum = 0\n",
    "for i in range(10, 110, 10):\n",
    "    cur_positive = lift_df['real_answer'][ int((i - 10) * lift_df.shape[0]/100 ) : int(i * lift_df.shape[0]/100)].sum()\n",
    "    positive += cur_positive\n",
    "    rv_sum += random_variant\n",
    "    lift_table.append([i, cur_positive, positive, random_variant, rv_sum, round(cur_positive/2463, 3), round(random_variant/2463, 2)])\n",
    "lift_table = pd.DataFrame(lift_table, columns = ['percent', 'prediction_answer', 'prediction_sum', 'random_answer',\n",
    "                                                 'random_sum', 'pred_percent', 'random_percent'])"
   ]
  },
  {
   "cell_type": "code",
   "execution_count": 535,
   "metadata": {
    "scrolled": true
   },
   "outputs": [],
   "source": [
    "lift_table['sum_pred_percent'] = lift_table['pred_percent'].cumsum()*100\n",
    "lift_table['sum_random_percent'] = lift_table['random_percent'].cumsum()*100"
   ]
  },
  {
   "cell_type": "code",
   "execution_count": 536,
   "metadata": {},
   "outputs": [
    {
     "data": {
      "text/html": [
       "<div>\n",
       "<style>\n",
       "    .dataframe thead tr:only-child th {\n",
       "        text-align: right;\n",
       "    }\n",
       "\n",
       "    .dataframe thead th {\n",
       "        text-align: left;\n",
       "    }\n",
       "\n",
       "    .dataframe tbody tr th {\n",
       "        vertical-align: top;\n",
       "    }\n",
       "</style>\n",
       "<table border=\"1\" class=\"dataframe\">\n",
       "  <thead>\n",
       "    <tr style=\"text-align: right;\">\n",
       "      <th></th>\n",
       "      <th>percent</th>\n",
       "      <th>prediction_answer</th>\n",
       "      <th>prediction_sum</th>\n",
       "      <th>random_answer</th>\n",
       "      <th>random_sum</th>\n",
       "      <th>pred_percent</th>\n",
       "      <th>random_percent</th>\n",
       "      <th>sum_pred_percent</th>\n",
       "      <th>sum_random_percent</th>\n",
       "    </tr>\n",
       "  </thead>\n",
       "  <tbody>\n",
       "    <tr>\n",
       "      <th>0</th>\n",
       "      <td>0</td>\n",
       "      <td>0</td>\n",
       "      <td>0</td>\n",
       "      <td>0.0</td>\n",
       "      <td>0.0</td>\n",
       "      <td>0.000</td>\n",
       "      <td>0.0</td>\n",
       "      <td>0.0</td>\n",
       "      <td>0.0</td>\n",
       "    </tr>\n",
       "    <tr>\n",
       "      <th>1</th>\n",
       "      <td>10</td>\n",
       "      <td>1090</td>\n",
       "      <td>1090</td>\n",
       "      <td>246.3</td>\n",
       "      <td>246.3</td>\n",
       "      <td>0.443</td>\n",
       "      <td>0.1</td>\n",
       "      <td>44.3</td>\n",
       "      <td>10.0</td>\n",
       "    </tr>\n",
       "    <tr>\n",
       "      <th>2</th>\n",
       "      <td>20</td>\n",
       "      <td>489</td>\n",
       "      <td>1579</td>\n",
       "      <td>246.3</td>\n",
       "      <td>492.6</td>\n",
       "      <td>0.199</td>\n",
       "      <td>0.1</td>\n",
       "      <td>64.2</td>\n",
       "      <td>20.0</td>\n",
       "    </tr>\n",
       "    <tr>\n",
       "      <th>3</th>\n",
       "      <td>30</td>\n",
       "      <td>305</td>\n",
       "      <td>1884</td>\n",
       "      <td>246.3</td>\n",
       "      <td>738.9</td>\n",
       "      <td>0.124</td>\n",
       "      <td>0.1</td>\n",
       "      <td>76.6</td>\n",
       "      <td>30.0</td>\n",
       "    </tr>\n",
       "    <tr>\n",
       "      <th>4</th>\n",
       "      <td>40</td>\n",
       "      <td>211</td>\n",
       "      <td>2095</td>\n",
       "      <td>246.3</td>\n",
       "      <td>985.2</td>\n",
       "      <td>0.086</td>\n",
       "      <td>0.1</td>\n",
       "      <td>85.2</td>\n",
       "      <td>40.0</td>\n",
       "    </tr>\n",
       "    <tr>\n",
       "      <th>5</th>\n",
       "      <td>50</td>\n",
       "      <td>144</td>\n",
       "      <td>2239</td>\n",
       "      <td>246.3</td>\n",
       "      <td>1231.5</td>\n",
       "      <td>0.058</td>\n",
       "      <td>0.1</td>\n",
       "      <td>91.0</td>\n",
       "      <td>50.0</td>\n",
       "    </tr>\n",
       "    <tr>\n",
       "      <th>6</th>\n",
       "      <td>60</td>\n",
       "      <td>87</td>\n",
       "      <td>2326</td>\n",
       "      <td>246.3</td>\n",
       "      <td>1477.8</td>\n",
       "      <td>0.035</td>\n",
       "      <td>0.1</td>\n",
       "      <td>94.5</td>\n",
       "      <td>60.0</td>\n",
       "    </tr>\n",
       "    <tr>\n",
       "      <th>7</th>\n",
       "      <td>70</td>\n",
       "      <td>48</td>\n",
       "      <td>2374</td>\n",
       "      <td>246.3</td>\n",
       "      <td>1724.1</td>\n",
       "      <td>0.019</td>\n",
       "      <td>0.1</td>\n",
       "      <td>96.4</td>\n",
       "      <td>70.0</td>\n",
       "    </tr>\n",
       "    <tr>\n",
       "      <th>8</th>\n",
       "      <td>80</td>\n",
       "      <td>46</td>\n",
       "      <td>2420</td>\n",
       "      <td>246.3</td>\n",
       "      <td>1970.4</td>\n",
       "      <td>0.019</td>\n",
       "      <td>0.1</td>\n",
       "      <td>98.3</td>\n",
       "      <td>80.0</td>\n",
       "    </tr>\n",
       "    <tr>\n",
       "      <th>9</th>\n",
       "      <td>90</td>\n",
       "      <td>25</td>\n",
       "      <td>2445</td>\n",
       "      <td>246.3</td>\n",
       "      <td>2216.7</td>\n",
       "      <td>0.010</td>\n",
       "      <td>0.1</td>\n",
       "      <td>99.3</td>\n",
       "      <td>90.0</td>\n",
       "    </tr>\n",
       "    <tr>\n",
       "      <th>10</th>\n",
       "      <td>100</td>\n",
       "      <td>18</td>\n",
       "      <td>2463</td>\n",
       "      <td>246.3</td>\n",
       "      <td>2463.0</td>\n",
       "      <td>0.007</td>\n",
       "      <td>0.1</td>\n",
       "      <td>100.0</td>\n",
       "      <td>100.0</td>\n",
       "    </tr>\n",
       "  </tbody>\n",
       "</table>\n",
       "</div>"
      ],
      "text/plain": [
       "    percent  prediction_answer  prediction_sum  random_answer  random_sum  \\\n",
       "0         0                  0               0            0.0         0.0   \n",
       "1        10               1090            1090          246.3       246.3   \n",
       "2        20                489            1579          246.3       492.6   \n",
       "3        30                305            1884          246.3       738.9   \n",
       "4        40                211            2095          246.3       985.2   \n",
       "5        50                144            2239          246.3      1231.5   \n",
       "6        60                 87            2326          246.3      1477.8   \n",
       "7        70                 48            2374          246.3      1724.1   \n",
       "8        80                 46            2420          246.3      1970.4   \n",
       "9        90                 25            2445          246.3      2216.7   \n",
       "10      100                 18            2463          246.3      2463.0   \n",
       "\n",
       "    pred_percent  random_percent  sum_pred_percent  sum_random_percent  \n",
       "0          0.000             0.0               0.0                 0.0  \n",
       "1          0.443             0.1              44.3                10.0  \n",
       "2          0.199             0.1              64.2                20.0  \n",
       "3          0.124             0.1              76.6                30.0  \n",
       "4          0.086             0.1              85.2                40.0  \n",
       "5          0.058             0.1              91.0                50.0  \n",
       "6          0.035             0.1              94.5                60.0  \n",
       "7          0.019             0.1              96.4                70.0  \n",
       "8          0.019             0.1              98.3                80.0  \n",
       "9          0.010             0.1              99.3                90.0  \n",
       "10         0.007             0.1             100.0               100.0  "
      ]
     },
     "execution_count": 536,
     "metadata": {},
     "output_type": "execute_result"
    }
   ],
   "source": [
    "lift_table"
   ]
  },
  {
   "cell_type": "code",
   "execution_count": 539,
   "metadata": {},
   "outputs": [
    {
     "data": {
      "image/png": "[encoded data removed]",
      "text/plain": [
       "<matplotlib.figure.Figure at 0x16818d58390>"
      ]
     },
     "metadata": {},
     "output_type": "display_data"
    }
   ],
   "source": [
    "plt.figure()\n",
    "lift_table['sum_pred_percent'].plot(label='Model')\n",
    "lift_table['sum_random_percent'].plot(label='Random')\n",
    "plt.ylabel('Процент выявленных плательщиков.')\n",
    "plt.xlabel('Процент просмотренной выборки.')\n",
    "plt.legend()\n",
    "plt.grid(True)\n",
    "plt.show()"
   ]
  },
  {
   "cell_type": "code",
   "execution_count": null,
   "metadata": {
    "collapsed": true
   },
   "outputs": [],
   "source": []
  },
  {
   "cell_type": "markdown",
   "metadata": {},
   "source": [
    "## GradientBoostingClassifier"
   ]
  },
  {
   "cell_type": "code",
   "execution_count": 350,
   "metadata": {
    "collapsed": true
   },
   "outputs": [],
   "source": [
    "grad_params1 = {'n_estimators': [200, 100, 50], 'learning_rate': [1, 0.5, 0.1, 0.05]}\n",
    "grad_params2 = {'max_depth': range(1, 13, 2), 'max_features': range(6,17)}"
   ]
  },
  {
   "cell_type": "code",
   "execution_count": 347,
   "metadata": {},
   "outputs": [],
   "source": [
    "grad_grid = GridSearchCV(GradientBoostingClassifier(), grad_params1, scoring='f1_macro', verbose=True)\n",
    "grad_grid.fit(X_train, y_train)"
   ]
  },
  {
   "cell_type": "code",
   "execution_count": 353,
   "metadata": {},
   "outputs": [
    {
     "name": "stdout",
     "output_type": "stream",
     "text": [
      "Wall time: 0 ns\n",
      "Fitting 3 folds for each of 66 candidates, totalling 198 fits\n"
     ]
    },
    {
     "name": "stderr",
     "output_type": "stream",
     "text": [
      "[Parallel(n_jobs=1)]: Done 198 out of 198 | elapsed: 145.8min finished\n"
     ]
    },
    {
     "data": {
      "text/plain": [
       "GridSearchCV(cv=None, error_score='raise',\n",
       "       estimator=GradientBoostingClassifier(criterion='friedman_mse', init=None,\n",
       "              learning_rate=0.1, loss='deviance', max_depth=3,\n",
       "              max_features=None, max_leaf_nodes=None,\n",
       "              min_impurity_split=1e-07, min_samples_leaf=1,\n",
       "              min_samples_split=2, min_weight_fraction_leaf=0.0,\n",
       "              n_estimators=100, presort='auto', random_state=None,\n",
       "              subsample=1.0, verbose=0, warm_start=False),\n",
       "       fit_params={}, iid=True, n_jobs=1,\n",
       "       param_grid={'max_depth': range(1, 13, 2), 'max_features': range(6, 17)},\n",
       "       pre_dispatch='2*n_jobs', refit=True, return_train_score=True,\n",
       "       scoring='f1_macro', verbose=True)"
      ]
     },
     "execution_count": 353,
     "metadata": {},
     "output_type": "execute_result"
    }
   ],
   "source": [
    "%time\n",
    "grad_grid = GridSearchCV(GradientBoostingClassifier(), grad_params2, scoring='f1_macro', verbose=True)\n",
    "grad_grid.fit(X_train, y_train)"
   ]
  },
  {
   "cell_type": "code",
   "execution_count": 349,
   "metadata": {},
   "outputs": [
    {
     "data": {
      "text/plain": [
       "{'learning_rate': 0.5, 'n_estimators': 200}"
      ]
     },
     "execution_count": 349,
     "metadata": {},
     "output_type": "execute_result"
    }
   ],
   "source": [
    "grad_grid.best_params_"
   ]
  },
  {
   "cell_type": "code",
   "execution_count": 354,
   "metadata": {},
   "outputs": [
    {
     "data": {
      "text/plain": [
       "{'max_depth': 11, 'max_features': 13}"
      ]
     },
     "execution_count": 354,
     "metadata": {},
     "output_type": "execute_result"
    }
   ],
   "source": [
    "grad_grid.best_params_"
   ]
  },
  {
   "cell_type": "code",
   "execution_count": 355,
   "metadata": {},
   "outputs": [
    {
     "name": "stdout",
     "output_type": "stream",
     "text": [
      "DecisionTreeClassifier, обычные данные.\n",
      "             precision    recall  f1-score   support\n",
      "\n",
      "Не заплатит       0.95      0.92      0.93     40267\n",
      "   Заплатит       0.12      0.18      0.14      2463\n",
      "\n",
      "avg / total       0.90      0.87      0.89     42730\n",
      "\n",
      "[[36910  2016]\n",
      " [ 3357   447]]\n"
     ]
    }
   ],
   "source": [
    "GBC = GradientBoostingClassifier(n_estimators=200,  max_depth = 11, max_features = 13, learning_rate = 0.5)\n",
    "GBC = GBC.fit(X_train, y_train)\n",
    "print('DecisionTreeClassifier, обычные данные.')\n",
    "print(metrics.classification_report(y_test, GBC.predict(X_test), target_names = ['Не заплатит', 'Заплатит']))\n",
    "print(metrics.confusion_matrix(y_test, GBC.predict(X_test)).T)"
   ]
  },
  {
   "cell_type": "code",
   "execution_count": null,
   "metadata": {
    "collapsed": true
   },
   "outputs": [],
   "source": []
  }
 ],
 "metadata": {
  "kernelspec": {
   "display_name": "Python 3",
   "language": "python",
   "name": "python3"
  },
  "language_info": {
   "codemirror_mode": {
    "name": "ipython",
    "version": 3
   },
   "file_extension": ".py",
   "mimetype": "text/x-python",
   "name": "python",
   "nbconvert_exporter": "python",
   "pygments_lexer": "ipython3",
   "version": "3.6.1"
  }
 },
 "nbformat": 4,
 "nbformat_minor": 2
}
