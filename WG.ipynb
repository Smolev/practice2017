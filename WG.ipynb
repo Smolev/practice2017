{
 "cells": [
  {
   "cell_type": "markdown",
   "metadata": {},
   "source": [
    "# Владимир Смолев\n",
    "## Практика в WebGame\n",
    "## Предсказание конверта в плательщика по первому дню игры\n",
    "\n",
    "Задание:\n",
    "Имея данные за первый день/два игры, необходимо предсказать вероятность того, что игрок станет плательщиком. Бонус: предсказать тип плательщика (после их стандартной классификации на китов, дельфинов, пескарей и пр.)\n"
   ]
  },
  {
   "cell_type": "markdown",
   "metadata": {},
   "source": [
    "Импортирую библиотеки"
   ]
  },
  {
   "cell_type": "code",
   "execution_count": 1,
   "metadata": {
    "collapsed": true
   },
   "outputs": [],
   "source": [
    "import pandas as pd\n",
    "import numpy as np\n",
    "%matplotlib inline"
   ]
  },
  {
   "cell_type": "markdown",
   "metadata": {},
   "source": [
    "Загружаю таблички."
   ]
  },
  {
   "cell_type": "code",
   "execution_count": 2,
   "metadata": {
    "collapsed": true
   },
   "outputs": [],
   "source": [
    "practice_dau = pd.read_csv('practice_dau_and.csv', sep='|', names = ['id', 'country','number_of_pgr', 'actdate'])"
   ]
  },
  {
   "cell_type": "code",
   "execution_count": 3,
   "metadata": {
    "collapsed": true
   },
   "outputs": [],
   "source": [
    "practice_pact = pd.read_csv('practice_pact_and.csv', sep='|', names = ['id', 'actdate', 'regdate', 'clusters_ml_ended',\n",
    "                                                                      'revenue', 'transactions', 'quests_end',\n",
    "                                                                       'm_quests_end', 'crystals_value_spend',\n",
    "                                                                       'store_enters'])"
   ]
  },
  {
   "cell_type": "code",
   "execution_count": 4,
   "metadata": {
    "collapsed": true
   },
   "outputs": [],
   "source": [
    "practice_sessions = pd.read_csv('practice_sessions_and.csv', sep='|', names = ['id', 'session_number','session_length',\n",
    "                                                                              'session_start_time', 'session_end_time',\n",
    "                                                                              'actdate'])"
   ]
  },
  {
   "cell_type": "markdown",
   "metadata": {},
   "source": [
    "## Описание данных.\n",
    "### 1. practice_dau - ежедневные сообщения с устройства игрока\n",
    "id - идентификатор игрока;\n",
    "\n",
    "сountry - страна;\n",
    "\n",
    "number_of_pgr - количество PGR-сообщений (их шлет устройство во время игры);\n",
    "\n",
    "actdate - дата события."
   ]
  },
  {
   "cell_type": "markdown",
   "metadata": {},
   "source": [
    "### 2. practice_pact - агрегированные данные о деятельности игрока в этот день\n",
    "id - идентификатор игрока;\n",
    "\n",
    "actdate - дата события;\n",
    "\n",
    "regdate - дата регистрации игрока;\n",
    "\n",
    "clusters_ml_ended - сколько кластеров (кластеры состоят из квестов) основной сюжетной линии прошел игрок;\n",
    "\n",
    "revenue - прибыль с игрока;\n",
    "\n",
    "transactions - количество платежей;\n",
    "\n",
    "quests_end - сколько побочных квестов прошел игрок;\n",
    "\n",
    "m_quests_end - сколько квестов основной сюжетной линии прошел игрок;\n",
    "\n",
    "crystals_value_spend - сколько кристаллов (в определенной нормировке) потратил игрок;\n",
    "\n",
    "store_enters - сколько раз игрок зашел в магазин."
   ]
  },
  {
   "cell_type": "markdown",
   "metadata": {},
   "source": [
    "### 3.  practice_sessions - данные о сессиях игрока\n",
    "id - идентификатор игрока;\n",
    "\n",
    "session_number - порядковый номер сессии игрока;\n",
    "\n",
    "session_length - длина сессии;\n",
    "\n",
    "session_start_time - время начала сессии,\n",
    "\n",
    "session_end_time - время окончания сессии,\n",
    "\n",
    "actdate - дата события."
   ]
  },
  {
   "cell_type": "code",
   "execution_count": 5,
   "metadata": {
    "scrolled": false
   },
   "outputs": [
    {
     "name": "stdout",
     "output_type": "stream",
     "text": [
      "(8519524, 4)\n"
     ]
    },
    {
     "data": {
      "text/html": [
       "<div>\n",
       "<style>\n",
       "    .dataframe thead tr:only-child th {\n",
       "        text-align: right;\n",
       "    }\n",
       "\n",
       "    .dataframe thead th {\n",
       "        text-align: left;\n",
       "    }\n",
       "\n",
       "    .dataframe tbody tr th {\n",
       "        vertical-align: top;\n",
       "    }\n",
       "</style>\n",
       "<table border=\"1\" class=\"dataframe\">\n",
       "  <thead>\n",
       "    <tr style=\"text-align: right;\">\n",
       "      <th></th>\n",
       "      <th>id</th>\n",
       "      <th>country</th>\n",
       "      <th>number_of_pgr</th>\n",
       "      <th>actdate</th>\n",
       "    </tr>\n",
       "  </thead>\n",
       "  <tbody>\n",
       "    <tr>\n",
       "      <th>0</th>\n",
       "      <td>c7a56d9eee</td>\n",
       "      <td>FR</td>\n",
       "      <td>33</td>\n",
       "      <td>2017-01-01</td>\n",
       "    </tr>\n",
       "    <tr>\n",
       "      <th>1</th>\n",
       "      <td>bd4b8c265d</td>\n",
       "      <td>GB</td>\n",
       "      <td>47</td>\n",
       "      <td>2017-01-20</td>\n",
       "    </tr>\n",
       "    <tr>\n",
       "      <th>2</th>\n",
       "      <td>bd4b8c265d</td>\n",
       "      <td>GB</td>\n",
       "      <td>6</td>\n",
       "      <td>2017-01-27</td>\n",
       "    </tr>\n",
       "    <tr>\n",
       "      <th>3</th>\n",
       "      <td>bd4b8c265d</td>\n",
       "      <td>GB</td>\n",
       "      <td>11</td>\n",
       "      <td>2017-01-25</td>\n",
       "    </tr>\n",
       "    <tr>\n",
       "      <th>4</th>\n",
       "      <td>bd4b8c265d</td>\n",
       "      <td>GB</td>\n",
       "      <td>78</td>\n",
       "      <td>2017-02-05</td>\n",
       "    </tr>\n",
       "  </tbody>\n",
       "</table>\n",
       "</div>"
      ],
      "text/plain": [
       "           id country  number_of_pgr     actdate\n",
       "0  c7a56d9eee      FR             33  2017-01-01\n",
       "1  bd4b8c265d      GB             47  2017-01-20\n",
       "2  bd4b8c265d      GB              6  2017-01-27\n",
       "3  bd4b8c265d      GB             11  2017-01-25\n",
       "4  bd4b8c265d      GB             78  2017-02-05"
      ]
     },
     "execution_count": 5,
     "metadata": {},
     "output_type": "execute_result"
    }
   ],
   "source": [
    "print(practice_dau.shape)\n",
    "practice_dau.head(5)"
   ]
  },
  {
   "cell_type": "code",
   "execution_count": 6,
   "metadata": {
    "scrolled": false
   },
   "outputs": [
    {
     "name": "stdout",
     "output_type": "stream",
     "text": [
      "(5919245, 10)\n"
     ]
    },
    {
     "data": {
      "text/html": [
       "<div>\n",
       "<style>\n",
       "    .dataframe thead tr:only-child th {\n",
       "        text-align: right;\n",
       "    }\n",
       "\n",
       "    .dataframe thead th {\n",
       "        text-align: left;\n",
       "    }\n",
       "\n",
       "    .dataframe tbody tr th {\n",
       "        vertical-align: top;\n",
       "    }\n",
       "</style>\n",
       "<table border=\"1\" class=\"dataframe\">\n",
       "  <thead>\n",
       "    <tr style=\"text-align: right;\">\n",
       "      <th></th>\n",
       "      <th>id</th>\n",
       "      <th>actdate</th>\n",
       "      <th>regdate</th>\n",
       "      <th>clusters_ml_ended</th>\n",
       "      <th>revenue</th>\n",
       "      <th>transactions</th>\n",
       "      <th>quests_end</th>\n",
       "      <th>m_quests_end</th>\n",
       "      <th>crystals_value_spend</th>\n",
       "      <th>store_enters</th>\n",
       "    </tr>\n",
       "  </thead>\n",
       "  <tbody>\n",
       "    <tr>\n",
       "      <th>0</th>\n",
       "      <td>abee37a4e1</td>\n",
       "      <td>2017-01-01</td>\n",
       "      <td>2017-01-01</td>\n",
       "      <td>7</td>\n",
       "      <td>0.0</td>\n",
       "      <td>0</td>\n",
       "      <td>61</td>\n",
       "      <td>13</td>\n",
       "      <td>0</td>\n",
       "      <td>0</td>\n",
       "    </tr>\n",
       "    <tr>\n",
       "      <th>1</th>\n",
       "      <td>6fbbafd123</td>\n",
       "      <td>2017-01-01</td>\n",
       "      <td>2017-01-01</td>\n",
       "      <td>5</td>\n",
       "      <td>0.0</td>\n",
       "      <td>0</td>\n",
       "      <td>73</td>\n",
       "      <td>14</td>\n",
       "      <td>0</td>\n",
       "      <td>0</td>\n",
       "    </tr>\n",
       "    <tr>\n",
       "      <th>2</th>\n",
       "      <td>23c025efd0</td>\n",
       "      <td>2017-01-01</td>\n",
       "      <td>2017-01-01</td>\n",
       "      <td>7</td>\n",
       "      <td>0.0</td>\n",
       "      <td>0</td>\n",
       "      <td>91</td>\n",
       "      <td>17</td>\n",
       "      <td>0</td>\n",
       "      <td>0</td>\n",
       "    </tr>\n",
       "    <tr>\n",
       "      <th>3</th>\n",
       "      <td>8f4b043ead</td>\n",
       "      <td>2017-01-01</td>\n",
       "      <td>2017-01-01</td>\n",
       "      <td>2</td>\n",
       "      <td>0.0</td>\n",
       "      <td>0</td>\n",
       "      <td>14</td>\n",
       "      <td>1</td>\n",
       "      <td>0</td>\n",
       "      <td>0</td>\n",
       "    </tr>\n",
       "    <tr>\n",
       "      <th>4</th>\n",
       "      <td>1bdb89a697</td>\n",
       "      <td>2017-01-01</td>\n",
       "      <td>2017-01-01</td>\n",
       "      <td>2</td>\n",
       "      <td>0.0</td>\n",
       "      <td>0</td>\n",
       "      <td>11</td>\n",
       "      <td>0</td>\n",
       "      <td>0</td>\n",
       "      <td>0</td>\n",
       "    </tr>\n",
       "  </tbody>\n",
       "</table>\n",
       "</div>"
      ],
      "text/plain": [
       "           id     actdate     regdate  clusters_ml_ended  revenue  \\\n",
       "0  abee37a4e1  2017-01-01  2017-01-01                  7      0.0   \n",
       "1  6fbbafd123  2017-01-01  2017-01-01                  5      0.0   \n",
       "2  23c025efd0  2017-01-01  2017-01-01                  7      0.0   \n",
       "3  8f4b043ead  2017-01-01  2017-01-01                  2      0.0   \n",
       "4  1bdb89a697  2017-01-01  2017-01-01                  2      0.0   \n",
       "\n",
       "   transactions  quests_end  m_quests_end  crystals_value_spend  store_enters  \n",
       "0             0          61            13                     0             0  \n",
       "1             0          73            14                     0             0  \n",
       "2             0          91            17                     0             0  \n",
       "3             0          14             1                     0             0  \n",
       "4             0          11             0                     0             0  "
      ]
     },
     "execution_count": 6,
     "metadata": {},
     "output_type": "execute_result"
    }
   ],
   "source": [
    "print(practice_pact.shape)\n",
    "practice_pact.head(5)"
   ]
  },
  {
   "cell_type": "code",
   "execution_count": 7,
   "metadata": {
    "scrolled": true
   },
   "outputs": [
    {
     "name": "stdout",
     "output_type": "stream",
     "text": [
      "(32533314, 6)\n"
     ]
    },
    {
     "data": {
      "text/html": [
       "<div>\n",
       "<style>\n",
       "    .dataframe thead tr:only-child th {\n",
       "        text-align: right;\n",
       "    }\n",
       "\n",
       "    .dataframe thead th {\n",
       "        text-align: left;\n",
       "    }\n",
       "\n",
       "    .dataframe tbody tr th {\n",
       "        vertical-align: top;\n",
       "    }\n",
       "</style>\n",
       "<table border=\"1\" class=\"dataframe\">\n",
       "  <thead>\n",
       "    <tr style=\"text-align: right;\">\n",
       "      <th></th>\n",
       "      <th>id</th>\n",
       "      <th>session_number</th>\n",
       "      <th>session_length</th>\n",
       "      <th>session_start_time</th>\n",
       "      <th>session_end_time</th>\n",
       "      <th>actdate</th>\n",
       "    </tr>\n",
       "  </thead>\n",
       "  <tbody>\n",
       "    <tr>\n",
       "      <th>0</th>\n",
       "      <td>14d94a58b7</td>\n",
       "      <td>13.0</td>\n",
       "      <td>57</td>\n",
       "      <td>1485368089</td>\n",
       "      <td>1485368146</td>\n",
       "      <td>2017-01-25</td>\n",
       "    </tr>\n",
       "    <tr>\n",
       "      <th>1</th>\n",
       "      <td>26620badd1</td>\n",
       "      <td>4.0</td>\n",
       "      <td>132</td>\n",
       "      <td>1483666420</td>\n",
       "      <td>1483666552</td>\n",
       "      <td>2017-01-06</td>\n",
       "    </tr>\n",
       "    <tr>\n",
       "      <th>2</th>\n",
       "      <td>01d7674aa8</td>\n",
       "      <td>7.0</td>\n",
       "      <td>83</td>\n",
       "      <td>1486676081</td>\n",
       "      <td>1486676164</td>\n",
       "      <td>2017-02-09</td>\n",
       "    </tr>\n",
       "    <tr>\n",
       "      <th>3</th>\n",
       "      <td>14611edffb</td>\n",
       "      <td>3.0</td>\n",
       "      <td>211</td>\n",
       "      <td>1486387335</td>\n",
       "      <td>1486387546</td>\n",
       "      <td>2017-02-06</td>\n",
       "    </tr>\n",
       "    <tr>\n",
       "      <th>4</th>\n",
       "      <td>3c13bd2cec</td>\n",
       "      <td>2.0</td>\n",
       "      <td>1206</td>\n",
       "      <td>1486283865</td>\n",
       "      <td>1486285071</td>\n",
       "      <td>2017-02-05</td>\n",
       "    </tr>\n",
       "  </tbody>\n",
       "</table>\n",
       "</div>"
      ],
      "text/plain": [
       "           id  session_number  session_length  session_start_time  \\\n",
       "0  14d94a58b7            13.0              57          1485368089   \n",
       "1  26620badd1             4.0             132          1483666420   \n",
       "2  01d7674aa8             7.0              83          1486676081   \n",
       "3  14611edffb             3.0             211          1486387335   \n",
       "4  3c13bd2cec             2.0            1206          1486283865   \n",
       "\n",
       "   session_end_time     actdate  \n",
       "0        1485368146  2017-01-25  \n",
       "1        1483666552  2017-01-06  \n",
       "2        1486676164  2017-02-09  \n",
       "3        1486387546  2017-02-06  \n",
       "4        1486285071  2017-02-05  "
      ]
     },
     "execution_count": 7,
     "metadata": {},
     "output_type": "execute_result"
    }
   ],
   "source": [
    "print(practice_sessions.shape)\n",
    "practice_sessions.head(5)"
   ]
  },
  {
   "cell_type": "markdown",
   "metadata": {},
   "source": [
    "Проверим значения в выгруженных таблицах. Если там пропущенные значения."
   ]
  },
  {
   "cell_type": "code",
   "execution_count": 8,
   "metadata": {},
   "outputs": [
    {
     "name": "stdout",
     "output_type": "stream",
     "text": [
      "Всего 1715\n",
      "id                  0\n",
      "country          1715\n",
      "number_of_pgr       0\n",
      "actdate             0\n",
      "dtype: int64\n"
     ]
    }
   ],
   "source": [
    "print('Всего', practice_dau.isnull().sum().sum() )\n",
    "print(practice_dau.isnull().sum())"
   ]
  },
  {
   "cell_type": "code",
   "execution_count": 9,
   "metadata": {},
   "outputs": [
    {
     "name": "stdout",
     "output_type": "stream",
     "text": [
      "Всего 0\n",
      "id                      0\n",
      "actdate                 0\n",
      "regdate                 0\n",
      "clusters_ml_ended       0\n",
      "revenue                 0\n",
      "transactions            0\n",
      "quests_end              0\n",
      "m_quests_end            0\n",
      "crystals_value_spend    0\n",
      "store_enters            0\n",
      "dtype: int64\n"
     ]
    }
   ],
   "source": [
    "print('Всего', practice_pact.isnull().sum().sum() )\n",
    "print(practice_pact.isnull().sum())"
   ]
  },
  {
   "cell_type": "code",
   "execution_count": 10,
   "metadata": {
    "scrolled": true
   },
   "outputs": [
    {
     "name": "stdout",
     "output_type": "stream",
     "text": [
      "Всего 23632945\n",
      "id                           0\n",
      "session_number        23632945\n",
      "session_length               0\n",
      "session_start_time           0\n",
      "session_end_time             0\n",
      "actdate                      0\n",
      "dtype: int64\n"
     ]
    }
   ],
   "source": [
    "print('Всего', practice_sessions.isnull().sum().sum() )\n",
    "print(practice_sessions.isnull().sum())"
   ]
  },
  {
   "cell_type": "code",
   "execution_count": 11,
   "metadata": {},
   "outputs": [
    {
     "data": {
      "text/plain": [
       "0.7264229214398509"
      ]
     },
     "execution_count": 11,
     "metadata": {},
     "output_type": "execute_result"
    }
   ],
   "source": [
    "23632945/practice_sessions.shape[0]"
   ]
  },
  {
   "cell_type": "markdown",
   "metadata": {},
   "source": [
    "В двух таблицах есть пропущенные значения. (Спросить что с ними делать)\n",
    "В таблице по сессиим нет номера сессии в 72%. Но так то это не важно. Можно восстановить по дате если понадобится."
   ]
  },
  {
   "cell_type": "markdown",
   "metadata": {},
   "source": [
    "Выберем данные с которыми будем работатью. "
   ]
  },
  {
   "cell_type": "markdown",
   "metadata": {},
   "source": [
    "Найдем дни активности пользователей совпадающие с регистрацией."
   ]
  },
  {
   "cell_type": "code",
   "execution_count": 11,
   "metadata": {},
   "outputs": [
    {
     "name": "stdout",
     "output_type": "stream",
     "text": [
      "Кол-во активности в день регистрации (2060626, 10)\n",
      "Кол-во уникальных id (2016708,)\n"
     ]
    }
   ],
   "source": [
    "print('Кол-во активности в день регистрации',\n",
    "      practice_pact[practice_pact['actdate'] == practice_pact['regdate']].shape)\n",
    "print('Кол-во уникальных id',\n",
    "      practice_pact[practice_pact['actdate'] == practice_pact['regdate']]['id'].unique().shape)"
   ]
  },
  {
   "cell_type": "markdown",
   "metadata": {},
   "source": [
    "Получается, что регистрация и активность дня совпадала для некоторых id."
   ]
  },
  {
   "cell_type": "markdown",
   "metadata": {},
   "source": [
    "Видимо эти пользователи регистрировались несколько раз. Или нескольким пользователям выдавался одинаковый id при регистрации.\n",
    "Хотя обе причины немного не логичны."
   ]
  },
  {
   "cell_type": "code",
   "execution_count": 8,
   "metadata": {
    "collapsed": true
   },
   "outputs": [],
   "source": [
    "#Список id для которых есть повторы\n",
    "bad_id = practice_pact[practice_pact['actdate'] == practice_pact['regdate']]['id'].value_counts()[practice_pact[practice_pact['actdate'] == practice_pact['regdate']]['id'].value_counts() > 1].index"
   ]
  },
  {
   "cell_type": "markdown",
   "metadata": {},
   "source": [
    "Уберу id которые дважды регистрировались "
   ]
  },
  {
   "cell_type": "code",
   "execution_count": 9,
   "metadata": {
    "scrolled": true
   },
   "outputs": [
    {
     "data": {
      "text/plain": [
       "Index(['e5690b9c2e', '91f70befd5', '13acfeb7cf', 'c5a67eaa6d', 'b2ff2a362a',\n",
       "       '99791b753e', '6e1121ea7a', 'fd8c3cb864', 'f3bfbbf73e', '69907ef195',\n",
       "       ...\n",
       "       '67a591136e', '97d382d105', 'bb87f6df03', 'e17973362c', '1dc60b5656',\n",
       "       'c00f6da37d', '7e9dce85a5', '58a9bea153', 'ce3a246a44', '476cb19481'],\n",
       "      dtype='object', length=32777)"
      ]
     },
     "execution_count": 9,
     "metadata": {},
     "output_type": "execute_result"
    }
   ],
   "source": [
    "bad_id"
   ]
  },
  {
   "cell_type": "code",
   "execution_count": 10,
   "metadata": {
    "collapsed": true
   },
   "outputs": [],
   "source": [
    "def bad_column(id):\n",
    "    return int(id in bad_id)"
   ]
  },
  {
   "cell_type": "code",
   "execution_count": 11,
   "metadata": {
    "collapsed": true
   },
   "outputs": [],
   "source": [
    "bad_column = practice_pact['id'].apply(bad_column)"
   ]
  },
  {
   "cell_type": "code",
   "execution_count": 12,
   "metadata": {
    "collapsed": true
   },
   "outputs": [],
   "source": [
    "practice_pact['bad_column_id'] = bad_column"
   ]
  },
  {
   "cell_type": "code",
   "execution_count": 13,
   "metadata": {
    "collapsed": true
   },
   "outputs": [],
   "source": [
    "practice_pact.drop(practice_pact[practice_pact['bad_column_id'] == 1].index, axis = 0, inplace = True)"
   ]
  },
  {
   "cell_type": "code",
   "execution_count": 14,
   "metadata": {
    "scrolled": true
   },
   "outputs": [
    {
     "name": "stdout",
     "output_type": "stream",
     "text": [
      "Кол-во активности в день регистрации (1983931, 11)\n",
      "Кол-во уникальных id (1983931,)\n"
     ]
    }
   ],
   "source": [
    "print('Кол-во активности в день регистрации',\n",
    "      practice_pact[practice_pact['actdate'] == practice_pact['regdate']].shape)\n",
    "print('Кол-во уникальных id',\n",
    "      practice_pact[practice_pact['actdate'] == practice_pact['regdate']]['id'].unique().shape)"
   ]
  },
  {
   "cell_type": "code",
   "execution_count": 15,
   "metadata": {
    "collapsed": true
   },
   "outputs": [],
   "source": [
    "practice_pact.drop('bad_column_id', axis = 1, inplace = True)"
   ]
  },
  {
   "cell_type": "markdown",
   "metadata": {},
   "source": [
    "Готово. "
   ]
  },
  {
   "cell_type": "code",
   "execution_count": 16,
   "metadata": {
    "collapsed": true
   },
   "outputs": [],
   "source": [
    "practice_pact['actdate'] = pd.to_datetime(practice_pact['actdate'])\n",
    "practice_pact['regdate'] = pd.to_datetime(practice_pact['regdate'])"
   ]
  },
  {
   "cell_type": "code",
   "execution_count": 17,
   "metadata": {
    "scrolled": true
   },
   "outputs": [
    {
     "data": {
      "text/plain": [
       "id                              object\n",
       "actdate                 datetime64[ns]\n",
       "regdate                 datetime64[ns]\n",
       "clusters_ml_ended                int64\n",
       "revenue                        float64\n",
       "transactions                     int64\n",
       "quests_end                       int64\n",
       "m_quests_end                     int64\n",
       "crystals_value_spend             int64\n",
       "store_enters                     int64\n",
       "dtype: object"
      ]
     },
     "execution_count": 17,
     "metadata": {},
     "output_type": "execute_result"
    }
   ],
   "source": [
    "practice_pact.dtypes"
   ]
  },
  {
   "cell_type": "code",
   "execution_count": 18,
   "metadata": {
    "scrolled": true
   },
   "outputs": [
    {
     "name": "stdout",
     "output_type": "stream",
     "text": [
      "clusters_ml_ended,min: -2, max 98, mean 8.092354058248882\n",
      "revenue,min: 0.0, max 184607.43, mean 99.57992233366134\n",
      "transactions,min: 0, max 83, mean 0.02271998539213001\n",
      "quests_end,min: 0, max 796, mean 15.160549621108371\n",
      "m_quests_end,min: 0, max 141, mean 3.1873663836391857\n",
      "crystals_value_spend,min: 0, max 0, mean 0.0\n",
      "store_enters,min: 0, max 0, mean 0.0\n"
     ]
    }
   ],
   "source": [
    "for i in practice_pact.columns[3:]:\n",
    "    print('%(id)s,min: %(min)s, max %(max)s, mean %(mean)s' %\n",
    "          {'id': i, 'min': practice_pact[i].min(), 'max':practice_pact[i].max(), 'mean':practice_pact[i].mean() })"
   ]
  },
  {
   "cell_type": "markdown",
   "metadata": {},
   "source": [
    "Выделим все первые дни. По которым будет предсказание."
   ]
  },
  {
   "cell_type": "code",
   "execution_count": 55,
   "metadata": {
    "collapsed": true
   },
   "outputs": [],
   "source": [
    "first_day = practice_pact[practice_pact['actdate'] == practice_pact['regdate']]\n",
    "#Регистрация совпадает с днем активности => первый день в игре"
   ]
  },
  {
   "cell_type": "code",
   "execution_count": 20,
   "metadata": {
    "collapsed": true
   },
   "outputs": [],
   "source": [
    "revenue_positive_id = practice_pact.groupby('id').sum()[practice_pact.groupby('id').sum()['revenue'] > 0].index\n",
    "#Там, где будет единица в целевой переменной"
   ]
  },
  {
   "cell_type": "code",
   "execution_count": 56,
   "metadata": {
    "collapsed": true
   },
   "outputs": [],
   "source": [
    "first_day = first_day[first_day['revenue'] == 0]\n",
    "#Те, кто заплатил в первый день не интересны."
   ]
  },
  {
   "cell_type": "code",
   "execution_count": 22,
   "metadata": {
    "collapsed": true
   },
   "outputs": [],
   "source": [
    "practice_sessions['actdate'] = pd.to_datetime(practice_sessions['actdate'])"
   ]
  },
  {
   "cell_type": "code",
   "execution_count": 57,
   "metadata": {
    "collapsed": true
   },
   "outputs": [],
   "source": [
    "new_data_fd = pd.merge(first_day, practice_sessions, on=['id', 'actdate'], how='inner')\n",
    "#добавлю данные о сессиях"
   ]
  },
  {
   "cell_type": "code",
   "execution_count": 24,
   "metadata": {},
   "outputs": [
    {
     "data": {
      "text/html": [
       "<div>\n",
       "<style>\n",
       "    .dataframe thead tr:only-child th {\n",
       "        text-align: right;\n",
       "    }\n",
       "\n",
       "    .dataframe thead th {\n",
       "        text-align: left;\n",
       "    }\n",
       "\n",
       "    .dataframe tbody tr th {\n",
       "        vertical-align: top;\n",
       "    }\n",
       "</style>\n",
       "<table border=\"1\" class=\"dataframe\">\n",
       "  <thead>\n",
       "    <tr style=\"text-align: right;\">\n",
       "      <th></th>\n",
       "      <th>id</th>\n",
       "      <th>actdate</th>\n",
       "      <th>regdate</th>\n",
       "      <th>clusters_ml_ended</th>\n",
       "      <th>revenue</th>\n",
       "      <th>transactions</th>\n",
       "      <th>quests_end</th>\n",
       "      <th>m_quests_end</th>\n",
       "      <th>crystals_value_spend</th>\n",
       "      <th>store_enters</th>\n",
       "      <th>session_number</th>\n",
       "      <th>session_length</th>\n",
       "      <th>session_start_time</th>\n",
       "      <th>session_end_time</th>\n",
       "    </tr>\n",
       "  </thead>\n",
       "  <tbody>\n",
       "    <tr>\n",
       "      <th>0</th>\n",
       "      <td>abee37a4e1</td>\n",
       "      <td>2017-01-01</td>\n",
       "      <td>2017-01-01</td>\n",
       "      <td>7</td>\n",
       "      <td>0.0</td>\n",
       "      <td>0</td>\n",
       "      <td>61</td>\n",
       "      <td>13</td>\n",
       "      <td>0</td>\n",
       "      <td>0</td>\n",
       "      <td>3.0</td>\n",
       "      <td>293</td>\n",
       "      <td>1483263907</td>\n",
       "      <td>1483264200</td>\n",
       "    </tr>\n",
       "    <tr>\n",
       "      <th>1</th>\n",
       "      <td>abee37a4e1</td>\n",
       "      <td>2017-01-01</td>\n",
       "      <td>2017-01-01</td>\n",
       "      <td>7</td>\n",
       "      <td>0.0</td>\n",
       "      <td>0</td>\n",
       "      <td>61</td>\n",
       "      <td>13</td>\n",
       "      <td>0</td>\n",
       "      <td>0</td>\n",
       "      <td>2.0</td>\n",
       "      <td>367</td>\n",
       "      <td>1483263100</td>\n",
       "      <td>1483263467</td>\n",
       "    </tr>\n",
       "    <tr>\n",
       "      <th>2</th>\n",
       "      <td>abee37a4e1</td>\n",
       "      <td>2017-01-01</td>\n",
       "      <td>2017-01-01</td>\n",
       "      <td>7</td>\n",
       "      <td>0.0</td>\n",
       "      <td>0</td>\n",
       "      <td>61</td>\n",
       "      <td>13</td>\n",
       "      <td>0</td>\n",
       "      <td>0</td>\n",
       "      <td>1.0</td>\n",
       "      <td>1826</td>\n",
       "      <td>1483261078</td>\n",
       "      <td>1483262904</td>\n",
       "    </tr>\n",
       "    <tr>\n",
       "      <th>3</th>\n",
       "      <td>abee37a4e1</td>\n",
       "      <td>2017-01-01</td>\n",
       "      <td>2017-01-01</td>\n",
       "      <td>7</td>\n",
       "      <td>0.0</td>\n",
       "      <td>0</td>\n",
       "      <td>61</td>\n",
       "      <td>13</td>\n",
       "      <td>0</td>\n",
       "      <td>0</td>\n",
       "      <td>5.0</td>\n",
       "      <td>290</td>\n",
       "      <td>1483282146</td>\n",
       "      <td>1483282436</td>\n",
       "    </tr>\n",
       "    <tr>\n",
       "      <th>4</th>\n",
       "      <td>abee37a4e1</td>\n",
       "      <td>2017-01-01</td>\n",
       "      <td>2017-01-01</td>\n",
       "      <td>7</td>\n",
       "      <td>0.0</td>\n",
       "      <td>0</td>\n",
       "      <td>61</td>\n",
       "      <td>13</td>\n",
       "      <td>0</td>\n",
       "      <td>0</td>\n",
       "      <td>6.0</td>\n",
       "      <td>2396</td>\n",
       "      <td>1483290560</td>\n",
       "      <td>1483292956</td>\n",
       "    </tr>\n",
       "  </tbody>\n",
       "</table>\n",
       "</div>"
      ],
      "text/plain": [
       "           id    actdate    regdate  clusters_ml_ended  revenue  transactions  \\\n",
       "0  abee37a4e1 2017-01-01 2017-01-01                  7      0.0             0   \n",
       "1  abee37a4e1 2017-01-01 2017-01-01                  7      0.0             0   \n",
       "2  abee37a4e1 2017-01-01 2017-01-01                  7      0.0             0   \n",
       "3  abee37a4e1 2017-01-01 2017-01-01                  7      0.0             0   \n",
       "4  abee37a4e1 2017-01-01 2017-01-01                  7      0.0             0   \n",
       "\n",
       "   quests_end  m_quests_end  crystals_value_spend  store_enters  \\\n",
       "0          61            13                     0             0   \n",
       "1          61            13                     0             0   \n",
       "2          61            13                     0             0   \n",
       "3          61            13                     0             0   \n",
       "4          61            13                     0             0   \n",
       "\n",
       "   session_number  session_length  session_start_time  session_end_time  \n",
       "0             3.0             293          1483263907        1483264200  \n",
       "1             2.0             367          1483263100        1483263467  \n",
       "2             1.0            1826          1483261078        1483262904  \n",
       "3             5.0             290          1483282146        1483282436  \n",
       "4             6.0            2396          1483290560        1483292956  "
      ]
     },
     "execution_count": 24,
     "metadata": {},
     "output_type": "execute_result"
    }
   ],
   "source": [
    "new_data_fd.head()"
   ]
  },
  {
   "cell_type": "code",
   "execution_count": 58,
   "metadata": {},
   "outputs": [
    {
     "data": {
      "text/plain": [
       "(1954416,)"
      ]
     },
     "execution_count": 58,
     "metadata": {},
     "output_type": "execute_result"
    }
   ],
   "source": [
    "new_data_fd['id'].unique().shape"
   ]
  },
  {
   "cell_type": "code",
   "execution_count": 159,
   "metadata": {
    "collapsed": true
   },
   "outputs": [],
   "source": [
    "#new_data_fd.groupby('id', as_index = False).sum()[['id', 'session_length']]"
   ]
  },
  {
   "cell_type": "code",
   "execution_count": 26,
   "metadata": {
    "collapsed": true
   },
   "outputs": [],
   "source": [
    "amount_visits_fd = pd.DataFrame(data = np.array([new_data_fd['id'].value_counts().index, new_data_fd['id'].value_counts().values]).T, columns=['id', 'amount_visits'])\n",
    "#Количетсво посещений в день"
   ]
  },
  {
   "cell_type": "code",
   "execution_count": 27,
   "metadata": {
    "scrolled": false
   },
   "outputs": [
    {
     "data": {
      "text/plain": [
       "1954416"
      ]
     },
     "execution_count": 27,
     "metadata": {},
     "output_type": "execute_result"
    }
   ],
   "source": [
    "amount_visits_fd.shape[0]"
   ]
  },
  {
   "cell_type": "code",
   "execution_count": 59,
   "metadata": {
    "collapsed": true
   },
   "outputs": [],
   "source": [
    "first_day = pd.merge(first_day, amount_visits_fd, on=['id'], how='inner')\n",
    "first_day = pd.merge(first_day, new_data_fd.groupby('id', as_index = False).sum()[['id', 'session_length']], on=['id'], how='inner')\n",
    "#добавим к данным количество посещений и длину посещения в первый день"
   ]
  },
  {
   "cell_type": "code",
   "execution_count": 60,
   "metadata": {},
   "outputs": [
    {
     "data": {
      "text/plain": [
       "0    1954416\n",
       "Name: store_enters, dtype: int64"
      ]
     },
     "execution_count": 60,
     "metadata": {},
     "output_type": "execute_result"
    }
   ],
   "source": [
    "first_day.store_enters.value_counts()"
   ]
  },
  {
   "cell_type": "code",
   "execution_count": 61,
   "metadata": {
    "collapsed": true
   },
   "outputs": [],
   "source": [
    "first_day.drop(['store_enters', 'revenue', 'regdate', 'transactions', 'crystals_value_spend'], axis = 1, inplace = True)\n",
    "#они вроде нулевые"
   ]
  },
  {
   "cell_type": "code",
   "execution_count": 63,
   "metadata": {},
   "outputs": [],
   "source": [
    "first_day['average_visit'] = first_day['session_length']/first_day['amount_visits']"
   ]
  },
  {
   "cell_type": "code",
   "execution_count": 33,
   "metadata": {
    "collapsed": true
   },
   "outputs": [],
   "source": [
    "practice_dau.fillna(value='NAN', inplace = True)"
   ]
  },
  {
   "cell_type": "code",
   "execution_count": 34,
   "metadata": {
    "collapsed": true
   },
   "outputs": [],
   "source": [
    "practice_dau['actdate'] = pd.to_datetime(practice_dau['actdate'])"
   ]
  },
  {
   "cell_type": "code",
   "execution_count": 64,
   "metadata": {
    "collapsed": true
   },
   "outputs": [],
   "source": [
    "first_day = pd.merge(first_day, practice_dau.groupby(['id', 'actdate'], as_index = False).sum(), on=['id', 'actdate'], how='inner')\n",
    "#Добавим number_of_pgr в первый день"
   ]
  },
  {
   "cell_type": "code",
   "execution_count": 65,
   "metadata": {},
   "outputs": [],
   "source": [
    "def cr_answer(id):\n",
    "    return int(id in revenue_positive_id)\n",
    "\n",
    "first_day['answer'] = first_day['id'].apply(cr_answer)"
   ]
  },
  {
   "cell_type": "code",
   "execution_count": 66,
   "metadata": {},
   "outputs": [
    {
     "data": {
      "text/plain": [
       "19850"
      ]
     },
     "execution_count": 66,
     "metadata": {},
     "output_type": "execute_result"
    }
   ],
   "source": [
    "first_day.answer.sum()"
   ]
  },
  {
   "cell_type": "code",
   "execution_count": 67,
   "metadata": {},
   "outputs": [],
   "source": [
    "from sklearn.linear_model import LogisticRegression\n",
    "from sklearn import metrics\n",
    "from sklearn import preprocessing\n",
    "from sklearn.model_selection import train_test_split"
   ]
  },
  {
   "cell_type": "code",
   "execution_count": 68,
   "metadata": {
    "collapsed": true
   },
   "outputs": [],
   "source": [
    "first_day.drop(['id', 'actdate'], axis = 1, inplace = True)"
   ]
  },
  {
   "cell_type": "code",
   "execution_count": 73,
   "metadata": {},
   "outputs": [],
   "source": [
    "first_day['amount_visits'] = first_day['amount_visits'].astype('int64')\n",
    "first_day['average_visit'] = first_day['average_visit'].astype('float64')"
   ]
  },
  {
   "cell_type": "code",
   "execution_count": 74,
   "metadata": {
    "scrolled": true
   },
   "outputs": [
    {
     "data": {
      "text/plain": [
       "clusters_ml_ended      int64\n",
       "quests_end             int64\n",
       "m_quests_end           int64\n",
       "amount_visits          int64\n",
       "session_length         int64\n",
       "average_visit        float64\n",
       "number_of_pgr          int64\n",
       "answer                 int64\n",
       "dtype: object"
      ]
     },
     "execution_count": 74,
     "metadata": {},
     "output_type": "execute_result"
    }
   ],
   "source": [
    "first_day.dtypes"
   ]
  },
  {
   "cell_type": "code",
   "execution_count": 77,
   "metadata": {},
   "outputs": [],
   "source": [
    "#целевая переменная \n",
    "answer = first_day['answer']\n",
    "first_day.drop('answer', axis=1, inplace=True)"
   ]
  },
  {
   "cell_type": "code",
   "execution_count": 78,
   "metadata": {},
   "outputs": [],
   "source": [
    "#Нормализую признаки\n",
    "normalizer = preprocessing.StandardScaler()\n",
    "data_real_norm_np = normalizer.fit_transform(first_day)\n",
    "data_real_norm_pd = pd.DataFrame(data=data_real_norm_np)"
   ]
  },
  {
   "cell_type": "code",
   "execution_count": 98,
   "metadata": {},
   "outputs": [
    {
     "data": {
      "text/plain": [
       "LogisticRegression(C=1.0, class_weight=None, dual=False, fit_intercept=True,\n",
       "          intercept_scaling=1, max_iter=100, multi_class='ovr', n_jobs=1,\n",
       "          penalty='l2', random_state=None, solver='liblinear', tol=0.0001,\n",
       "          verbose=0, warm_start=False)"
      ]
     },
     "execution_count": 98,
     "metadata": {},
     "output_type": "execute_result"
    }
   ],
   "source": [
    "#обучим\n",
    "X_train, X_test, y_train, y_test = train_test_split(data_real_norm_pd, answer, test_size = 0.3, random_state = 42)\n",
    "\n",
    "LogReg = LogisticRegression()\n",
    "LogReg.fit(X_train, y_train)"
   ]
  },
  {
   "cell_type": "code",
   "execution_count": 99,
   "metadata": {},
   "outputs": [
    {
     "name": "stdout",
     "output_type": "stream",
     "text": [
      "ROC-AUC =  0.825300583688\n",
      "TP =  0 \t FP =  57\n",
      "FN = 5992 \t TN =  578645\n"
     ]
    }
   ],
   "source": [
    "print('ROC-AUC = ', metrics.roc_auc_score(y_test, LogReg.predict_proba(X_test)[:, 1]))\n",
    "tn, fp, fn, tp = metrics.confusion_matrix(y_test, LogReg.predict(X_test)).ravel()\n",
    "print('TP = ', tp, '\\t FP = ', fp) \n",
    "print('FN =', fn, '\\t TN = ', tn)"
   ]
  },
  {
   "cell_type": "markdown",
   "metadata": {},
   "source": [
    ":("
   ]
  },
  {
   "cell_type": "code",
   "execution_count": 100,
   "metadata": {},
   "outputs": [
    {
     "data": {
      "text/plain": [
       "SGDClassifier(alpha=0.05, average=False, class_weight=None, epsilon=0.1,\n",
       "       eta0=0.0, fit_intercept=True, l1_ratio=0.15,\n",
       "       learning_rate='optimal', loss='log', n_iter=200, n_jobs=1,\n",
       "       penalty='l2', power_t=0.5, random_state=None, shuffle=True,\n",
       "       verbose=0, warm_start=False)"
      ]
     },
     "execution_count": 100,
     "metadata": {},
     "output_type": "execute_result"
    }
   ],
   "source": [
    "from sklearn.linear_model import SGDClassifier\n",
    "lr_sgd = SGDClassifier(loss=\"log\", alpha=0.05, n_iter=200, fit_intercept=True)\n",
    "lr_sgd.fit(X_train, y_train)"
   ]
  },
  {
   "cell_type": "code",
   "execution_count": 101,
   "metadata": {},
   "outputs": [
    {
     "name": "stdout",
     "output_type": "stream",
     "text": [
      "ROC-AUC =  0.83342523449\n",
      "TP =  1 \t FP =  19\n",
      "FN = 5991 \t TN =  578683\n"
     ]
    }
   ],
   "source": [
    "print('ROC-AUC = ', metrics.roc_auc_score(y_test, lr_sgd.predict_proba(X_test)[:, 1]))\n",
    "tn, fp, fn, tp = metrics.confusion_matrix(y_test, lr_sgd.predict(X_test)).ravel()\n",
    "print('TP = ', tp, '\\t FP = ', fp) \n",
    "print('FN =', fn, '\\t TN = ', tn)"
   ]
  }
 ],
 "metadata": {
  "kernelspec": {
   "display_name": "Python 3",
   "language": "python",
   "name": "python3"
  },
  "language_info": {
   "codemirror_mode": {
    "name": "ipython",
    "version": 3
   },
   "file_extension": ".py",
   "mimetype": "text/x-python",
   "name": "python",
   "nbconvert_exporter": "python",
   "pygments_lexer": "ipython3",
   "version": "3.6.1"
  }
 },
 "nbformat": 4,
 "nbformat_minor": 2
}
