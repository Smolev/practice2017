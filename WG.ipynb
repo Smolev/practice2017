{
 "cells": [
  {
   "cell_type": "markdown",
   "metadata": {
    "deletable": true,
    "editable": true
   },
   "source": [
    "# Владимир Смолев\n",
    "## Практика в WebGame\n",
    "## Предсказание конверта в плательщика по первому дню игры\n",
    "\n",
    "Задание:\n",
    "Имея данные за первый день/два игры, необходимо предсказать вероятность того, что игрок станет плательщиком. Бонус: предсказать тип плательщика (после их стандартной классификации на китов, дельфинов, пескарей и пр.)\n"
   ]
  },
  {
   "cell_type": "markdown",
   "metadata": {
    "deletable": true,
    "editable": true
   },
   "source": [
    "Импортирую библиотеки"
   ]
  },
  {
   "cell_type": "code",
   "execution_count": 1,
   "metadata": {
    "collapsed": true,
    "deletable": true,
    "editable": true
   },
   "outputs": [],
   "source": [
    "import pandas as pd\n",
    "import numpy as np\n",
    "%matplotlib inline"
   ]
  },
  {
   "cell_type": "markdown",
   "metadata": {
    "deletable": true,
    "editable": true
   },
   "source": [
    "Загружаю таблички."
   ]
  },
  {
   "cell_type": "code",
   "execution_count": 2,
   "metadata": {
    "collapsed": true,
    "deletable": true,
    "editable": true
   },
   "outputs": [],
   "source": [
    "practice_dau = pd.read_csv('practice_dau_and.csv', sep='|', names = ['id', 'country','number_of_pgr', 'actdate'])"
   ]
  },
  {
   "cell_type": "code",
   "execution_count": 3,
   "metadata": {
    "collapsed": true,
    "deletable": true,
    "editable": true
   },
   "outputs": [],
   "source": [
    "practice_pact = pd.read_csv('practice_pact_and.csv', sep='|', names = ['id', 'actdate', 'regdate', 'clusters_ml_ended',\n",
    "                                                                      'revenue', 'transactions', 'quests_end',\n",
    "                                                                       'm_quests_end', 'crystals_value_spend',\n",
    "                                                                       'store_enters'])"
   ]
  },
  {
   "cell_type": "code",
   "execution_count": 4,
   "metadata": {
    "collapsed": true,
    "deletable": true,
    "editable": true
   },
   "outputs": [],
   "source": [
    "practice_sessions = pd.read_csv('practice_sessions_and.csv', sep='|', names = ['id', 'session_number','session_length',\n",
    "                                                                              'session_start_time', 'session_end_time',\n",
    "                                                                              'actdate'])"
   ]
  },
  {
   "cell_type": "markdown",
   "metadata": {
    "deletable": true,
    "editable": true
   },
   "source": [
    "## Описание данных.\n",
    "### 1. practice_dau - ежедневные сообщения с устройства игрока\n",
    "id - идентификатор игрока;\n",
    "\n",
    "сountry - страна;\n",
    "\n",
    "number_of_pgr - количество PGR-сообщений (их шлет устройство во время игры);\n",
    "\n",
    "actdate - дата события."
   ]
  },
  {
   "cell_type": "markdown",
   "metadata": {
    "deletable": true,
    "editable": true
   },
   "source": [
    "### 2. practice_pact - агрегированные данные о деятельности игрока в этот день\n",
    "id - идентификатор игрока;\n",
    "\n",
    "actdate - дата события;\n",
    "\n",
    "regdate - дата регистрации игрока;\n",
    "\n",
    "clusters_ml_ended - сколько кластеров (кластеры состоят из квестов) основной сюжетной линии прошел игрок;\n",
    "\n",
    "revenue - прибыль с игрока;\n",
    "\n",
    "transactions - количество платежей;\n",
    "\n",
    "quests_end - сколько побочных квестов прошел игрок;\n",
    "\n",
    "m_quests_end - сколько квестов основной сюжетной линии прошел игрок;\n",
    "\n",
    "crystals_value_spend - сколько кристаллов (в определенной нормировке) потратил игрок;\n",
    "\n",
    "store_enters - сколько раз игрок зашел в магазин."
   ]
  },
  {
   "cell_type": "markdown",
   "metadata": {
    "deletable": true,
    "editable": true
   },
   "source": [
    "### 3.  practice_sessions - данные о сессиях игрока\n",
    "id - идентификатор игрока;\n",
    "\n",
    "session_number - порядковый номер сессии игрока;\n",
    "\n",
    "session_length - длина сессии;\n",
    "\n",
    "session_start_time - время начала сессии,\n",
    "\n",
    "session_end_time - время окончания сессии,\n",
    "\n",
    "actdate - дата события."
   ]
  },
  {
   "cell_type": "markdown",
   "metadata": {
    "deletable": true,
    "editable": true
   },
   "source": [
    "Посмотрим на данные."
   ]
  },
  {
   "cell_type": "code",
   "execution_count": 5,
   "metadata": {
    "collapsed": false,
    "deletable": true,
    "editable": true,
    "scrolled": true
   },
   "outputs": [
    {
     "name": "stdout",
     "output_type": "stream",
     "text": [
      "(8519524, 4)\n"
     ]
    },
    {
     "data": {
      "text/html": [
       "<div>\n",
       "<style>\n",
       "    .dataframe thead tr:only-child th {\n",
       "        text-align: right;\n",
       "    }\n",
       "\n",
       "    .dataframe thead th {\n",
       "        text-align: left;\n",
       "    }\n",
       "\n",
       "    .dataframe tbody tr th {\n",
       "        vertical-align: top;\n",
       "    }\n",
       "</style>\n",
       "<table border=\"1\" class=\"dataframe\">\n",
       "  <thead>\n",
       "    <tr style=\"text-align: right;\">\n",
       "      <th></th>\n",
       "      <th>id</th>\n",
       "      <th>country</th>\n",
       "      <th>number_of_pgr</th>\n",
       "      <th>actdate</th>\n",
       "    </tr>\n",
       "  </thead>\n",
       "  <tbody>\n",
       "    <tr>\n",
       "      <th>0</th>\n",
       "      <td>c7a56d9eee</td>\n",
       "      <td>FR</td>\n",
       "      <td>33</td>\n",
       "      <td>2017-01-01</td>\n",
       "    </tr>\n",
       "    <tr>\n",
       "      <th>1</th>\n",
       "      <td>bd4b8c265d</td>\n",
       "      <td>GB</td>\n",
       "      <td>47</td>\n",
       "      <td>2017-01-20</td>\n",
       "    </tr>\n",
       "    <tr>\n",
       "      <th>2</th>\n",
       "      <td>bd4b8c265d</td>\n",
       "      <td>GB</td>\n",
       "      <td>6</td>\n",
       "      <td>2017-01-27</td>\n",
       "    </tr>\n",
       "    <tr>\n",
       "      <th>3</th>\n",
       "      <td>bd4b8c265d</td>\n",
       "      <td>GB</td>\n",
       "      <td>11</td>\n",
       "      <td>2017-01-25</td>\n",
       "    </tr>\n",
       "    <tr>\n",
       "      <th>4</th>\n",
       "      <td>bd4b8c265d</td>\n",
       "      <td>GB</td>\n",
       "      <td>78</td>\n",
       "      <td>2017-02-05</td>\n",
       "    </tr>\n",
       "  </tbody>\n",
       "</table>\n",
       "</div>"
      ],
      "text/plain": [
       "           id country  number_of_pgr    actdate\n",
       "0  c7a56d9eee      FR             33 2017-01-01\n",
       "1  bd4b8c265d      GB             47 2017-01-20\n",
       "2  bd4b8c265d      GB              6 2017-01-27\n",
       "3  bd4b8c265d      GB             11 2017-01-25\n",
       "4  bd4b8c265d      GB             78 2017-02-05"
      ]
     },
     "execution_count": 5,
     "metadata": {},
     "output_type": "execute_result"
    }
   ],
   "source": [
    "print(practice_dau.shape)\n",
    "practice_dau['actdate'] = pd.to_datetime(practice_dau['actdate'])\n",
    "practice_dau.head(5)"
   ]
  },
  {
   "cell_type": "code",
   "execution_count": 6,
   "metadata": {
    "collapsed": false,
    "deletable": true,
    "editable": true,
    "scrolled": true
   },
   "outputs": [
    {
     "name": "stdout",
     "output_type": "stream",
     "text": [
      "(5919245, 10)\n"
     ]
    },
    {
     "data": {
      "text/html": [
       "<div>\n",
       "<style>\n",
       "    .dataframe thead tr:only-child th {\n",
       "        text-align: right;\n",
       "    }\n",
       "\n",
       "    .dataframe thead th {\n",
       "        text-align: left;\n",
       "    }\n",
       "\n",
       "    .dataframe tbody tr th {\n",
       "        vertical-align: top;\n",
       "    }\n",
       "</style>\n",
       "<table border=\"1\" class=\"dataframe\">\n",
       "  <thead>\n",
       "    <tr style=\"text-align: right;\">\n",
       "      <th></th>\n",
       "      <th>id</th>\n",
       "      <th>actdate</th>\n",
       "      <th>regdate</th>\n",
       "      <th>clusters_ml_ended</th>\n",
       "      <th>revenue</th>\n",
       "      <th>transactions</th>\n",
       "      <th>quests_end</th>\n",
       "      <th>m_quests_end</th>\n",
       "      <th>crystals_value_spend</th>\n",
       "      <th>store_enters</th>\n",
       "    </tr>\n",
       "  </thead>\n",
       "  <tbody>\n",
       "    <tr>\n",
       "      <th>0</th>\n",
       "      <td>abee37a4e1</td>\n",
       "      <td>2017-01-01</td>\n",
       "      <td>2017-01-01</td>\n",
       "      <td>7</td>\n",
       "      <td>0.0</td>\n",
       "      <td>0</td>\n",
       "      <td>61</td>\n",
       "      <td>13</td>\n",
       "      <td>0</td>\n",
       "      <td>0</td>\n",
       "    </tr>\n",
       "    <tr>\n",
       "      <th>1</th>\n",
       "      <td>6fbbafd123</td>\n",
       "      <td>2017-01-01</td>\n",
       "      <td>2017-01-01</td>\n",
       "      <td>5</td>\n",
       "      <td>0.0</td>\n",
       "      <td>0</td>\n",
       "      <td>73</td>\n",
       "      <td>14</td>\n",
       "      <td>0</td>\n",
       "      <td>0</td>\n",
       "    </tr>\n",
       "    <tr>\n",
       "      <th>2</th>\n",
       "      <td>23c025efd0</td>\n",
       "      <td>2017-01-01</td>\n",
       "      <td>2017-01-01</td>\n",
       "      <td>7</td>\n",
       "      <td>0.0</td>\n",
       "      <td>0</td>\n",
       "      <td>91</td>\n",
       "      <td>17</td>\n",
       "      <td>0</td>\n",
       "      <td>0</td>\n",
       "    </tr>\n",
       "    <tr>\n",
       "      <th>3</th>\n",
       "      <td>8f4b043ead</td>\n",
       "      <td>2017-01-01</td>\n",
       "      <td>2017-01-01</td>\n",
       "      <td>2</td>\n",
       "      <td>0.0</td>\n",
       "      <td>0</td>\n",
       "      <td>14</td>\n",
       "      <td>1</td>\n",
       "      <td>0</td>\n",
       "      <td>0</td>\n",
       "    </tr>\n",
       "    <tr>\n",
       "      <th>4</th>\n",
       "      <td>1bdb89a697</td>\n",
       "      <td>2017-01-01</td>\n",
       "      <td>2017-01-01</td>\n",
       "      <td>2</td>\n",
       "      <td>0.0</td>\n",
       "      <td>0</td>\n",
       "      <td>11</td>\n",
       "      <td>0</td>\n",
       "      <td>0</td>\n",
       "      <td>0</td>\n",
       "    </tr>\n",
       "  </tbody>\n",
       "</table>\n",
       "</div>"
      ],
      "text/plain": [
       "           id    actdate    regdate  clusters_ml_ended  revenue  transactions  \\\n",
       "0  abee37a4e1 2017-01-01 2017-01-01                  7      0.0             0   \n",
       "1  6fbbafd123 2017-01-01 2017-01-01                  5      0.0             0   \n",
       "2  23c025efd0 2017-01-01 2017-01-01                  7      0.0             0   \n",
       "3  8f4b043ead 2017-01-01 2017-01-01                  2      0.0             0   \n",
       "4  1bdb89a697 2017-01-01 2017-01-01                  2      0.0             0   \n",
       "\n",
       "   quests_end  m_quests_end  crystals_value_spend  store_enters  \n",
       "0          61            13                     0             0  \n",
       "1          73            14                     0             0  \n",
       "2          91            17                     0             0  \n",
       "3          14             1                     0             0  \n",
       "4          11             0                     0             0  "
      ]
     },
     "execution_count": 6,
     "metadata": {},
     "output_type": "execute_result"
    }
   ],
   "source": [
    "print(practice_pact.shape)\n",
    "practice_pact['actdate'] = pd.to_datetime(practice_pact['actdate'])\n",
    "practice_pact['regdate'] = pd.to_datetime(practice_pact['regdate'])\n",
    "practice_pact.head(5)"
   ]
  },
  {
   "cell_type": "code",
   "execution_count": 8,
   "metadata": {
    "collapsed": false,
    "deletable": true,
    "editable": true
   },
   "outputs": [
    {
     "data": {
      "text/plain": [
       "<matplotlib.axes._subplots.AxesSubplot at 0x29cc4151860>"
      ]
     },
     "execution_count": 8,
     "metadata": {},
     "output_type": "execute_result"
    },
    {
     "data": {
      "image/png": "[encoded data removed]",
      "text/plain": [
       "<matplotlib.figure.Figure at 0x29cc41512b0>"
      ]
     },
     "metadata": {},
     "output_type": "display_data"
    }
   ],
   "source": [
    "import matplotlib.pyplot as plt\n",
    "practice_pact.quests_end.hist(bins=50)"
   ]
  },
  {
   "cell_type": "code",
   "execution_count": 9,
   "metadata": {
    "collapsed": false,
    "deletable": true,
    "editable": true,
    "scrolled": true
   },
   "outputs": [
    {
     "name": "stdout",
     "output_type": "stream",
     "text": [
      "(32533314, 6)\n"
     ]
    },
    {
     "data": {
      "text/html": [
       "<div>\n",
       "<style>\n",
       "    .dataframe thead tr:only-child th {\n",
       "        text-align: right;\n",
       "    }\n",
       "\n",
       "    .dataframe thead th {\n",
       "        text-align: left;\n",
       "    }\n",
       "\n",
       "    .dataframe tbody tr th {\n",
       "        vertical-align: top;\n",
       "    }\n",
       "</style>\n",
       "<table border=\"1\" class=\"dataframe\">\n",
       "  <thead>\n",
       "    <tr style=\"text-align: right;\">\n",
       "      <th></th>\n",
       "      <th>id</th>\n",
       "      <th>session_number</th>\n",
       "      <th>session_length</th>\n",
       "      <th>session_start_time</th>\n",
       "      <th>session_end_time</th>\n",
       "      <th>actdate</th>\n",
       "    </tr>\n",
       "  </thead>\n",
       "  <tbody>\n",
       "    <tr>\n",
       "      <th>0</th>\n",
       "      <td>14d94a58b7</td>\n",
       "      <td>13.0</td>\n",
       "      <td>57</td>\n",
       "      <td>18:14:49</td>\n",
       "      <td>18:15:46</td>\n",
       "      <td>2017-01-25</td>\n",
       "    </tr>\n",
       "    <tr>\n",
       "      <th>1</th>\n",
       "      <td>26620badd1</td>\n",
       "      <td>4.0</td>\n",
       "      <td>132</td>\n",
       "      <td>01:33:40</td>\n",
       "      <td>01:35:52</td>\n",
       "      <td>2017-01-06</td>\n",
       "    </tr>\n",
       "    <tr>\n",
       "      <th>2</th>\n",
       "      <td>01d7674aa8</td>\n",
       "      <td>7.0</td>\n",
       "      <td>83</td>\n",
       "      <td>21:34:41</td>\n",
       "      <td>21:36:04</td>\n",
       "      <td>2017-02-09</td>\n",
       "    </tr>\n",
       "    <tr>\n",
       "      <th>3</th>\n",
       "      <td>14611edffb</td>\n",
       "      <td>3.0</td>\n",
       "      <td>211</td>\n",
       "      <td>13:22:15</td>\n",
       "      <td>13:25:46</td>\n",
       "      <td>2017-02-06</td>\n",
       "    </tr>\n",
       "    <tr>\n",
       "      <th>4</th>\n",
       "      <td>3c13bd2cec</td>\n",
       "      <td>2.0</td>\n",
       "      <td>1206</td>\n",
       "      <td>08:37:45</td>\n",
       "      <td>08:57:51</td>\n",
       "      <td>2017-02-05</td>\n",
       "    </tr>\n",
       "  </tbody>\n",
       "</table>\n",
       "</div>"
      ],
      "text/plain": [
       "           id  session_number  session_length session_start_time  \\\n",
       "0  14d94a58b7            13.0              57           18:14:49   \n",
       "1  26620badd1             4.0             132           01:33:40   \n",
       "2  01d7674aa8             7.0              83           21:34:41   \n",
       "3  14611edffb             3.0             211           13:22:15   \n",
       "4  3c13bd2cec             2.0            1206           08:37:45   \n",
       "\n",
       "  session_end_time    actdate  \n",
       "0         18:15:46 2017-01-25  \n",
       "1         01:35:52 2017-01-06  \n",
       "2         21:36:04 2017-02-09  \n",
       "3         13:25:46 2017-02-06  \n",
       "4         08:57:51 2017-02-05  "
      ]
     },
     "execution_count": 9,
     "metadata": {},
     "output_type": "execute_result"
    }
   ],
   "source": [
    "print(practice_sessions.shape)\n",
    "practice_sessions['actdate'] = pd.to_datetime(practice_sessions['actdate'])\n",
    "practice_sessions['session_start_time'] = pd.to_datetime(practice_sessions['session_start_time'], unit='s') - practice_sessions['actdate']\n",
    "practice_sessions['session_end_time'] = pd.to_datetime(practice_sessions['session_end_time'], unit='s') - practice_sessions['actdate']\n",
    "practice_sessions.head(5)"
   ]
  },
  {
   "cell_type": "markdown",
   "metadata": {
    "deletable": true,
    "editable": true
   },
   "source": [
    "Проверим значения в выгруженных таблицах. Есть ли там пропущенные значения."
   ]
  },
  {
   "cell_type": "code",
   "execution_count": 10,
   "metadata": {
    "collapsed": false,
    "deletable": true,
    "editable": true
   },
   "outputs": [
    {
     "name": "stdout",
     "output_type": "stream",
     "text": [
      "Всего 1715\n",
      "id                  0\n",
      "country          1715\n",
      "number_of_pgr       0\n",
      "actdate             0\n",
      "dtype: int64\n"
     ]
    }
   ],
   "source": [
    "print('Всего', practice_dau.isnull().sum().sum() )\n",
    "print(practice_dau.isnull().sum())"
   ]
  },
  {
   "cell_type": "code",
   "execution_count": 11,
   "metadata": {
    "collapsed": false,
    "deletable": true,
    "editable": true
   },
   "outputs": [
    {
     "name": "stdout",
     "output_type": "stream",
     "text": [
      "Всего 0\n",
      "id                      0\n",
      "actdate                 0\n",
      "regdate                 0\n",
      "clusters_ml_ended       0\n",
      "revenue                 0\n",
      "transactions            0\n",
      "quests_end              0\n",
      "m_quests_end            0\n",
      "crystals_value_spend    0\n",
      "store_enters            0\n",
      "dtype: int64\n"
     ]
    }
   ],
   "source": [
    "print('Всего', practice_pact.isnull().sum().sum() )\n",
    "print(practice_pact.isnull().sum())"
   ]
  },
  {
   "cell_type": "code",
   "execution_count": 12,
   "metadata": {
    "collapsed": false,
    "deletable": true,
    "editable": true,
    "scrolled": true
   },
   "outputs": [
    {
     "name": "stdout",
     "output_type": "stream",
     "text": [
      "Всего 23632945\n",
      "id                           0\n",
      "session_number        23632945\n",
      "session_length               0\n",
      "session_start_time           0\n",
      "session_end_time             0\n",
      "actdate                      0\n",
      "dtype: int64\n"
     ]
    }
   ],
   "source": [
    "print('Всего', practice_sessions.isnull().sum().sum() )\n",
    "print(practice_sessions.isnull().sum())"
   ]
  },
  {
   "cell_type": "code",
   "execution_count": 13,
   "metadata": {
    "collapsed": false,
    "deletable": true,
    "editable": true
   },
   "outputs": [
    {
     "data": {
      "text/plain": [
       "0.7264229214398509"
      ]
     },
     "execution_count": 13,
     "metadata": {},
     "output_type": "execute_result"
    }
   ],
   "source": [
    "23632945/practice_sessions.shape[0]"
   ]
  },
  {
   "cell_type": "markdown",
   "metadata": {
    "deletable": true,
    "editable": true
   },
   "source": [
    "В двух таблицах есть пропущенные значения. (Спросить что с ними делать)\n",
    "В таблице по сессиим нет номера сессии в 72%. Но так то это не важно. Можно восстановить по дате если понадобится."
   ]
  },
  {
   "cell_type": "code",
   "execution_count": 14,
   "metadata": {
    "collapsed": false,
    "deletable": true,
    "editable": true,
    "scrolled": true
   },
   "outputs": [
    {
     "name": "stdout",
     "output_type": "stream",
     "text": [
      "clusters_ml_ended,min: -2, max 98, mean 8.330775799954218\n",
      "revenue,min: 0.0, max 184607.43, mean 108.17581413345603\n",
      "transactions,min: 0, max 83, mean 0.024564281424404633\n",
      "quests_end,min: 0, max 796, mean 15.195209524187629\n",
      "m_quests_end,min: 0, max 141, mean 3.2064535257452595\n",
      "crystals_value_spend,min: 0, max 0, mean 0.0\n",
      "store_enters,min: 0, max 0, mean 0.0\n"
     ]
    }
   ],
   "source": [
    "for i in practice_pact.columns[3:]:\n",
    "    print('%(id)s,min: %(min)s, max %(max)s, mean %(mean)s' %\n",
    "          {'id': i, 'min': practice_pact[i].min(), 'max':practice_pact[i].max(), 'mean':practice_pact[i].mean() })"
   ]
  },
  {
   "cell_type": "markdown",
   "metadata": {
    "deletable": true,
    "editable": true
   },
   "source": [
    "Выберем данные с которыми будем работатью. "
   ]
  },
  {
   "cell_type": "markdown",
   "metadata": {
    "deletable": true,
    "editable": true
   },
   "source": [
    "Найдем дни активности пользователей совпадающие с регистрацией."
   ]
  },
  {
   "cell_type": "code",
   "execution_count": 15,
   "metadata": {
    "collapsed": false,
    "deletable": true,
    "editable": true
   },
   "outputs": [
    {
     "name": "stdout",
     "output_type": "stream",
     "text": [
      "Кол-во активности в день регистрации (2060626, 10)\n",
      "Кол-во уникальных id (2016708,)\n"
     ]
    }
   ],
   "source": [
    "print('Кол-во активности в день регистрации',\n",
    "      practice_pact[practice_pact['actdate'] == practice_pact['regdate']].shape)\n",
    "print('Кол-во уникальных id',\n",
    "      practice_pact[practice_pact['actdate'] == practice_pact['regdate']]['id'].unique().shape)"
   ]
  },
  {
   "cell_type": "markdown",
   "metadata": {
    "deletable": true,
    "editable": true
   },
   "source": [
    "Получается, что регистрация и активность дня совпадала для некоторых id."
   ]
  },
  {
   "cell_type": "markdown",
   "metadata": {
    "deletable": true,
    "editable": true
   },
   "source": [
    "Эти пользователи регистрировались несколько раз."
   ]
  },
  {
   "cell_type": "code",
   "execution_count": 16,
   "metadata": {
    "collapsed": true,
    "deletable": true,
    "editable": true
   },
   "outputs": [],
   "source": [
    "#Данные о первом дне всех(включая дважды зареганных)\n",
    "first_day = practice_pact[practice_pact['actdate'] == practice_pact['regdate']]"
   ]
  },
  {
   "cell_type": "code",
   "execution_count": 17,
   "metadata": {
    "collapsed": true,
    "deletable": true,
    "editable": true
   },
   "outputs": [],
   "source": [
    "#Те, кто регестрировался несколько раз, берем первый\n",
    "first_day = pd.merge(first_day, practice_pact.groupby('id', as_index= False).min()[['id', 'regdate']], on=['id', 'regdate'], how='inner')"
   ]
  },
  {
   "cell_type": "code",
   "execution_count": 18,
   "metadata": {
    "collapsed": true,
    "deletable": true,
    "editable": true
   },
   "outputs": [],
   "source": [
    "first_day = first_day[first_day['revenue'] == 0]\n",
    "#Те, кто заплатил в первый день не интересны."
   ]
  },
  {
   "cell_type": "code",
   "execution_count": 19,
   "metadata": {
    "collapsed": false,
    "deletable": true,
    "editable": true
   },
   "outputs": [
    {
     "name": "stdout",
     "output_type": "stream",
     "text": [
      "(2009208, 10)\n"
     ]
    },
    {
     "data": {
      "text/html": [
       "<div>\n",
       "<style>\n",
       "    .dataframe thead tr:only-child th {\n",
       "        text-align: right;\n",
       "    }\n",
       "\n",
       "    .dataframe thead th {\n",
       "        text-align: left;\n",
       "    }\n",
       "\n",
       "    .dataframe tbody tr th {\n",
       "        vertical-align: top;\n",
       "    }\n",
       "</style>\n",
       "<table border=\"1\" class=\"dataframe\">\n",
       "  <thead>\n",
       "    <tr style=\"text-align: right;\">\n",
       "      <th></th>\n",
       "      <th>id</th>\n",
       "      <th>actdate</th>\n",
       "      <th>regdate</th>\n",
       "      <th>clusters_ml_ended</th>\n",
       "      <th>revenue</th>\n",
       "      <th>transactions</th>\n",
       "      <th>quests_end</th>\n",
       "      <th>m_quests_end</th>\n",
       "      <th>crystals_value_spend</th>\n",
       "      <th>store_enters</th>\n",
       "    </tr>\n",
       "  </thead>\n",
       "  <tbody>\n",
       "    <tr>\n",
       "      <th>0</th>\n",
       "      <td>abee37a4e1</td>\n",
       "      <td>2017-01-01</td>\n",
       "      <td>2017-01-01</td>\n",
       "      <td>7</td>\n",
       "      <td>0.0</td>\n",
       "      <td>0</td>\n",
       "      <td>61</td>\n",
       "      <td>13</td>\n",
       "      <td>0</td>\n",
       "      <td>0</td>\n",
       "    </tr>\n",
       "    <tr>\n",
       "      <th>1</th>\n",
       "      <td>6fbbafd123</td>\n",
       "      <td>2017-01-01</td>\n",
       "      <td>2017-01-01</td>\n",
       "      <td>5</td>\n",
       "      <td>0.0</td>\n",
       "      <td>0</td>\n",
       "      <td>73</td>\n",
       "      <td>14</td>\n",
       "      <td>0</td>\n",
       "      <td>0</td>\n",
       "    </tr>\n",
       "    <tr>\n",
       "      <th>2</th>\n",
       "      <td>23c025efd0</td>\n",
       "      <td>2017-01-01</td>\n",
       "      <td>2017-01-01</td>\n",
       "      <td>7</td>\n",
       "      <td>0.0</td>\n",
       "      <td>0</td>\n",
       "      <td>91</td>\n",
       "      <td>17</td>\n",
       "      <td>0</td>\n",
       "      <td>0</td>\n",
       "    </tr>\n",
       "    <tr>\n",
       "      <th>3</th>\n",
       "      <td>8f4b043ead</td>\n",
       "      <td>2017-01-01</td>\n",
       "      <td>2017-01-01</td>\n",
       "      <td>2</td>\n",
       "      <td>0.0</td>\n",
       "      <td>0</td>\n",
       "      <td>14</td>\n",
       "      <td>1</td>\n",
       "      <td>0</td>\n",
       "      <td>0</td>\n",
       "    </tr>\n",
       "    <tr>\n",
       "      <th>4</th>\n",
       "      <td>1bdb89a697</td>\n",
       "      <td>2017-01-01</td>\n",
       "      <td>2017-01-01</td>\n",
       "      <td>2</td>\n",
       "      <td>0.0</td>\n",
       "      <td>0</td>\n",
       "      <td>11</td>\n",
       "      <td>0</td>\n",
       "      <td>0</td>\n",
       "      <td>0</td>\n",
       "    </tr>\n",
       "  </tbody>\n",
       "</table>\n",
       "</div>"
      ],
      "text/plain": [
       "           id    actdate    regdate  clusters_ml_ended  revenue  transactions  \\\n",
       "0  abee37a4e1 2017-01-01 2017-01-01                  7      0.0             0   \n",
       "1  6fbbafd123 2017-01-01 2017-01-01                  5      0.0             0   \n",
       "2  23c025efd0 2017-01-01 2017-01-01                  7      0.0             0   \n",
       "3  8f4b043ead 2017-01-01 2017-01-01                  2      0.0             0   \n",
       "4  1bdb89a697 2017-01-01 2017-01-01                  2      0.0             0   \n",
       "\n",
       "   quests_end  m_quests_end  crystals_value_spend  store_enters  \n",
       "0          61            13                     0             0  \n",
       "1          73            14                     0             0  \n",
       "2          91            17                     0             0  \n",
       "3          14             1                     0             0  \n",
       "4          11             0                     0             0  "
      ]
     },
     "execution_count": 19,
     "metadata": {},
     "output_type": "execute_result"
    }
   ],
   "source": [
    "print(first_day.shape)\n",
    "first_day.head()"
   ]
  },
  {
   "cell_type": "code",
   "execution_count": 21,
   "metadata": {
    "collapsed": false,
    "deletable": true,
    "editable": true
   },
   "outputs": [
    {
     "data": {
      "text/plain": [
       "\"Список id для которых есть повторы\\nbad_id = practice_pact[practice_pact['actdate'] == practice_pact['regdate']]['id'].value_counts()[practice_pact[practice_pact['actdate'] == practice_pact['regdate']]['id'].value_counts() > 1].index\\nbad_id\\ndef bad_column(id):\\n    return int(id in bad_id)\\nbad_column = practice_pact['id'].apply(bad_column)\\npractice_pact['bad_column_id'] = bad_column\\npractice_pact.drop(practice_pact[practice_pact['bad_column_id'] == 1].index, axis = 0, inplace = True)\\npractice_pact.drop('bad_column_id', axis = 1, inplace = True)\\n\""
      ]
     },
     "execution_count": 21,
     "metadata": {},
     "output_type": "execute_result"
    }
   ],
   "source": [
    "'''Список id для которых есть повторы\n",
    "Уберу id которые дважды регистрировались\n",
    "bad_id = practice_pact[practice_pact['actdate'] == practice_pact['regdate']]['id'].value_counts()[practice_pact[practice_pact['actdate'] == practice_pact['regdate']]['id'].value_counts() > 1].index\n",
    "bad_id\n",
    "def bad_column(id):\n",
    "    return int(id in bad_id)\n",
    "bad_column = practice_pact['id'].apply(bad_column)\n",
    "practice_pact['bad_column_id'] = bad_column\n",
    "practice_pact.drop(practice_pact[practice_pact['bad_column_id'] == 1].index, axis = 0, inplace = True)\n",
    "practice_pact.drop('bad_column_id', axis = 1, inplace = True)\n",
    "'''"
   ]
  },
  {
   "cell_type": "code",
   "execution_count": 20,
   "metadata": {
    "collapsed": true,
    "deletable": true,
    "editable": true
   },
   "outputs": [],
   "source": [
    "revenue_positive_id = practice_pact.groupby('id').sum()[practice_pact.groupby('id').sum()['revenue'] > 0].index\n",
    "#Там, где будет единица в целевой переменной"
   ]
  },
  {
   "cell_type": "code",
   "execution_count": 19,
   "metadata": {
    "collapsed": true,
    "deletable": true,
    "editable": true
   },
   "outputs": [],
   "source": [
    "new_data_fd = pd.merge(first_day, practice_sessions, on=['id', 'actdate'], how='inner')\n",
    "#добавлю данные о сессиях в первый день"
   ]
  },
  {
   "cell_type": "code",
   "execution_count": 20,
   "metadata": {
    "collapsed": true,
    "deletable": true,
    "editable": true
   },
   "outputs": [],
   "source": [
    "amount_visits_fd = pd.DataFrame(data = np.array([new_data_fd['id'].value_counts().index, new_data_fd['id'].value_counts().values]).T, columns=['id', 'amount_visits'])\n",
    "#Количетсво посещений в первый день"
   ]
  },
  {
   "cell_type": "code",
   "execution_count": 21,
   "metadata": {
    "collapsed": true,
    "deletable": true,
    "editable": true
   },
   "outputs": [],
   "source": [
    "first_day = pd.merge(first_day, amount_visits_fd, on=['id'], how='inner')\n",
    "first_day = pd.merge(first_day, new_data_fd.groupby('id', as_index = False).sum()[['id', 'session_length']], on=['id'], how='inner')\n",
    "first_day = pd.merge(first_day, new_data_fd.groupby('id', as_index = False).min()[['id', 'session_start_time','session_end_time']], on=['id'], how='inner')\n",
    "#добавим к данным количество посещений,длину всех посещений в первый день и информацию о самом первом заходе"
   ]
  },
  {
   "cell_type": "code",
   "execution_count": 22,
   "metadata": {
    "collapsed": true,
    "deletable": true,
    "editable": true
   },
   "outputs": [],
   "source": [
    "first_day.drop(['store_enters', 'revenue', 'regdate', 'transactions', 'crystals_value_spend'], axis = 1, inplace = True)\n",
    "#они вроде нулевые => уберем"
   ]
  },
  {
   "cell_type": "code",
   "execution_count": 23,
   "metadata": {
    "collapsed": true,
    "deletable": true,
    "editable": true
   },
   "outputs": [],
   "source": [
    "first_day['average_visit'] = first_day['session_length']/first_day['amount_visits']"
   ]
  },
  {
   "cell_type": "code",
   "execution_count": 24,
   "metadata": {
    "collapsed": false,
    "deletable": true,
    "editable": true,
    "scrolled": false
   },
   "outputs": [
    {
     "data": {
      "text/html": [
       "<div>\n",
       "<style>\n",
       "    .dataframe thead tr:only-child th {\n",
       "        text-align: right;\n",
       "    }\n",
       "\n",
       "    .dataframe thead th {\n",
       "        text-align: left;\n",
       "    }\n",
       "\n",
       "    .dataframe tbody tr th {\n",
       "        vertical-align: top;\n",
       "    }\n",
       "</style>\n",
       "<table border=\"1\" class=\"dataframe\">\n",
       "  <thead>\n",
       "    <tr style=\"text-align: right;\">\n",
       "      <th></th>\n",
       "      <th>id</th>\n",
       "      <th>actdate</th>\n",
       "      <th>clusters_ml_ended</th>\n",
       "      <th>quests_end</th>\n",
       "      <th>m_quests_end</th>\n",
       "      <th>amount_visits</th>\n",
       "      <th>session_length</th>\n",
       "      <th>session_start_time</th>\n",
       "      <th>session_end_time</th>\n",
       "      <th>average_visit</th>\n",
       "    </tr>\n",
       "  </thead>\n",
       "  <tbody>\n",
       "    <tr>\n",
       "      <th>0</th>\n",
       "      <td>abee37a4e1</td>\n",
       "      <td>2017-01-01</td>\n",
       "      <td>7</td>\n",
       "      <td>61</td>\n",
       "      <td>13</td>\n",
       "      <td>6</td>\n",
       "      <td>5873</td>\n",
       "      <td>08:57:58</td>\n",
       "      <td>09:28:24</td>\n",
       "      <td>978.833</td>\n",
       "    </tr>\n",
       "    <tr>\n",
       "      <th>1</th>\n",
       "      <td>6fbbafd123</td>\n",
       "      <td>2017-01-01</td>\n",
       "      <td>5</td>\n",
       "      <td>73</td>\n",
       "      <td>14</td>\n",
       "      <td>6</td>\n",
       "      <td>7735</td>\n",
       "      <td>17:21:00</td>\n",
       "      <td>17:51:47</td>\n",
       "      <td>1289.17</td>\n",
       "    </tr>\n",
       "    <tr>\n",
       "      <th>2</th>\n",
       "      <td>23c025efd0</td>\n",
       "      <td>2017-01-01</td>\n",
       "      <td>7</td>\n",
       "      <td>91</td>\n",
       "      <td>17</td>\n",
       "      <td>4</td>\n",
       "      <td>6907</td>\n",
       "      <td>10:53:15</td>\n",
       "      <td>11:33:07</td>\n",
       "      <td>1726.75</td>\n",
       "    </tr>\n",
       "    <tr>\n",
       "      <th>3</th>\n",
       "      <td>8f4b043ead</td>\n",
       "      <td>2017-01-01</td>\n",
       "      <td>2</td>\n",
       "      <td>14</td>\n",
       "      <td>1</td>\n",
       "      <td>1</td>\n",
       "      <td>1424</td>\n",
       "      <td>21:50:46</td>\n",
       "      <td>22:14:30</td>\n",
       "      <td>1424</td>\n",
       "    </tr>\n",
       "    <tr>\n",
       "      <th>4</th>\n",
       "      <td>1bdb89a697</td>\n",
       "      <td>2017-01-01</td>\n",
       "      <td>2</td>\n",
       "      <td>11</td>\n",
       "      <td>0</td>\n",
       "      <td>1</td>\n",
       "      <td>521</td>\n",
       "      <td>02:52:00</td>\n",
       "      <td>03:00:41</td>\n",
       "      <td>521</td>\n",
       "    </tr>\n",
       "  </tbody>\n",
       "</table>\n",
       "</div>"
      ],
      "text/plain": [
       "           id    actdate  clusters_ml_ended  quests_end  m_quests_end  \\\n",
       "0  abee37a4e1 2017-01-01                  7          61            13   \n",
       "1  6fbbafd123 2017-01-01                  5          73            14   \n",
       "2  23c025efd0 2017-01-01                  7          91            17   \n",
       "3  8f4b043ead 2017-01-01                  2          14             1   \n",
       "4  1bdb89a697 2017-01-01                  2          11             0   \n",
       "\n",
       "  amount_visits  session_length session_start_time session_end_time  \\\n",
       "0             6            5873           08:57:58         09:28:24   \n",
       "1             6            7735           17:21:00         17:51:47   \n",
       "2             4            6907           10:53:15         11:33:07   \n",
       "3             1            1424           21:50:46         22:14:30   \n",
       "4             1             521           02:52:00         03:00:41   \n",
       "\n",
       "  average_visit  \n",
       "0       978.833  \n",
       "1       1289.17  \n",
       "2       1726.75  \n",
       "3          1424  \n",
       "4           521  "
      ]
     },
     "execution_count": 24,
     "metadata": {},
     "output_type": "execute_result"
    }
   ],
   "source": [
    "first_day.head()"
   ]
  },
  {
   "cell_type": "markdown",
   "metadata": {
    "deletable": true,
    "editable": true
   },
   "source": [
    "Разберемся с первой таблицей. Добавим данные по стране и колчиству сообщений от устройства."
   ]
  },
  {
   "cell_type": "code",
   "execution_count": 25,
   "metadata": {
    "collapsed": true,
    "deletable": true,
    "editable": true
   },
   "outputs": [],
   "source": [
    "#у некоторых пользователей нет страны, заполним пропуск\n",
    "practice_dau.fillna(value='NAN', inplace = True)"
   ]
  },
  {
   "cell_type": "code",
   "execution_count": 1,
   "metadata": {
    "collapsed": true,
    "deletable": true,
    "editable": true
   },
   "outputs": [],
   "source": [
    "# 1 - америка, 2 - Азия, 3 - Европа, 4 - африка, 5 - австралия, 6-южная америка;10 - остальные;\n",
    "country_dict = {'--': 0, 'A1': 0, 'A2': 0, 'AD': 0, 'AE': 2, 'AF': 0, 'AG': 0, 'AI': 0, 'AL': 3, 'AM': 3, 'AO': 0, 'AP': 0, 'AQ': 0, 'AR': 6, 'AS': 0, 'AT': 3, 'AU': 5, 'AW': 0, 'AX': 0, 'AZ': 2, 'BA': 3, 'BB': 0, 'BD': 2, 'BE': 3, 'BF': 0, 'BG': 3, 'BH': 3, 'BJ': 0, 'BM': 0, 'BN': 2, 'BO': 4, 'BQ': 0, 'BR': 6, 'BS': 0, 'BT': 0, 'BW': 0, 'BY': 3, 'BZ': 0, 'CA': 1, 'CD': 0, 'CG': 0, 'CH': 3, 'CI': 4, 'CL': 6, 'CM': 4, 'CN': 2, 'CO': 6, 'CR': 6, 'CU': 0, 'CV': 0, 'CW': 0, 'CY': 3, 'CZ': 3, 'DE': 3, 'DJ': 0, 'DK': 3, 'DM': 0, 'DO': 6, 'DZ': 4, 'EC': 6, 'EE': 3, 'EG': 4, 'ES': 3, 'ET': 0, 'EU': 0, 'FI': 3, 'FJ': 5, 'FM': 0, 'FO': 0, 'FR': 3, 'GA': 0, 'GB': 3, 'GD': 0, 'GE': 0, 'GF': 0, 'GG': 0, 'GH': 4, 'GI': 0, 'GL': 0, 'GM': 0, 'GN': 0, 'GP': 0, 'GQ': 0, 'GR': 3, 'GT': 6, 'GU': 0, 'GW': 0, 'GY': 0, 'HK': 2, 'HN': 6, 'HR': 3, 'HT': 6, 'HU': 3, 'ID': 2, 'IE': 3, 'IL': 2, 'IM': 0, 'IN': 2, 'IQ': 2, 'IR': 2, 'IS': 3, 'IT': 3, 'JE': 0, 'JM': 6, 'JO': 2, 'JP': 2, 'KE': 4, 'KG': 2, 'KH': 2, 'KN': 0, 'KP': 0, 'KR': 2, 'KW': 2, 'KY': 0, 'KZ': 2, 'LA': 2, 'LB': 2, 'LC': 0, 'LI': 0, 'LK': 2, 'LR': 0, 'LS': 0, 'LT': 3, 'LU': 3, 'LV': 3, 'LY': 0, 'MA': 4, 'MC': 0, 'MD': 3, 'ME': 0, 'MF': 0, 'MG': 0, 'MH': 0, 'MK': 3, 'ML': 0, 'MM': 0, 'MN': 0, 'MO': 0, 'MP': 0, 'MQ': 0, 'MR': 0, 'MT': 3, 'MU': 4, 'MV': 0, 'MX': 6, 'MY': 2, 'MZ': 4, 'NAN': 0, 'NC': 0, 'NE': 0, 'NG': 4, 'NI': 6, 'NL': 3, 'NO': 3, 'NP': 2, 'NR': 0, 'NZ': 6, 'OM': 2, 'PA': 6, 'PE': 6, 'PF': 0, 'PG': 0, 'PH': 2, 'PK': 2, 'PL': 3, 'PM': 0, 'PR': 6, 'PS': 0, 'PT': 3, 'PW': 0, 'PY': 6, 'QA': 2, 'RE': 0, 'RO': 3, 'RS': 3, 'RU': 3, 'RW': 0, 'SA': 2, 'SC': 0, 'SD': 0, 'SE': 3, 'SG': 2, 'SI': 3, 'SK': 3, 'SL': 0, 'SM': 0, 'SN': 4, 'SO': 0, 'SR': 0, 'SS': 0, 'ST': 0, 'SV': 6, 'SX': 0, 'SY': 2, 'SZ': 0, 'TG': 0, 'TH': 2, 'TJ': 0, 'TL': 0, 'TM': 2, 'TN': 4, 'TO': 0, 'TR': 2, 'TT': 6, 'TW': 2, 'TZ': 4, 'UA': 3, 'UG': 0, 'US': 1, 'UY': 6, 'UZ': 2, 'VC': 0, 'VE': 6, 'VG': 0, 'VI': 0, 'VN': 2, 'VU': 0, 'WS': 0, 'YE': 2, 'YT': 0, 'ZA': 4, 'ZM': 0, 'ZW': 0}"
   ]
  },
  {
   "cell_type": "code",
   "execution_count": 76,
   "metadata": {
    "collapsed": true,
    "deletable": true,
    "editable": true
   },
   "outputs": [],
   "source": [
    "#first_day = pd.merge(first_day, practice_dau.groupby(['id', 'actdate'], as_index = False).sum(), on=['id', 'actdate'], how='inner')\n",
    "#Добавим number_of_pgr в первый день"
   ]
  },
  {
   "cell_type": "code",
   "execution_count": 27,
   "metadata": {
    "collapsed": true,
    "deletable": true,
    "editable": true
   },
   "outputs": [],
   "source": [
    "first_day = pd.merge(first_day, practice_dau.sort_values('number_of_pgr', ascending = 0).groupby(['id', 'actdate'], as_index = False).first(), on=['id', 'actdate'], how='inner')\n",
    "#Добавим страну и number_of_pgr"
   ]
  },
  {
   "cell_type": "code",
   "execution_count": 28,
   "metadata": {
    "collapsed": true,
    "deletable": true,
    "editable": true
   },
   "outputs": [],
   "source": [
    "def country_to_id(country):\n",
    "    return country_dict[country]\n",
    "\n",
    "first_day['country_id'] = first_day['country'].apply(country_to_id)\n",
    "first_day.drop('country', axis = 1, inplace = True)\n",
    "#Отсортируем страны по континентам"
   ]
  },
  {
   "cell_type": "code",
   "execution_count": 36,
   "metadata": {
    "collapsed": false,
    "deletable": true,
    "editable": true
   },
   "outputs": [
    {
     "data": {
      "text/html": [
       "<div>\n",
       "<style>\n",
       "    .dataframe thead tr:only-child th {\n",
       "        text-align: right;\n",
       "    }\n",
       "\n",
       "    .dataframe thead th {\n",
       "        text-align: left;\n",
       "    }\n",
       "\n",
       "    .dataframe tbody tr th {\n",
       "        vertical-align: top;\n",
       "    }\n",
       "</style>\n",
       "<table border=\"1\" class=\"dataframe\">\n",
       "  <thead>\n",
       "    <tr style=\"text-align: right;\">\n",
       "      <th></th>\n",
       "      <th>id</th>\n",
       "      <th>actdate</th>\n",
       "      <th>clusters_ml_ended</th>\n",
       "      <th>quests_end</th>\n",
       "      <th>m_quests_end</th>\n",
       "      <th>amount_visits</th>\n",
       "      <th>session_length</th>\n",
       "      <th>average_visit</th>\n",
       "      <th>number_of_pgr</th>\n",
       "      <th>country_id</th>\n",
       "      <th>first_session_start</th>\n",
       "      <th>first_session_end</th>\n",
       "    </tr>\n",
       "  </thead>\n",
       "  <tbody>\n",
       "    <tr>\n",
       "      <th>0</th>\n",
       "      <td>abee37a4e1</td>\n",
       "      <td>2017-01-01</td>\n",
       "      <td>7</td>\n",
       "      <td>61</td>\n",
       "      <td>13</td>\n",
       "      <td>6</td>\n",
       "      <td>5873</td>\n",
       "      <td>978.833333</td>\n",
       "      <td>204</td>\n",
       "      <td>2</td>\n",
       "      <td>32278.0</td>\n",
       "      <td>34104.0</td>\n",
       "    </tr>\n",
       "    <tr>\n",
       "      <th>1</th>\n",
       "      <td>6fbbafd123</td>\n",
       "      <td>2017-01-01</td>\n",
       "      <td>5</td>\n",
       "      <td>73</td>\n",
       "      <td>14</td>\n",
       "      <td>6</td>\n",
       "      <td>7735</td>\n",
       "      <td>1289.166667</td>\n",
       "      <td>141</td>\n",
       "      <td>1</td>\n",
       "      <td>62460.0</td>\n",
       "      <td>64307.0</td>\n",
       "    </tr>\n",
       "    <tr>\n",
       "      <th>2</th>\n",
       "      <td>23c025efd0</td>\n",
       "      <td>2017-01-01</td>\n",
       "      <td>7</td>\n",
       "      <td>91</td>\n",
       "      <td>17</td>\n",
       "      <td>4</td>\n",
       "      <td>6907</td>\n",
       "      <td>1726.750000</td>\n",
       "      <td>233</td>\n",
       "      <td>3</td>\n",
       "      <td>39195.0</td>\n",
       "      <td>41587.0</td>\n",
       "    </tr>\n",
       "    <tr>\n",
       "      <th>3</th>\n",
       "      <td>8f4b043ead</td>\n",
       "      <td>2017-01-01</td>\n",
       "      <td>2</td>\n",
       "      <td>14</td>\n",
       "      <td>1</td>\n",
       "      <td>1</td>\n",
       "      <td>1424</td>\n",
       "      <td>1424.000000</td>\n",
       "      <td>47</td>\n",
       "      <td>3</td>\n",
       "      <td>78646.0</td>\n",
       "      <td>80070.0</td>\n",
       "    </tr>\n",
       "    <tr>\n",
       "      <th>4</th>\n",
       "      <td>1bdb89a697</td>\n",
       "      <td>2017-01-01</td>\n",
       "      <td>2</td>\n",
       "      <td>11</td>\n",
       "      <td>0</td>\n",
       "      <td>1</td>\n",
       "      <td>521</td>\n",
       "      <td>521.000000</td>\n",
       "      <td>19</td>\n",
       "      <td>2</td>\n",
       "      <td>10320.0</td>\n",
       "      <td>10841.0</td>\n",
       "    </tr>\n",
       "  </tbody>\n",
       "</table>\n",
       "</div>"
      ],
      "text/plain": [
       "           id    actdate  clusters_ml_ended  quests_end  m_quests_end  \\\n",
       "0  abee37a4e1 2017-01-01                  7          61            13   \n",
       "1  6fbbafd123 2017-01-01                  5          73            14   \n",
       "2  23c025efd0 2017-01-01                  7          91            17   \n",
       "3  8f4b043ead 2017-01-01                  2          14             1   \n",
       "4  1bdb89a697 2017-01-01                  2          11             0   \n",
       "\n",
       "   amount_visits  session_length  average_visit  number_of_pgr  country_id  \\\n",
       "0              6            5873     978.833333            204           2   \n",
       "1              6            7735    1289.166667            141           1   \n",
       "2              4            6907    1726.750000            233           3   \n",
       "3              1            1424    1424.000000             47           3   \n",
       "4              1             521     521.000000             19           2   \n",
       "\n",
       "   first_session_start  first_session_end  \n",
       "0              32278.0            34104.0  \n",
       "1              62460.0            64307.0  \n",
       "2              39195.0            41587.0  \n",
       "3              78646.0            80070.0  \n",
       "4              10320.0            10841.0  "
      ]
     },
     "execution_count": 36,
     "metadata": {},
     "output_type": "execute_result"
    }
   ],
   "source": [
    "first_day.head()"
   ]
  },
  {
   "cell_type": "code",
   "execution_count": 30,
   "metadata": {
    "collapsed": true,
    "deletable": true,
    "editable": true
   },
   "outputs": [],
   "source": [
    "first_day['amount_visits'] = first_day['amount_visits'].astype('int64')\n",
    "first_day['average_visit'] = first_day['average_visit'].astype('float64')"
   ]
  },
  {
   "cell_type": "code",
   "execution_count": 31,
   "metadata": {
    "collapsed": true,
    "deletable": true,
    "editable": true
   },
   "outputs": [],
   "source": [
    "def to_seconds(session_start_time):\n",
    "    return session_start_time.total_seconds()\n",
    "first_day['first_session_start'] = first_day['session_start_time'].apply(to_seconds)\n",
    "first_day['first_session_end'] = first_day['session_end_time'].apply(to_seconds)"
   ]
  },
  {
   "cell_type": "code",
   "execution_count": 32,
   "metadata": {
    "collapsed": true,
    "deletable": true,
    "editable": true
   },
   "outputs": [],
   "source": [
    "first_day.drop('session_start_time', axis = 1, inplace = True)\n",
    "first_day.drop('session_end_time', axis = 1, inplace = True)"
   ]
  },
  {
   "cell_type": "code",
   "execution_count": 51,
   "metadata": {
    "collapsed": false,
    "deletable": true,
    "editable": true,
    "scrolled": true
   },
   "outputs": [
    {
     "data": {
      "text/plain": [
       "clusters_ml_ended        int64\n",
       "quests_end               int64\n",
       "m_quests_end             int64\n",
       "amount_visits            int64\n",
       "session_length           int64\n",
       "average_visit          float64\n",
       "number_of_pgr            int64\n",
       "first_session_start    float64\n",
       "first_session_end      float64\n",
       "country_id_0           float64\n",
       "country_id_1           float64\n",
       "country_id_2           float64\n",
       "country_id_3           float64\n",
       "country_id_4           float64\n",
       "country_id_5           float64\n",
       "country_id_6           float64\n",
       "answer                   int64\n",
       "dtype: object"
      ]
     },
     "execution_count": 51,
     "metadata": {},
     "output_type": "execute_result"
    }
   ],
   "source": [
    "first_day.dtypes"
   ]
  },
  {
   "cell_type": "markdown",
   "metadata": {
    "deletable": true,
    "editable": true
   },
   "source": [
    "Закодируем категориальный признак country_id"
   ]
  },
  {
   "cell_type": "code",
   "execution_count": 45,
   "metadata": {
    "collapsed": true,
    "deletable": true,
    "editable": true
   },
   "outputs": [],
   "source": [
    "from sklearn.preprocessing import OneHotEncoder\n",
    "ohe = OneHotEncoder(sparse = False)\n",
    "new_ohe_features = ohe.fit_transform(first_day.country_id.values.reshape(-1,1))\n",
    "tmp = pd.DataFrame(new_ohe_features, columns=['country_id_' + str(i) for i in range(new_ohe_features.shape[1])])\n",
    "first_day = pd.concat([first_day, tmp], axis = 1)"
   ]
  },
  {
   "cell_type": "code",
   "execution_count": 47,
   "metadata": {
    "collapsed": true,
    "deletable": true,
    "editable": true
   },
   "outputs": [],
   "source": [
    "first_day.drop('country_id', axis = 1, inplace=True)"
   ]
  },
  {
   "cell_type": "code",
   "execution_count": 48,
   "metadata": {
    "collapsed": true,
    "deletable": true,
    "editable": true
   },
   "outputs": [],
   "source": [
    "def cr_answer(id):\n",
    "    return int(id in revenue_positive_id)\n",
    "\n",
    "answer = first_day['id'].apply(cr_answer)\n",
    "first_day['answer'] = answer"
   ]
  },
  {
   "cell_type": "code",
   "execution_count": 49,
   "metadata": {
    "collapsed": true,
    "deletable": true,
    "editable": true
   },
   "outputs": [],
   "source": [
    "first_day.drop(['id', 'actdate'], axis = 1, inplace = True)"
   ]
  },
  {
   "cell_type": "code",
   "execution_count": 52,
   "metadata": {
    "collapsed": true,
    "deletable": true,
    "editable": true
   },
   "outputs": [],
   "source": [
    "first_day['country_id_0'] = first_day['country_id_0'].astype('int64')\n",
    "first_day['country_id_1'] = first_day['country_id_1'].astype('int64')\n",
    "first_day['country_id_2'] = first_day['country_id_2'].astype('int64')\n",
    "first_day['country_id_3'] = first_day['country_id_3'].astype('int64')\n",
    "first_day['country_id_4'] = first_day['country_id_4'].astype('int64')\n",
    "first_day['country_id_5'] = first_day['country_id_5'].astype('int64')\n",
    "first_day['country_id_6'] = first_day['country_id_6'].astype('int64')\n",
    "first_day['first_session_start'] = first_day['first_session_start'].astype('int64')\n",
    "first_day['first_session_end'] = first_day['first_session_end'].astype('int64')"
   ]
  },
  {
   "cell_type": "code",
   "execution_count": 53,
   "metadata": {
    "collapsed": true,
    "deletable": true,
    "editable": true
   },
   "outputs": [],
   "source": [
    "first_day.to_csv('first_day1.csv')"
   ]
  },
  {
   "cell_type": "markdown",
   "metadata": {
    "deletable": true,
    "editable": true
   },
   "source": [
    "## Обучение"
   ]
  },
  {
   "cell_type": "code",
   "execution_count": 3,
   "metadata": {
    "collapsed": false,
    "deletable": true,
    "editable": true
   },
   "outputs": [],
   "source": [
    "from sklearn.linear_model import LogisticRegression\n",
    "from sklearn import metrics\n",
    "from sklearn import preprocessing\n",
    "from sklearn.model_selection import train_test_split\n",
    "from sklearn.model_selection import GridSearchCV\n",
    "from sklearn.model_selection import KFold\n",
    "from sklearn.linear_model import SGDClassifier"
   ]
  },
  {
   "cell_type": "code",
   "execution_count": 4,
   "metadata": {
    "collapsed": true,
    "deletable": true,
    "editable": true
   },
   "outputs": [],
   "source": [
    "first_day = pd.read_csv('first_day1.csv')\n",
    "first_day.drop('Unnamed: 0', axis = 1, inplace = True) "
   ]
  },
  {
   "cell_type": "code",
   "execution_count": 5,
   "metadata": {
    "collapsed": false,
    "deletable": true,
    "editable": true
   },
   "outputs": [
    {
     "name": "stdout",
     "output_type": "stream",
     "text": [
      "В выборке 0.01 часть платильщиков.\n"
     ]
    }
   ],
   "source": [
    "pay_persent = first_day[first_day['answer'] > 0].shape[0]/first_day.shape[0]\n",
    "print('В выборке', round(pay_persent, 2), 'часть платильщиков.')"
   ]
  },
  {
   "cell_type": "markdown",
   "metadata": {
    "deletable": true,
    "editable": true
   },
   "source": [
    "Что очень мало."
   ]
  },
  {
   "cell_type": "code",
   "execution_count": 6,
   "metadata": {
    "collapsed": true,
    "deletable": true,
    "editable": true
   },
   "outputs": [],
   "source": [
    "answer = first_day['answer']\n",
    "first_day.drop('answer', axis = 1, inplace = True)"
   ]
  },
  {
   "cell_type": "code",
   "execution_count": 7,
   "metadata": {
    "collapsed": false,
    "deletable": true,
    "editable": true
   },
   "outputs": [
    {
     "data": {
      "text/html": [
       "<div>\n",
       "<table border=\"1\" class=\"dataframe\">\n",
       "  <thead>\n",
       "    <tr style=\"text-align: right;\">\n",
       "      <th></th>\n",
       "      <th>clusters_ml_ended</th>\n",
       "      <th>quests_end</th>\n",
       "      <th>m_quests_end</th>\n",
       "      <th>amount_visits</th>\n",
       "      <th>session_length</th>\n",
       "      <th>average_visit</th>\n",
       "      <th>number_of_pgr</th>\n",
       "      <th>first_session_start</th>\n",
       "      <th>first_session_end</th>\n",
       "      <th>country_id_0</th>\n",
       "      <th>country_id_1</th>\n",
       "      <th>country_id_2</th>\n",
       "      <th>country_id_3</th>\n",
       "      <th>country_id_4</th>\n",
       "      <th>country_id_5</th>\n",
       "      <th>country_id_6</th>\n",
       "    </tr>\n",
       "  </thead>\n",
       "  <tbody>\n",
       "    <tr>\n",
       "      <th>0</th>\n",
       "      <td>7</td>\n",
       "      <td>61</td>\n",
       "      <td>13</td>\n",
       "      <td>6</td>\n",
       "      <td>5873</td>\n",
       "      <td>978.833333</td>\n",
       "      <td>204</td>\n",
       "      <td>32278</td>\n",
       "      <td>34104</td>\n",
       "      <td>0</td>\n",
       "      <td>0</td>\n",
       "      <td>1</td>\n",
       "      <td>0</td>\n",
       "      <td>0</td>\n",
       "      <td>0</td>\n",
       "      <td>0</td>\n",
       "    </tr>\n",
       "    <tr>\n",
       "      <th>1</th>\n",
       "      <td>5</td>\n",
       "      <td>73</td>\n",
       "      <td>14</td>\n",
       "      <td>6</td>\n",
       "      <td>7735</td>\n",
       "      <td>1289.166667</td>\n",
       "      <td>141</td>\n",
       "      <td>62460</td>\n",
       "      <td>64307</td>\n",
       "      <td>0</td>\n",
       "      <td>1</td>\n",
       "      <td>0</td>\n",
       "      <td>0</td>\n",
       "      <td>0</td>\n",
       "      <td>0</td>\n",
       "      <td>0</td>\n",
       "    </tr>\n",
       "    <tr>\n",
       "      <th>2</th>\n",
       "      <td>7</td>\n",
       "      <td>91</td>\n",
       "      <td>17</td>\n",
       "      <td>4</td>\n",
       "      <td>6907</td>\n",
       "      <td>1726.750000</td>\n",
       "      <td>233</td>\n",
       "      <td>39195</td>\n",
       "      <td>41587</td>\n",
       "      <td>0</td>\n",
       "      <td>0</td>\n",
       "      <td>0</td>\n",
       "      <td>1</td>\n",
       "      <td>0</td>\n",
       "      <td>0</td>\n",
       "      <td>0</td>\n",
       "    </tr>\n",
       "    <tr>\n",
       "      <th>3</th>\n",
       "      <td>2</td>\n",
       "      <td>14</td>\n",
       "      <td>1</td>\n",
       "      <td>1</td>\n",
       "      <td>1424</td>\n",
       "      <td>1424.000000</td>\n",
       "      <td>47</td>\n",
       "      <td>78646</td>\n",
       "      <td>80070</td>\n",
       "      <td>0</td>\n",
       "      <td>0</td>\n",
       "      <td>0</td>\n",
       "      <td>1</td>\n",
       "      <td>0</td>\n",
       "      <td>0</td>\n",
       "      <td>0</td>\n",
       "    </tr>\n",
       "    <tr>\n",
       "      <th>4</th>\n",
       "      <td>2</td>\n",
       "      <td>11</td>\n",
       "      <td>0</td>\n",
       "      <td>1</td>\n",
       "      <td>521</td>\n",
       "      <td>521.000000</td>\n",
       "      <td>19</td>\n",
       "      <td>10320</td>\n",
       "      <td>10841</td>\n",
       "      <td>0</td>\n",
       "      <td>0</td>\n",
       "      <td>1</td>\n",
       "      <td>0</td>\n",
       "      <td>0</td>\n",
       "      <td>0</td>\n",
       "      <td>0</td>\n",
       "    </tr>\n",
       "  </tbody>\n",
       "</table>\n",
       "</div>"
      ],
      "text/plain": [
       "   clusters_ml_ended  quests_end  m_quests_end  amount_visits  session_length  \\\n",
       "0                  7          61            13              6            5873   \n",
       "1                  5          73            14              6            7735   \n",
       "2                  7          91            17              4            6907   \n",
       "3                  2          14             1              1            1424   \n",
       "4                  2          11             0              1             521   \n",
       "\n",
       "   average_visit  number_of_pgr  first_session_start  first_session_end  \\\n",
       "0     978.833333            204                32278              34104   \n",
       "1    1289.166667            141                62460              64307   \n",
       "2    1726.750000            233                39195              41587   \n",
       "3    1424.000000             47                78646              80070   \n",
       "4     521.000000             19                10320              10841   \n",
       "\n",
       "   country_id_0  country_id_1  country_id_2  country_id_3  country_id_4  \\\n",
       "0             0             0             1             0             0   \n",
       "1             0             1             0             0             0   \n",
       "2             0             0             0             1             0   \n",
       "3             0             0             0             1             0   \n",
       "4             0             0             1             0             0   \n",
       "\n",
       "   country_id_5  country_id_6  \n",
       "0             0             0  \n",
       "1             0             0  \n",
       "2             0             0  \n",
       "3             0             0  \n",
       "4             0             0  "
      ]
     },
     "execution_count": 7,
     "metadata": {},
     "output_type": "execute_result"
    }
   ],
   "source": [
    "first_day.head()"
   ]
  },
  {
   "cell_type": "code",
   "execution_count": 41,
   "metadata": {
    "collapsed": true,
    "deletable": true,
    "editable": true
   },
   "outputs": [],
   "source": [
    "#Нормализую признаки\n",
    "normalizer = preprocessing.StandardScaler()\n",
    "data_real_norm_np = normalizer.fit_transform(first_day)\n",
    "data_real_norm_pd = pd.DataFrame(data=data_real_norm_np)"
   ]
  },
  {
   "cell_type": "code",
   "execution_count": 101,
   "metadata": {
    "collapsed": true,
    "deletable": true,
    "editable": true
   },
   "outputs": [],
   "source": [
    "#обучим\n",
    "X_train, X_test, y_train, y_test = train_test_split(data_real_norm_pd, answer, test_size = 0.3, random_state = 42)"
   ]
  },
  {
   "cell_type": "markdown",
   "metadata": {},
   "source": [
    "## LogisticRegression "
   ]
  },
  {
   "cell_type": "code",
   "execution_count": 102,
   "metadata": {
    "collapsed": false,
    "deletable": true,
    "editable": true
   },
   "outputs": [
    {
     "name": "stdout",
     "output_type": "stream",
     "text": [
      "Логистическая регрессия, нормализованные данные.\n",
      "Класс платильщиков: Precision =  0.0294 Recall =  0.0001 Fмера =  0.0003\n",
      "Класс бесплатных:   Precision =  0.9887 Recall =  0.9999 Fмера =  0.9943\n",
      "TP =  1 \t FP =  33\n",
      "FN = 6728 \t TN =  587477\n"
     ]
    }
   ],
   "source": [
    "#print('ROC-AUC = ', metrics.roc_auc_score(y_test, LogReg.predict_proba(X_test)[:, 1]))\n",
    "print('Логистическая регрессия, нормализованные данные.')\n",
    "LogReg = LogisticRegression()\n",
    "LogReg.fit(X_train, y_train)\n",
    "tn, fp, fn, tp = metrics.confusion_matrix(y_test, LogReg.predict(X_test)).ravel()\n",
    "print('Класс платильщиков: Precision = ', round(tp/(tp + fp), 4), 'Recall = ', round(tp/(tp +fn), 4),\n",
    "      'Fмера = ', round(2*tp/(tp+ fp)*tp/(tp +fn)/(tp/(tp+ fp) + tp/(tp +fn)), 4) )\n",
    "print('Класс бесплатных:   Precision = ', round(tn/(fn + tn), 4), 'Recall = ', round(tn/(tn +fp), 4),\n",
    "      'Fмера = ', round(2*tn/(fn + tn)*tn/(tn +fp)/(tn/(fn + tn) + tn/(tn +fp)), 4) )\n",
    "print('TP = ', tp, '\\t FP = ', fp) \n",
    "print('FN =', fn, '\\t TN = ', tn)"
   ]
  },
  {
   "cell_type": "markdown",
   "metadata": {
    "deletable": true,
    "editable": true
   },
   "source": [
    "Классификатору не выгодно относить к классу платильщиков, потому что их очень мало. И почти все отнесены к другому классу. Поменяем веса в классификаторе. "
   ]
  },
  {
   "cell_type": "code",
   "execution_count": 93,
   "metadata": {
    "collapsed": false,
    "deletable": true,
    "editable": true
   },
   "outputs": [
    {
     "name": "stdout",
     "output_type": "stream",
     "text": [
      "Логистическая регрессия, нормализованные данные.\n",
      "Класс платильщиков: Precision =  0.0437 Recall =  0.825 Fмера =  0.083\n",
      "Класс бесплатных:   Precision =  0.9974 Recall =  0.7912 Fмера =  0.8824\n",
      "TP =  4672 \t FP =  102205\n",
      "FN = 991 \t TN =  387331\n"
     ]
    }
   ],
   "source": [
    "#print('ROC-AUC = ', metrics.roc_auc_score(y_test, LogReg.predict_proba(X_test)[:, 1]))\n",
    "print('Логистическая регрессия, нормализованные данные.')\n",
    "LogReg = LogisticRegression(class_weight = 'balanced')\n",
    "LogReg.fit(X_train, y_train)\n",
    "tn, fp, fn, tp = metrics.confusion_matrix(y_test, LogReg.predict(X_test)).ravel()\n",
    "print('Класс платильщиков: Precision = ', round(tp/(tp + fp), 4), 'Recall = ', round(tp/(tp +fn), 4),\n",
    "      'Fмера = ', round(2*tp/(tp+ fp)*tp/(tp +fn)/(tp/(tp+ fp) + tp/(tp +fn)), 4) )\n",
    "print('Класс бесплатных:   Precision = ', round(tn/(fn + tn), 4), 'Recall = ', round(tn/(tn +fp), 4),\n",
    "      'Fмера = ', round(2*tn/(fn + tn)*tn/(tn +fp)/(tn/(fn + tn) + tn/(tn +fp)), 4) )\n",
    "print('TP = ', tp, '\\t FP = ', fp) \n",
    "print('FN =', fn, '\\t TN = ', tn)"
   ]
  },
  {
   "cell_type": "markdown",
   "metadata": {
    "deletable": true,
    "editable": true
   },
   "source": [
    "Уже лучше. В каком-то смысле. Попробуем что-нибудь еще."
   ]
  },
  {
   "cell_type": "code",
   "execution_count": 81,
   "metadata": {
    "collapsed": false,
    "deletable": true,
    "editable": true
   },
   "outputs": [
    {
     "data": {
      "text/plain": [
       "SGDClassifier(alpha=0.05, average=False, class_weight='balanced', epsilon=0.1,\n",
       "       eta0=0.0, fit_intercept=True, l1_ratio=0.15,\n",
       "       learning_rate='optimal', loss='log', n_iter=200, n_jobs=1,\n",
       "       penalty='l2', power_t=0.5, random_state=None, shuffle=True,\n",
       "       verbose=0, warm_start=False)"
      ]
     },
     "execution_count": 81,
     "metadata": {},
     "output_type": "execute_result"
    }
   ],
   "source": [
    "lr_sgd = SGDClassifier(loss=\"log\", alpha=0.05, n_iter=200, fit_intercept=True, class_weight = 'balanced')\n",
    "lr_sgd.fit(X_train, y_train)"
   ]
  },
  {
   "cell_type": "code",
   "execution_count": 82,
   "metadata": {
    "collapsed": false,
    "deletable": true,
    "editable": true
   },
   "outputs": [
    {
     "name": "stdout",
     "output_type": "stream",
     "text": [
      "SGDClassifier, нормализованные данные.\n",
      "Класс платильщиков: Precision =  0.044 Recall =  0.8199 Fмера =  0.0836\n",
      "Класс бесплатных:   Precision =  0.9974 Recall =  0.7961 Fмера =  0.8855\n",
      "TP =  5517 \t FP =  119785\n",
      "FN = 1212 \t TN =  467725\n"
     ]
    }
   ],
   "source": [
    "#print('ROC-AUC = ', metrics.roc_auc_score(y_test, lr_sgd.predict_proba(X_test)[:, 1]))\n",
    "print('SGDClassifier, нормализованные данные.')\n",
    "tn, fp, fn, tp = metrics.confusion_matrix(y_test, lr_sgd.predict(X_test)).ravel()\n",
    "print('Класс платильщиков: Precision = ', round(tp/(tp + fp), 4), 'Recall = ', round(tp/(tp +fn), 4),\n",
    "      'Fмера = ', round(2 * tp/(tp + fp) * tp / (tp + fn)/(tp / (tp + fp) + tp/(tp +fn)), 4) )\n",
    "print('Класс бесплатных:   Precision = ', round(tn/(fn + tn), 4), 'Recall = ', round(tn/(tn +fp), 4),\n",
    "      'Fмера = ', round(2*tn/(fn + tn)*tn/(tn +fp)/(tn/(fn + tn) + tn/(tn +fp)), 4) )\n",
    "print('TP = ', tp, '\\t FP = ', fp) \n",
    "print('FN =', fn, '\\t TN = ', tn)"
   ]
  },
  {
   "cell_type": "code",
   "execution_count": 8,
   "metadata": {
    "collapsed": true,
    "deletable": true,
    "editable": true
   },
   "outputs": [],
   "source": [
    "#обучим на начальной начальной выборке\n",
    "X_train, X_test, y_train, y_test = train_test_split(first_day, answer, test_size = 0.25, random_state = 42)"
   ]
  },
  {
   "cell_type": "markdown",
   "metadata": {
    "deletable": true,
    "editable": true
   },
   "source": [
    "Так как одного класса существенно меньше чем другого, проверим ровно ли доля ответов в тестовой и тренировочной выборке."
   ]
  },
  {
   "cell_type": "code",
   "execution_count": 9,
   "metadata": {
    "collapsed": false,
    "deletable": true,
    "editable": true,
    "scrolled": false
   },
   "outputs": [
    {
     "name": "stdout",
     "output_type": "stream",
     "text": [
      "Тренировочная: 0.9887681517935214\n",
      "Тестовая: 0.9885641933848817\n"
     ]
    }
   ],
   "source": [
    "print('Тренировочная:', y_train[y_train == 0].shape[0]/y_train.shape[0])\n",
    "print('Тестовая:', y_test[y_test == 0].shape[0]/y_test.shape[0])"
   ]
  },
  {
   "cell_type": "markdown",
   "metadata": {
    "deletable": true,
    "editable": true
   },
   "source": [
    "С разбиением по классам все хорошо.\n",
    "Объектов положительного класса очень мало, попробуем сбалансированный веса."
   ]
  },
  {
   "cell_type": "code",
   "execution_count": 86,
   "metadata": {
    "collapsed": false,
    "deletable": true,
    "editable": true,
    "scrolled": true
   },
   "outputs": [
    {
     "name": "stdout",
     "output_type": "stream",
     "text": [
      "Логистическая регрессия, обычные данные.\n",
      "             precision    recall  f1-score   support\n",
      "\n",
      "Не заплатит       1.00      0.79      0.88    489536\n",
      "   Заплатит       0.04      0.83      0.08      5663\n",
      "\n",
      "avg / total       0.99      0.79      0.87    495199\n",
      "\n",
      "[[387331    991]\n",
      " [102205   4672]]\n"
     ]
    }
   ],
   "source": [
    "print('Логистическая регрессия, обычные данные.')\n",
    "LogReg = LogisticRegression(class_weight = 'balanced')\n",
    "LogReg.fit(X_train, y_train)\n",
    "print(metrics.classification_report(y_test, LogReg.predict(X_test), target_names = ['Не заплатит', 'Заплатит']))\n",
    "print(metrics.confusion_matrix(y_test, LogReg.predict(X_test)).T)"
   ]
  },
  {
   "cell_type": "code",
   "execution_count": 32,
   "metadata": {
    "collapsed": false
   },
   "outputs": [
    {
     "name": "stdout",
     "output_type": "stream",
     "text": [
      "Логистическая регрессия, обычные данные.\n",
      "             precision    recall  f1-score   support\n",
      "\n",
      "Не заплатит       0.99      0.90      0.95    489536\n",
      "   Заплатит       0.07      0.60      0.12      5663\n",
      "\n",
      "avg / total       0.98      0.90      0.94    495199\n",
      "\n",
      "[[442722   2239]\n",
      " [ 46814   3424]]\n"
     ]
    }
   ],
   "source": [
    "print('Логистическая регрессия, обычные данные.')\n",
    "LogReg = LogisticRegression(class_weight = {0:0.03, 1: 1})\n",
    "LogReg.fit(X_train, y_train)\n",
    "print(metrics.classification_report(y_test, LogReg.predict(X_test), target_names = ['Не заплатит', 'Заплатит']))\n",
    "print(metrics.confusion_matrix(y_test, LogReg.predict(X_test)).T)"
   ]
  },
  {
   "cell_type": "markdown",
   "metadata": {
    "deletable": true,
    "editable": true
   },
   "source": [
    "Подберем вес классов."
   ]
  },
  {
   "cell_type": "code",
   "execution_count": 89,
   "metadata": {
    "collapsed": false,
    "deletable": true,
    "editable": true
   },
   "outputs": [
    {
     "name": "stdout",
     "output_type": "stream",
     "text": [
      "Fitting 3 folds for each of 5 candidates, totalling 15 fits\n"
     ]
    },
    {
     "name": "stderr",
     "output_type": "stream",
     "text": [
      "[Parallel(n_jobs=1)]: Done  15 out of  15 | elapsed:  7.5min finished\n"
     ]
    },
    {
     "data": {
      "text/plain": [
       "GridSearchCV(cv=None, error_score='raise',\n",
       "       estimator=LogisticRegression(C=1.0, class_weight=None, dual=False, fit_intercept=True,\n",
       "          intercept_scaling=1, max_iter=100, multi_class='ovr', n_jobs=1,\n",
       "          penalty='l2', random_state=None, solver='liblinear', tol=0.0001,\n",
       "          verbose=0, warm_start=False),\n",
       "       fit_params={}, iid=True, n_jobs=1,\n",
       "       param_grid={'class_weight': [{0: 0.5, 1: 1}, {0: 0.2, 1: 1}, {0: 0.1, 1: 1}, {0: 0.05, 1: 1}, 'balanced']},\n",
       "       pre_dispatch='2*n_jobs', refit=True, return_train_score=True,\n",
       "       scoring='f1_macro', verbose=True)"
      ]
     },
     "execution_count": 89,
     "metadata": {},
     "output_type": "execute_result"
    }
   ],
   "source": [
    "params = {\n",
    "    'class_weight': [{0: 0.5, 1: 1}, {0: 0.2, 1: 1}, {0: 0.1, 1: 1}, {0:0.05, 1:1}, 'balanced'],\n",
    "}\n",
    "\n",
    "LogRegGrid = GridSearchCV(LogisticRegression(), params, scoring='f1_macro', verbose =True)\n",
    "LogRegGrid.fit(X_train, y_train)"
   ]
  },
  {
   "cell_type": "code",
   "execution_count": 91,
   "metadata": {
    "collapsed": false,
    "deletable": true,
    "editable": true
   },
   "outputs": [
    {
     "data": {
      "text/plain": [
       "{'class_weight': {0: 0.1, 1: 1}}"
      ]
     },
     "execution_count": 91,
     "metadata": {},
     "output_type": "execute_result"
    }
   ],
   "source": [
    "LogRegGrid.best_params_ #лучший вес"
   ]
  },
  {
   "cell_type": "code",
   "execution_count": 92,
   "metadata": {
    "collapsed": false,
    "deletable": true,
    "editable": true
   },
   "outputs": [
    {
     "name": "stdout",
     "output_type": "stream",
     "text": [
      "Логистическая регрессия, обычные данные. Вес 0:0.1, 1: 1.\n",
      "             precision    recall  f1-score   support\n",
      "\n",
      "Не заплатит       0.99      0.98      0.98    489536\n",
      "   Заплатит       0.10      0.22      0.14      5663\n",
      "\n",
      "avg / total       0.98      0.97      0.97    495199\n",
      "\n",
      "[[478869   4426]\n",
      " [ 10667   1237]]\n"
     ]
    }
   ],
   "source": [
    "print('Логистическая регрессия, обычные данные. Вес 0:0.1, 1: 1.')\n",
    "LogReg = LogisticRegression(class_weight = {0: 0.1, 1: 1})\n",
    "LogReg.fit(X_train, y_train)\n",
    "print(metrics.classification_report(y_test, LogReg.predict(X_test), target_names = ['Не заплатит', 'Заплатит']))\n",
    "print(metrics.confusion_matrix(y_test, LogReg.predict(X_test)).T)"
   ]
  },
  {
   "cell_type": "markdown",
   "metadata": {
    "deletable": true,
    "editable": true
   },
   "source": [
    "### Пока лучший результат.\n",
    "По данному предсказанию каждый 10 отмеченный платильщик будет верно определен. И всего должно быть отмечено 22% платильшиков. (вроде деревьями потом будет лучше)"
   ]
  },
  {
   "cell_type": "markdown",
   "metadata": {},
   "source": [
    "### SGDClassifier."
   ]
  },
  {
   "cell_type": "code",
   "execution_count": 16,
   "metadata": {
    "collapsed": false,
    "deletable": true,
    "editable": true,
    "scrolled": true
   },
   "outputs": [
    {
     "name": "stdout",
     "output_type": "stream",
     "text": [
      "SGDClassifier, обычные данные.\n",
      "             precision    recall  f1-score   support\n",
      "\n",
      "Не заплатит       0.99      1.00      0.99    587510\n",
      "   Заплатит       0.04      0.00      0.01      6729\n",
      "\n",
      "avg / total       0.98      0.99      0.98    594239\n",
      "\n",
      "[[587019   6707]\n",
      " [   491     22]]\n"
     ]
    }
   ],
   "source": [
    "print('SGDClassifier, обычные данные.')\n",
    "lr_sgd = SGDClassifier(loss=\"log\", alpha=0.05, n_iter=200, fit_intercept=True)\n",
    "lr_sgd.fit(X_train, y_train)\n",
    "tn, fp, fn, tp = metrics.confusion_matrix(y_test, lr_sgd.predict(X_test)).ravel()\n",
    "print(metrics.classification_report(y_test, lr_sgd.predict(X_test), target_names = ['Не заплатит', 'Заплатит']))\n",
    "print(metrics.confusion_matrix(y_test, lr_sgd.predict(X_test)).T)"
   ]
  },
  {
   "cell_type": "code",
   "execution_count": 11,
   "metadata": {
    "collapsed": true,
    "deletable": true,
    "editable": true
   },
   "outputs": [],
   "source": [
    "from sklearn.model_selection import GridSearchCV\n",
    "from sklearn.tree import DecisionTreeClassifier"
   ]
  },
  {
   "cell_type": "markdown",
   "metadata": {},
   "source": [
    "## DecisionTreeClassifier\n",
    "Попробум использовать деревья. Сразу вес поставим сбалансированный."
   ]
  },
  {
   "cell_type": "code",
   "execution_count": 106,
   "metadata": {
    "collapsed": false,
    "deletable": true,
    "editable": true
   },
   "outputs": [
    {
     "name": "stdout",
     "output_type": "stream",
     "text": [
      "DecisionTreeClassifier, обычные данные.\n",
      "             precision    recall  f1-score   support\n",
      "\n",
      "Не заплатит       0.99      0.99      0.99    489536\n",
      "   Заплатит       0.06      0.05      0.06      5663\n",
      "\n",
      "avg / total       0.98      0.98      0.98    495199\n",
      "\n",
      "[[484666   5359]\n",
      " [  4870    304]]\n"
     ]
    }
   ],
   "source": [
    "DTC = DecisionTreeClassifier(class_weight = 'balanced')\n",
    "DTC.fit(X_train, y_train)\n",
    "print('DecisionTreeClassifier, обычные данные.')\n",
    "print(metrics.classification_report(y_test, DTC.predict(X_test), target_names = ['Не заплатит', 'Заплатит']))\n",
    "print(metrics.confusion_matrix(y_test, DTC.predict(X_test)).T)"
   ]
  },
  {
   "cell_type": "markdown",
   "metadata": {
    "deletable": true,
    "editable": true
   },
   "source": [
    "Теперь настроим параметры дерева на кросс-валидации. Настраивать будем максимальную глубину, максимальное используемое на каждом разбиении число признаков и вес классов."
   ]
  },
  {
   "cell_type": "code",
   "execution_count": 132,
   "metadata": {
    "collapsed": true,
    "deletable": true,
    "editable": true
   },
   "outputs": [],
   "source": [
    "tree_params = {'max_depth': range(1,11), 'max_features': range(4,11), 'class_weight': [{0: 0.5, 1: 1}, {0: 0.2, 1: 1}, {0: 0.1, 1: 1}, {0:0.05, 1:1}, 'balanced']}"
   ]
  },
  {
   "cell_type": "code",
   "execution_count": 135,
   "metadata": {
    "collapsed": true,
    "deletable": true,
    "editable": true
   },
   "outputs": [],
   "source": [
    "tree_grid = GridSearchCV(DecisionTreeClassifier(), tree_params, cv=3, scoring='f1_micro', verbose = True)"
   ]
  },
  {
   "cell_type": "code",
   "execution_count": 136,
   "metadata": {
    "collapsed": false,
    "deletable": true,
    "editable": true
   },
   "outputs": [
    {
     "name": "stdout",
     "output_type": "stream",
     "text": [
      "Fitting 3 folds for each of 350 candidates, totalling 1050 fits\n"
     ]
    },
    {
     "name": "stderr",
     "output_type": "stream",
     "text": [
      "[Parallel(n_jobs=1)]: Done 1050 out of 1050 | elapsed: 106.1min finished\n"
     ]
    },
    {
     "data": {
      "text/plain": [
       "GridSearchCV(cv=3, error_score='raise',\n",
       "       estimator=DecisionTreeClassifier(class_weight=None, criterion='gini', max_depth=None,\n",
       "            max_features=None, max_leaf_nodes=None,\n",
       "            min_impurity_split=1e-07, min_samples_leaf=1,\n",
       "            min_samples_split=2, min_weight_fraction_leaf=0.0,\n",
       "            presort=False, random_state=None, splitter='best'),\n",
       "       fit_params={}, iid=True, n_jobs=1,\n",
       "       param_grid={'max_depth': range(1, 11), 'max_features': range(4, 11), 'class_weight': [{0: 0.5, 1: 1}, {0: 0.2, 1: 1}, {0: 0.1, 1: 1}, {0: 0.05, 1: 1}, 'balanced']},\n",
       "       pre_dispatch='2*n_jobs', refit=True, return_train_score=True,\n",
       "       scoring='f1_micro', verbose=True)"
      ]
     },
     "execution_count": 136,
     "metadata": {},
     "output_type": "execute_result"
    }
   ],
   "source": [
    "tree_grid.fit(X_train, y_train)"
   ]
  },
  {
   "cell_type": "code",
   "execution_count": 137,
   "metadata": {
    "collapsed": false,
    "deletable": true,
    "editable": true
   },
   "outputs": [
    {
     "data": {
      "text/plain": [
       "{'class_weight': {0: 0.5, 1: 1}, 'max_depth': 1, 'max_features': 4}"
      ]
     },
     "execution_count": 137,
     "metadata": {},
     "output_type": "execute_result"
    }
   ],
   "source": [
    "tree_grid.best_params_"
   ]
  },
  {
   "cell_type": "code",
   "execution_count": 13,
   "metadata": {
    "collapsed": false,
    "deletable": true,
    "editable": true
   },
   "outputs": [
    {
     "name": "stdout",
     "output_type": "stream",
     "text": [
      "DecisionTreeClassifier, обычные данные.\n"
     ]
    },
    {
     "name": "stderr",
     "output_type": "stream",
     "text": [
      "/usr/local/lib/python3.5/dist-packages/sklearn/metrics/classification.py:1135: UndefinedMetricWarning: Precision and F-score are ill-defined and being set to 0.0 in labels with no predicted samples.\n",
      "  'precision', 'predicted', average, warn_for)\n"
     ]
    },
    {
     "name": "stdout",
     "output_type": "stream",
     "text": [
      "             precision    recall  f1-score   support\n",
      "\n",
      "Не заплатит       0.99      1.00      0.99    489536\n",
      "   Заплатит       0.00      0.00      0.00      5663\n",
      "\n",
      "avg / total       0.98      0.99      0.98    495199\n",
      "\n",
      "[[489536   5663]\n",
      " [     0      0]]\n"
     ]
    }
   ],
   "source": [
    "DTC = DecisionTreeClassifier(max_depth = 1, max_features = 4, class_weight = {0: 0.5, 1: 1})\n",
    "DTC.fit(X_train, y_train)\n",
    "print('DecisionTreeClassifier, обычные данные.')\n",
    "print(metrics.classification_report(y_test, DTC.predict(X_test), target_names = ['Не заплатит', 'Заплатит']))\n",
    "print(metrics.confusion_matrix(y_test, DTC.predict(X_test)).T)"
   ]
  },
  {
   "cell_type": "markdown",
   "metadata": {
    "deletable": true,
    "editable": true
   },
   "source": [
    "Стало хуже. Все отнеслось к одному классу. Потому что параметры настраивались по F1-микро. Попробуем F1-макро. Это среднее от F мер."
   ]
  },
  {
   "cell_type": "code",
   "execution_count": 14,
   "metadata": {
    "collapsed": true
   },
   "outputs": [],
   "source": [
    "tree_params2 = {'max_depth': range(2,9), 'max_features': range(4,9), 'class_weight': [{0: 0.5, 1: 1}, {0: 0.2, 1: 1}, {0: 0.1, 1: 1}, 'balanced']}"
   ]
  },
  {
   "cell_type": "code",
   "execution_count": 15,
   "metadata": {
    "collapsed": true
   },
   "outputs": [],
   "source": [
    "tree_grid = GridSearchCV(DecisionTreeClassifier(), tree_params2, scoring='f1_macro', verbose = True)\n",
    "tree_grid.fit(X_train, y_train)"
   ]
  },
  {
   "cell_type": "code",
   "execution_count": 17,
   "metadata": {
    "collapsed": false
   },
   "outputs": [
    {
     "data": {
      "text/plain": [
       "{'class_weight': {0: 0.1, 1: 1}, 'max_depth': 8, 'max_features': 6}"
      ]
     },
     "execution_count": 17,
     "metadata": {},
     "output_type": "execute_result"
    }
   ],
   "source": [
    "tree_grid.best_params_ #лучшие параметры"
   ]
  },
  {
   "cell_type": "code",
   "execution_count": 20,
   "metadata": {
    "collapsed": false,
    "scrolled": false
   },
   "outputs": [
    {
     "name": "stdout",
     "output_type": "stream",
     "text": [
      "DecisionTreeClassifier, обычные данные.\n",
      "             precision    recall  f1-score   support\n",
      "\n",
      "Не заплатит       0.99      0.98      0.98    489536\n",
      "   Заплатит       0.11      0.22      0.15      5663\n",
      "\n",
      "avg / total       0.98      0.97      0.98    495199\n",
      "\n",
      "[[479242   4395]\n",
      " [ 10294   1268]]\n"
     ]
    }
   ],
   "source": [
    "DTC = DecisionTreeClassifier(max_depth = 8, max_features = 6, class_weight = {0: 0.1, 1: 1})\n",
    "DTC.fit(X_train, y_train)\n",
    "print('DecisionTreeClassifier, обычные данные.')\n",
    "print(metrics.classification_report(y_test, DTC.predict(X_test), target_names = ['Не заплатит', 'Заплатит']))\n",
    "print(metrics.confusion_matrix(y_test, DTC.predict(X_test)).T)"
   ]
  },
  {
   "cell_type": "markdown",
   "metadata": {},
   "source": [
    "Результат очень похож на линейный классификатор, но чуть-чуть лучше."
   ]
  },
  {
   "cell_type": "code",
   "execution_count": 30,
   "metadata": {
    "collapsed": false
   },
   "outputs": [
    {
     "name": "stdout",
     "output_type": "stream",
     "text": [
      "Вероятность случайно выбрать платильщика 0.011435806615118366\n",
      "Если предсказано, что не заплатит, то вероятность платильщика 0.00908739405794015\n",
      "Если предсказано, что заплатит, то вероятность платильщика 0.10966960733437121\n"
     ]
    }
   ],
   "source": [
    "print('Вероятность случайно выбрать платильщика', y_test[y_test == 1].shape[0]/y_test.shape[0])\n",
    "print('Если предсказано, что не заплатит, то вероятность платильщика', 4395/(479242+4395))\n",
    "print('Если предсказано, что заплатит, то вероятность платильщика', 1268/(10294+1268))"
   ]
  },
  {
   "cell_type": "code",
   "execution_count": 22,
   "metadata": {
    "collapsed": false,
    "scrolled": true
   },
   "outputs": [
    {
     "name": "stdout",
     "output_type": "stream",
     "text": [
      "clusters_ml_ended 0.0185462842568\n",
      "quests_end 0.532020200387\n",
      "m_quests_end 0.0151493125587\n",
      "amount_visits 0.004754210924\n",
      "session_length 0.017661149693\n",
      "average_visit 0.00818629116323\n",
      "number_of_pgr 0.0431335491842\n",
      "first_session_start 0.0483941650371\n",
      "first_session_end 0.0171107146099\n",
      "country_id_0 0.0\n",
      "country_id_1 0.221742527963\n",
      "country_id_2 0.0361932828017\n",
      "country_id_3 0.0241206212164\n",
      "country_id_4 0.00364452083475\n",
      "country_id_5 0.0061506010801\n",
      "country_id_6 0.00319256828989\n"
     ]
    }
   ],
   "source": [
    "for name, importance in zip(first_day.columns, DTC.feature_importances_):\n",
    "    print(name, importance)"
   ]
  },
  {
   "cell_type": "code",
   "execution_count": null,
   "metadata": {
    "collapsed": true
   },
   "outputs": [],
   "source": []
  },
  {
   "cell_type": "code",
   "execution_count": null,
   "metadata": {
    "collapsed": true
   },
   "outputs": [],
   "source": []
  },
  {
   "cell_type": "code",
   "execution_count": 11,
   "metadata": {
    "collapsed": false,
    "deletable": true,
    "editable": true
   },
   "outputs": [
    {
     "name": "stdout",
     "output_type": "stream",
     "text": [
      "             precision    recall  f1-score   support\n",
      "\n",
      "Не заплатит       0.99      1.00      0.99    587510\n",
      "   Заплатит       0.18      0.00      0.00      6729\n",
      "\n",
      "avg / total       0.98      0.99      0.98    594239\n",
      "\n",
      "[[587501   6727]\n",
      " [     9      2]]\n"
     ]
    }
   ],
   "source": [
    "from sklearn.ensemble import GradientBoostingClassifier\n",
    "\n",
    "GBC = GradientBoostingClassifier()\n",
    "GBC.fit(X_train, y_train)\n",
    "print(metrics.classification_report(y_test, GBC.predict(X_test), target_names = ['Не заплатит', 'Заплатит']))\n",
    "print(metrics.confusion_matrix(y_test, GBC.predict(X_test)).T)"
   ]
  },
  {
   "cell_type": "code",
   "execution_count": 13,
   "metadata": {
    "collapsed": false,
    "deletable": true,
    "editable": true
   },
   "outputs": [
    {
     "name": "stdout",
     "output_type": "stream",
     "text": [
      "clusters_ml_ended 0.0729183285362\n",
      "quests_end 0.152841964259\n",
      "m_quests_end 0.0697317826953\n",
      "amount_visits 0.0750753296404\n",
      "session_length 0.149164694322\n",
      "average_visit 0.0633944776253\n",
      "number_of_pgr 0.0714957669596\n",
      "first_session_start 0.0921246171028\n",
      "first_session_end 0.103126880495\n",
      "country_id_0 0.0\n",
      "country_id_1 0.0467701770801\n",
      "country_id_2 0.0374242398058\n",
      "country_id_3 0.0268062859851\n",
      "country_id_4 0.00569220386276\n",
      "country_id_5 0.0312818397184\n",
      "country_id_6 0.00215141191142\n"
     ]
    }
   ],
   "source": [
    "for name, importance in zip(first_day.columns, GBC.feature_importances_):\n",
    "    print(name, importance)"
   ]
  },
  {
   "cell_type": "code",
   "execution_count": null,
   "metadata": {
    "collapsed": true,
    "deletable": true,
    "editable": true
   },
   "outputs": [],
   "source": []
  }
 ],
 "metadata": {
  "kernelspec": {
   "display_name": "Python 3",
   "language": "python",
   "name": "python3"
  },
  "language_info": {
   "codemirror_mode": {
    "name": "ipython",
    "version": 3
   },
   "file_extension": ".py",
   "mimetype": "text/x-python",
   "name": "python",
   "nbconvert_exporter": "python",
   "pygments_lexer": "ipython3",
   "version": "3.5.2"
  }
 },
 "nbformat": 4,
 "nbformat_minor": 2
}
